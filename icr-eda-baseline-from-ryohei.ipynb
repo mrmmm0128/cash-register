{
 "cells": [
  {
   "cell_type": "code",
   "execution_count": 1,
   "id": "86632db6",
   "metadata": {
    "_cell_guid": "b1076dfc-b9ad-4769-8c92-a6c4dae69d19",
    "_uuid": "8f2839f25d086af736a60e9eeb907d3b93b6e0e5",
    "execution": {
     "iopub.execute_input": "2023-05-27T02:38:35.866844Z",
     "iopub.status.busy": "2023-05-27T02:38:35.866111Z",
     "iopub.status.idle": "2023-05-27T02:38:38.862030Z",
     "shell.execute_reply": "2023-05-27T02:38:38.860603Z"
    },
    "papermill": {
     "duration": 3.008828,
     "end_time": "2023-05-27T02:38:38.864392",
     "exception": false,
     "start_time": "2023-05-27T02:38:35.855564",
     "status": "completed"
    },
    "tags": []
   },
   "outputs": [
    {
     "name": "stderr",
     "output_type": "stream",
     "text": [
      "/opt/conda/lib/python3.10/site-packages/scipy/__init__.py:146: UserWarning: A NumPy version >=1.16.5 and <1.23.0 is required for this version of SciPy (detected version 1.23.5\n",
      "  warnings.warn(f\"A NumPy version >={np_minversion} and <{np_maxversion}\"\n"
     ]
    },
    {
     "name": "stdout",
     "output_type": "stream",
     "text": [
      "/kaggle/input/icr-identify-age-related-conditions/sample_submission.csv\n",
      "/kaggle/input/icr-identify-age-related-conditions/greeks.csv\n",
      "/kaggle/input/icr-identify-age-related-conditions/train.csv\n",
      "/kaggle/input/icr-identify-age-related-conditions/test.csv\n"
     ]
    }
   ],
   "source": [
    "# This Python 3 environment comes with many helpful analytics libraries installed\n",
    "# It is defined by the kaggle/python Docker image: https://github.com/kaggle/docker-python\n",
    "# For example, here's several helpful packages to load\n",
    "\n",
    "import numpy as np\n",
    "import pandas as pd\n",
    "import optuna\n",
    "from sklearn import datasets, metrics\n",
    "from sklearn.model_selection import KFold, StratifiedKFold,GridSearchCV\n",
    "from sklearn.preprocessing import StandardScaler, MinMaxScaler\n",
    "from sklearn.ensemble import RandomForestClassifier\n",
    "from sklearn.svm import SVC\n",
    "from statistics import mean\n",
    "import matplotlib.pyplot as plt\n",
    "import seaborn as sns\n",
    "%matplotlib inline\n",
    "\n",
    "\n",
    "# Input data files are available in the read-only \"../input/\" directory\n",
    "# For example, running this (by clicking run or pressing Shift+Enter) will list all files under the input directory\n",
    "\n",
    "import os\n",
    "for dirname, _, filenames in os.walk('/kaggle/input'):\n",
    "    for filename in filenames:\n",
    "        print(os.path.join(dirname, filename))\n",
    "\n",
    "# You can write up to 20GB to the current directory (/kaggle/working/) that gets preserved as output when you create a version using \"Save & Run All\" \n",
    "# You can also write temporary files to /kaggle/temp/, but they won't be saved outside of the current session"
   ]
  },
  {
   "cell_type": "code",
   "execution_count": 2,
   "id": "e02fe869",
   "metadata": {
    "execution": {
     "iopub.execute_input": "2023-05-27T02:38:38.884124Z",
     "iopub.status.busy": "2023-05-27T02:38:38.883686Z",
     "iopub.status.idle": "2023-05-27T02:38:38.946457Z",
     "shell.execute_reply": "2023-05-27T02:38:38.945501Z"
    },
    "papermill": {
     "duration": 0.075926,
     "end_time": "2023-05-27T02:38:38.949389",
     "exception": false,
     "start_time": "2023-05-27T02:38:38.873463",
     "status": "completed"
    },
    "tags": []
   },
   "outputs": [],
   "source": [
    "train_df=pd.read_csv('/kaggle/input/icr-identify-age-related-conditions/train.csv')\n",
    "test_df=pd.read_csv('/kaggle/input/icr-identify-age-related-conditions/test.csv')\n",
    "greeks_df=pd.read_csv('/kaggle/input/icr-identify-age-related-conditions/greeks.csv')\n",
    "test_Id=test_df[\"Id\"]"
   ]
  },
  {
   "cell_type": "code",
   "execution_count": 3,
   "id": "eb05c5f5",
   "metadata": {
    "execution": {
     "iopub.execute_input": "2023-05-27T02:38:38.971623Z",
     "iopub.status.busy": "2023-05-27T02:38:38.970067Z",
     "iopub.status.idle": "2023-05-27T02:38:39.170400Z",
     "shell.execute_reply": "2023-05-27T02:38:39.169230Z"
    },
    "papermill": {
     "duration": 0.215325,
     "end_time": "2023-05-27T02:38:39.173414",
     "exception": false,
     "start_time": "2023-05-27T02:38:38.958089",
     "status": "completed"
    },
    "tags": []
   },
   "outputs": [],
   "source": [
    "from sklearn.model_selection import KFold,StratifiedKFold,train_test_split,GridSearchCV\n",
    "from sklearn.metrics import roc_auc_score,accuracy_score,confusion_matrix,ConfusionMatrixDisplay,RocCurveDisplay\n",
    "\n",
    "import time \n",
    "from xgboost import XGBClassifier\n",
    "from sklearn.metrics import log_loss"
   ]
  },
  {
   "cell_type": "code",
   "execution_count": 4,
   "id": "680f4d9a",
   "metadata": {
    "execution": {
     "iopub.execute_input": "2023-05-27T02:38:39.192712Z",
     "iopub.status.busy": "2023-05-27T02:38:39.192285Z",
     "iopub.status.idle": "2023-05-27T02:38:39.239238Z",
     "shell.execute_reply": "2023-05-27T02:38:39.237708Z"
    },
    "papermill": {
     "duration": 0.060062,
     "end_time": "2023-05-27T02:38:39.241986",
     "exception": false,
     "start_time": "2023-05-27T02:38:39.181924",
     "status": "completed"
    },
    "tags": []
   },
   "outputs": [
    {
     "data": {
      "text/html": [
       "<div>\n",
       "<style scoped>\n",
       "    .dataframe tbody tr th:only-of-type {\n",
       "        vertical-align: middle;\n",
       "    }\n",
       "\n",
       "    .dataframe tbody tr th {\n",
       "        vertical-align: top;\n",
       "    }\n",
       "\n",
       "    .dataframe thead th {\n",
       "        text-align: right;\n",
       "    }\n",
       "</style>\n",
       "<table border=\"1\" class=\"dataframe\">\n",
       "  <thead>\n",
       "    <tr style=\"text-align: right;\">\n",
       "      <th></th>\n",
       "      <th>Id</th>\n",
       "      <th>AB</th>\n",
       "      <th>AF</th>\n",
       "      <th>AH</th>\n",
       "      <th>AM</th>\n",
       "      <th>AR</th>\n",
       "      <th>AX</th>\n",
       "      <th>AY</th>\n",
       "      <th>AZ</th>\n",
       "      <th>BC</th>\n",
       "      <th>...</th>\n",
       "      <th>FL</th>\n",
       "      <th>FR</th>\n",
       "      <th>FS</th>\n",
       "      <th>GB</th>\n",
       "      <th>GE</th>\n",
       "      <th>GF</th>\n",
       "      <th>GH</th>\n",
       "      <th>GI</th>\n",
       "      <th>GL</th>\n",
       "      <th>Class</th>\n",
       "    </tr>\n",
       "  </thead>\n",
       "  <tbody>\n",
       "    <tr>\n",
       "      <th>0</th>\n",
       "      <td>000ff2bfdfe9</td>\n",
       "      <td>0.209377</td>\n",
       "      <td>3109.03329</td>\n",
       "      <td>85.200147</td>\n",
       "      <td>22.394407</td>\n",
       "      <td>8.138688</td>\n",
       "      <td>0.699861</td>\n",
       "      <td>0.025578</td>\n",
       "      <td>9.812214</td>\n",
       "      <td>5.555634</td>\n",
       "      <td>...</td>\n",
       "      <td>7.298162</td>\n",
       "      <td>1.73855</td>\n",
       "      <td>0.094822</td>\n",
       "      <td>11.339138</td>\n",
       "      <td>72.611063</td>\n",
       "      <td>2003.810319</td>\n",
       "      <td>22.136229</td>\n",
       "      <td>69.834944</td>\n",
       "      <td>0.120343</td>\n",
       "      <td>1</td>\n",
       "    </tr>\n",
       "    <tr>\n",
       "      <th>1</th>\n",
       "      <td>007255e47698</td>\n",
       "      <td>0.145282</td>\n",
       "      <td>978.76416</td>\n",
       "      <td>85.200147</td>\n",
       "      <td>36.968889</td>\n",
       "      <td>8.138688</td>\n",
       "      <td>3.632190</td>\n",
       "      <td>0.025578</td>\n",
       "      <td>13.517790</td>\n",
       "      <td>1.229900</td>\n",
       "      <td>...</td>\n",
       "      <td>0.173229</td>\n",
       "      <td>0.49706</td>\n",
       "      <td>0.568932</td>\n",
       "      <td>9.292698</td>\n",
       "      <td>72.611063</td>\n",
       "      <td>27981.562750</td>\n",
       "      <td>29.135430</td>\n",
       "      <td>32.131996</td>\n",
       "      <td>21.978000</td>\n",
       "      <td>0</td>\n",
       "    </tr>\n",
       "    <tr>\n",
       "      <th>2</th>\n",
       "      <td>013f2bd269f5</td>\n",
       "      <td>0.470030</td>\n",
       "      <td>2635.10654</td>\n",
       "      <td>85.200147</td>\n",
       "      <td>32.360553</td>\n",
       "      <td>8.138688</td>\n",
       "      <td>6.732840</td>\n",
       "      <td>0.025578</td>\n",
       "      <td>12.824570</td>\n",
       "      <td>1.229900</td>\n",
       "      <td>...</td>\n",
       "      <td>7.709560</td>\n",
       "      <td>0.97556</td>\n",
       "      <td>1.198821</td>\n",
       "      <td>37.077772</td>\n",
       "      <td>88.609437</td>\n",
       "      <td>13676.957810</td>\n",
       "      <td>28.022851</td>\n",
       "      <td>35.192676</td>\n",
       "      <td>0.196941</td>\n",
       "      <td>0</td>\n",
       "    </tr>\n",
       "    <tr>\n",
       "      <th>3</th>\n",
       "      <td>043ac50845d5</td>\n",
       "      <td>0.252107</td>\n",
       "      <td>3819.65177</td>\n",
       "      <td>120.201618</td>\n",
       "      <td>77.112203</td>\n",
       "      <td>8.138688</td>\n",
       "      <td>3.685344</td>\n",
       "      <td>0.025578</td>\n",
       "      <td>11.053708</td>\n",
       "      <td>1.229900</td>\n",
       "      <td>...</td>\n",
       "      <td>6.122162</td>\n",
       "      <td>0.49706</td>\n",
       "      <td>0.284466</td>\n",
       "      <td>18.529584</td>\n",
       "      <td>82.416803</td>\n",
       "      <td>2094.262452</td>\n",
       "      <td>39.948656</td>\n",
       "      <td>90.493248</td>\n",
       "      <td>0.155829</td>\n",
       "      <td>0</td>\n",
       "    </tr>\n",
       "    <tr>\n",
       "      <th>4</th>\n",
       "      <td>044fb8a146ec</td>\n",
       "      <td>0.380297</td>\n",
       "      <td>3733.04844</td>\n",
       "      <td>85.200147</td>\n",
       "      <td>14.103738</td>\n",
       "      <td>8.138688</td>\n",
       "      <td>3.942255</td>\n",
       "      <td>0.054810</td>\n",
       "      <td>3.396778</td>\n",
       "      <td>102.151980</td>\n",
       "      <td>...</td>\n",
       "      <td>8.153058</td>\n",
       "      <td>48.50134</td>\n",
       "      <td>0.121914</td>\n",
       "      <td>16.408728</td>\n",
       "      <td>146.109943</td>\n",
       "      <td>8524.370502</td>\n",
       "      <td>45.381316</td>\n",
       "      <td>36.262628</td>\n",
       "      <td>0.096614</td>\n",
       "      <td>1</td>\n",
       "    </tr>\n",
       "  </tbody>\n",
       "</table>\n",
       "<p>5 rows × 58 columns</p>\n",
       "</div>"
      ],
      "text/plain": [
       "             Id        AB          AF          AH         AM        AR  \\\n",
       "0  000ff2bfdfe9  0.209377  3109.03329   85.200147  22.394407  8.138688   \n",
       "1  007255e47698  0.145282   978.76416   85.200147  36.968889  8.138688   \n",
       "2  013f2bd269f5  0.470030  2635.10654   85.200147  32.360553  8.138688   \n",
       "3  043ac50845d5  0.252107  3819.65177  120.201618  77.112203  8.138688   \n",
       "4  044fb8a146ec  0.380297  3733.04844   85.200147  14.103738  8.138688   \n",
       "\n",
       "         AX        AY         AZ          BC  ...        FL        FR  \\\n",
       "0  0.699861  0.025578   9.812214    5.555634  ...  7.298162   1.73855   \n",
       "1  3.632190  0.025578  13.517790    1.229900  ...  0.173229   0.49706   \n",
       "2  6.732840  0.025578  12.824570    1.229900  ...  7.709560   0.97556   \n",
       "3  3.685344  0.025578  11.053708    1.229900  ...  6.122162   0.49706   \n",
       "4  3.942255  0.054810   3.396778  102.151980  ...  8.153058  48.50134   \n",
       "\n",
       "         FS         GB          GE            GF         GH         GI  \\\n",
       "0  0.094822  11.339138   72.611063   2003.810319  22.136229  69.834944   \n",
       "1  0.568932   9.292698   72.611063  27981.562750  29.135430  32.131996   \n",
       "2  1.198821  37.077772   88.609437  13676.957810  28.022851  35.192676   \n",
       "3  0.284466  18.529584   82.416803   2094.262452  39.948656  90.493248   \n",
       "4  0.121914  16.408728  146.109943   8524.370502  45.381316  36.262628   \n",
       "\n",
       "          GL  Class  \n",
       "0   0.120343      1  \n",
       "1  21.978000      0  \n",
       "2   0.196941      0  \n",
       "3   0.155829      0  \n",
       "4   0.096614      1  \n",
       "\n",
       "[5 rows x 58 columns]"
      ]
     },
     "execution_count": 4,
     "metadata": {},
     "output_type": "execute_result"
    }
   ],
   "source": [
    "train_df.head()"
   ]
  },
  {
   "cell_type": "code",
   "execution_count": 5,
   "id": "df0ac4f8",
   "metadata": {
    "execution": {
     "iopub.execute_input": "2023-05-27T02:38:39.262230Z",
     "iopub.status.busy": "2023-05-27T02:38:39.261780Z",
     "iopub.status.idle": "2023-05-27T02:38:39.272208Z",
     "shell.execute_reply": "2023-05-27T02:38:39.270944Z"
    },
    "papermill": {
     "duration": 0.023295,
     "end_time": "2023-05-27T02:38:39.274588",
     "exception": false,
     "start_time": "2023-05-27T02:38:39.251293",
     "status": "completed"
    },
    "tags": []
   },
   "outputs": [
    {
     "data": {
      "text/plain": [
       "Id        object\n",
       "AB       float64\n",
       "AF       float64\n",
       "AH       float64\n",
       "AM       float64\n",
       "AR       float64\n",
       "AX       float64\n",
       "AY       float64\n",
       "AZ       float64\n",
       "BC       float64\n",
       "BD       float64\n",
       "BN       float64\n",
       "BP       float64\n",
       "BQ       float64\n",
       "BR       float64\n",
       "BZ       float64\n",
       "CB       float64\n",
       "CC       float64\n",
       "CD       float64\n",
       "CF       float64\n",
       "CH       float64\n",
       "CL       float64\n",
       "CR       float64\n",
       "CS       float64\n",
       "CU       float64\n",
       "CW       float64\n",
       "DA       float64\n",
       "DE       float64\n",
       "DF       float64\n",
       "DH       float64\n",
       "DI       float64\n",
       "DL       float64\n",
       "DN       float64\n",
       "DU       float64\n",
       "DV       float64\n",
       "DY       float64\n",
       "EB       float64\n",
       "EE       float64\n",
       "EG       float64\n",
       "EH       float64\n",
       "EJ        object\n",
       "EL       float64\n",
       "EP       float64\n",
       "EU       float64\n",
       "FC       float64\n",
       "FD       float64\n",
       "FE       float64\n",
       "FI       float64\n",
       "FL       float64\n",
       "FR       float64\n",
       "FS       float64\n",
       "GB       float64\n",
       "GE       float64\n",
       "GF       float64\n",
       "GH       float64\n",
       "GI       float64\n",
       "GL       float64\n",
       "Class      int64\n",
       "dtype: object"
      ]
     },
     "execution_count": 5,
     "metadata": {},
     "output_type": "execute_result"
    }
   ],
   "source": [
    "train_df.dtypes"
   ]
  },
  {
   "cell_type": "code",
   "execution_count": 6,
   "id": "bb9b349c",
   "metadata": {
    "execution": {
     "iopub.execute_input": "2023-05-27T02:38:39.294820Z",
     "iopub.status.busy": "2023-05-27T02:38:39.294030Z",
     "iopub.status.idle": "2023-05-27T02:38:39.304198Z",
     "shell.execute_reply": "2023-05-27T02:38:39.302880Z"
    },
    "papermill": {
     "duration": 0.023185,
     "end_time": "2023-05-27T02:38:39.306824",
     "exception": false,
     "start_time": "2023-05-27T02:38:39.283639",
     "status": "completed"
    },
    "tags": []
   },
   "outputs": [
    {
     "data": {
      "text/plain": [
       "Id      object\n",
       "AB     float64\n",
       "AF     float64\n",
       "AH     float64\n",
       "AM     float64\n",
       "AR     float64\n",
       "AX     float64\n",
       "AY     float64\n",
       "AZ     float64\n",
       "BC     float64\n",
       "BD     float64\n",
       "BN     float64\n",
       "BP     float64\n",
       "BQ     float64\n",
       "BR     float64\n",
       "BZ     float64\n",
       "CB     float64\n",
       "CC     float64\n",
       "CD     float64\n",
       "CF     float64\n",
       "CH     float64\n",
       "CL     float64\n",
       "CR     float64\n",
       "CS     float64\n",
       "CU     float64\n",
       "CW     float64\n",
       "DA     float64\n",
       "DE     float64\n",
       "DF     float64\n",
       "DH     float64\n",
       "DI     float64\n",
       "DL     float64\n",
       "DN     float64\n",
       "DU     float64\n",
       "DV     float64\n",
       "DY     float64\n",
       "EB     float64\n",
       "EE     float64\n",
       "EG     float64\n",
       "EH     float64\n",
       "EJ      object\n",
       "EL     float64\n",
       "EP     float64\n",
       "EU     float64\n",
       "FC     float64\n",
       "FD     float64\n",
       "FE     float64\n",
       "FI     float64\n",
       "FL     float64\n",
       "FR     float64\n",
       "FS     float64\n",
       "GB     float64\n",
       "GE     float64\n",
       "GF     float64\n",
       "GH     float64\n",
       "GI     float64\n",
       "GL     float64\n",
       "dtype: object"
      ]
     },
     "execution_count": 6,
     "metadata": {},
     "output_type": "execute_result"
    }
   ],
   "source": [
    "test_df.dtypes"
   ]
  },
  {
   "cell_type": "code",
   "execution_count": 7,
   "id": "0b6ce2cd",
   "metadata": {
    "execution": {
     "iopub.execute_input": "2023-05-27T02:38:39.328095Z",
     "iopub.status.busy": "2023-05-27T02:38:39.326969Z",
     "iopub.status.idle": "2023-05-27T02:38:39.334656Z",
     "shell.execute_reply": "2023-05-27T02:38:39.333577Z"
    },
    "papermill": {
     "duration": 0.021012,
     "end_time": "2023-05-27T02:38:39.337315",
     "exception": false,
     "start_time": "2023-05-27T02:38:39.316303",
     "status": "completed"
    },
    "tags": []
   },
   "outputs": [],
   "source": [
    "num_cols = train_df.select_dtypes(include=[\"float64\"]).columns.tolist()\n",
    "cat_cols = train_df.select_dtypes(include=[\"object\"]).columns.tolist()\n",
    "cat_cols.remove(\"Id\")"
   ]
  },
  {
   "cell_type": "code",
   "execution_count": 8,
   "id": "cdfe8f50",
   "metadata": {
    "execution": {
     "iopub.execute_input": "2023-05-27T02:38:39.358294Z",
     "iopub.status.busy": "2023-05-27T02:38:39.357832Z",
     "iopub.status.idle": "2023-05-27T02:38:39.365234Z",
     "shell.execute_reply": "2023-05-27T02:38:39.363935Z"
    },
    "papermill": {
     "duration": 0.020862,
     "end_time": "2023-05-27T02:38:39.367608",
     "exception": false,
     "start_time": "2023-05-27T02:38:39.346746",
     "status": "completed"
    },
    "tags": []
   },
   "outputs": [
    {
     "data": {
      "text/plain": [
       "int"
      ]
     },
     "execution_count": 8,
     "metadata": {},
     "output_type": "execute_result"
    }
   ],
   "source": [
    "total_row_train=train_df.shape\n",
    "total_row_test=test_df.shape\n",
    "type(total_row_train[0])"
   ]
  },
  {
   "cell_type": "code",
   "execution_count": 9,
   "id": "3ea65705",
   "metadata": {
    "execution": {
     "iopub.execute_input": "2023-05-27T02:38:39.388603Z",
     "iopub.status.busy": "2023-05-27T02:38:39.388171Z",
     "iopub.status.idle": "2023-05-27T02:38:39.399302Z",
     "shell.execute_reply": "2023-05-27T02:38:39.398050Z"
    },
    "papermill": {
     "duration": 0.024504,
     "end_time": "2023-05-27T02:38:39.401648",
     "exception": false,
     "start_time": "2023-05-27T02:38:39.377144",
     "status": "completed"
    },
    "tags": []
   },
   "outputs": [
    {
     "name": "stdout",
     "output_type": "stream",
     "text": [
      "there are 108 Classes are '1', which is 17.50% total training dataset.\n",
      "there are 509 Classes are '0', which is 82.50% total training dataset.\n"
     ]
    }
   ],
   "source": [
    "num=len(train_df[train_df[\"Class\"]==1])\n",
    "percentage=num/(total_row_train[0])*100\n",
    "print(f\"there are {num} Classes are '1', which is {percentage:.2f}% total training dataset.\")\n",
    "\n",
    "num=len(train_df[train_df[\"Class\"]==0])\n",
    "percentage=num/(total_row_train[0])*100\n",
    "print(f\"there are {num} Classes are '0', which is {percentage:.2f}% total training dataset.\")\n"
   ]
  },
  {
   "cell_type": "code",
   "execution_count": 10,
   "id": "527f0127",
   "metadata": {
    "execution": {
     "iopub.execute_input": "2023-05-27T02:38:39.423707Z",
     "iopub.status.busy": "2023-05-27T02:38:39.422432Z",
     "iopub.status.idle": "2023-05-27T02:38:39.436648Z",
     "shell.execute_reply": "2023-05-27T02:38:39.435636Z"
    },
    "papermill": {
     "duration": 0.028087,
     "end_time": "2023-05-27T02:38:39.439426",
     "exception": false,
     "start_time": "2023-05-27T02:38:39.411339",
     "status": "completed"
    },
    "tags": []
   },
   "outputs": [
    {
     "data": {
      "text/plain": [
       "BQ    60\n",
       "CB     2\n",
       "CC     3\n",
       "DU     1\n",
       "EL    60\n",
       "FC     1\n",
       "FL     1\n",
       "FS     2\n",
       "GL     1\n",
       "dtype: int64"
      ]
     },
     "execution_count": 10,
     "metadata": {},
     "output_type": "execute_result"
    }
   ],
   "source": [
    "train_df.isnull().sum().loc[train_df.isnull().sum()>0]"
   ]
  },
  {
   "cell_type": "code",
   "execution_count": 11,
   "id": "01f0876c",
   "metadata": {
    "execution": {
     "iopub.execute_input": "2023-05-27T02:38:39.461641Z",
     "iopub.status.busy": "2023-05-27T02:38:39.461177Z",
     "iopub.status.idle": "2023-05-27T02:38:39.478124Z",
     "shell.execute_reply": "2023-05-27T02:38:39.476821Z"
    },
    "papermill": {
     "duration": 0.030656,
     "end_time": "2023-05-27T02:38:39.480665",
     "exception": false,
     "start_time": "2023-05-27T02:38:39.450009",
     "status": "completed"
    },
    "tags": []
   },
   "outputs": [
    {
     "data": {
      "text/plain": [
       "BQ    0\n",
       "CB    0\n",
       "CC    0\n",
       "DU    0\n",
       "EL    0\n",
       "FC    0\n",
       "FL    0\n",
       "FS    0\n",
       "GL    0\n",
       "dtype: int64"
      ]
     },
     "execution_count": 11,
     "metadata": {},
     "output_type": "execute_result"
    }
   ],
   "source": [
    "test_df.isnull().sum().loc[train_df.isnull().sum()>0]"
   ]
  },
  {
   "cell_type": "code",
   "execution_count": 12,
   "id": "f30a5f6c",
   "metadata": {
    "execution": {
     "iopub.execute_input": "2023-05-27T02:38:39.502644Z",
     "iopub.status.busy": "2023-05-27T02:38:39.502139Z",
     "iopub.status.idle": "2023-05-27T02:38:39.675432Z",
     "shell.execute_reply": "2023-05-27T02:38:39.674397Z"
    },
    "papermill": {
     "duration": 0.191435,
     "end_time": "2023-05-27T02:38:39.682081",
     "exception": false,
     "start_time": "2023-05-27T02:38:39.490646",
     "status": "completed"
    },
    "tags": []
   },
   "outputs": [
    {
     "data": {
      "text/html": [
       "<div>\n",
       "<style scoped>\n",
       "    .dataframe tbody tr th:only-of-type {\n",
       "        vertical-align: middle;\n",
       "    }\n",
       "\n",
       "    .dataframe tbody tr th {\n",
       "        vertical-align: top;\n",
       "    }\n",
       "\n",
       "    .dataframe thead th {\n",
       "        text-align: right;\n",
       "    }\n",
       "</style>\n",
       "<table border=\"1\" class=\"dataframe\">\n",
       "  <thead>\n",
       "    <tr style=\"text-align: right;\">\n",
       "      <th></th>\n",
       "      <th>AB</th>\n",
       "      <th>AF</th>\n",
       "      <th>AH</th>\n",
       "      <th>AM</th>\n",
       "      <th>AR</th>\n",
       "      <th>AX</th>\n",
       "      <th>AY</th>\n",
       "      <th>AZ</th>\n",
       "      <th>BC</th>\n",
       "      <th>BD</th>\n",
       "      <th>...</th>\n",
       "      <th>FL</th>\n",
       "      <th>FR</th>\n",
       "      <th>FS</th>\n",
       "      <th>GB</th>\n",
       "      <th>GE</th>\n",
       "      <th>GF</th>\n",
       "      <th>GH</th>\n",
       "      <th>GI</th>\n",
       "      <th>GL</th>\n",
       "      <th>Class</th>\n",
       "    </tr>\n",
       "  </thead>\n",
       "  <tbody>\n",
       "    <tr>\n",
       "      <th>count</th>\n",
       "      <td>617.000000</td>\n",
       "      <td>617.000000</td>\n",
       "      <td>617.000000</td>\n",
       "      <td>617.000000</td>\n",
       "      <td>617.000000</td>\n",
       "      <td>617.000000</td>\n",
       "      <td>617.000000</td>\n",
       "      <td>617.000000</td>\n",
       "      <td>617.000000</td>\n",
       "      <td>617.000000</td>\n",
       "      <td>...</td>\n",
       "      <td>616.000000</td>\n",
       "      <td>617.000000</td>\n",
       "      <td>615.000000</td>\n",
       "      <td>617.000000</td>\n",
       "      <td>617.000000</td>\n",
       "      <td>617.000000</td>\n",
       "      <td>617.000000</td>\n",
       "      <td>617.000000</td>\n",
       "      <td>616.000000</td>\n",
       "      <td>617.000000</td>\n",
       "    </tr>\n",
       "    <tr>\n",
       "      <th>mean</th>\n",
       "      <td>0.477149</td>\n",
       "      <td>3502.013221</td>\n",
       "      <td>118.624513</td>\n",
       "      <td>38.968552</td>\n",
       "      <td>10.128242</td>\n",
       "      <td>5.545576</td>\n",
       "      <td>0.060320</td>\n",
       "      <td>10.566447</td>\n",
       "      <td>8.053012</td>\n",
       "      <td>5350.388655</td>\n",
       "      <td>...</td>\n",
       "      <td>5.433199</td>\n",
       "      <td>3.533905</td>\n",
       "      <td>0.421501</td>\n",
       "      <td>20.724856</td>\n",
       "      <td>131.714987</td>\n",
       "      <td>14679.595398</td>\n",
       "      <td>31.489716</td>\n",
       "      <td>50.584437</td>\n",
       "      <td>8.530961</td>\n",
       "      <td>0.175041</td>\n",
       "    </tr>\n",
       "    <tr>\n",
       "      <th>std</th>\n",
       "      <td>0.468388</td>\n",
       "      <td>2300.322717</td>\n",
       "      <td>127.838950</td>\n",
       "      <td>69.728226</td>\n",
       "      <td>10.518877</td>\n",
       "      <td>2.551696</td>\n",
       "      <td>0.416817</td>\n",
       "      <td>4.350645</td>\n",
       "      <td>65.166943</td>\n",
       "      <td>3021.326641</td>\n",
       "      <td>...</td>\n",
       "      <td>11.496257</td>\n",
       "      <td>50.181948</td>\n",
       "      <td>1.305365</td>\n",
       "      <td>9.991907</td>\n",
       "      <td>144.181524</td>\n",
       "      <td>19352.959387</td>\n",
       "      <td>9.864239</td>\n",
       "      <td>36.266251</td>\n",
       "      <td>10.327010</td>\n",
       "      <td>0.380310</td>\n",
       "    </tr>\n",
       "    <tr>\n",
       "      <th>min</th>\n",
       "      <td>0.081187</td>\n",
       "      <td>192.593280</td>\n",
       "      <td>85.200147</td>\n",
       "      <td>3.177522</td>\n",
       "      <td>8.138688</td>\n",
       "      <td>0.699861</td>\n",
       "      <td>0.025578</td>\n",
       "      <td>3.396778</td>\n",
       "      <td>1.229900</td>\n",
       "      <td>1693.624320</td>\n",
       "      <td>...</td>\n",
       "      <td>0.173229</td>\n",
       "      <td>0.497060</td>\n",
       "      <td>0.067730</td>\n",
       "      <td>4.102182</td>\n",
       "      <td>72.611063</td>\n",
       "      <td>13.038894</td>\n",
       "      <td>9.432735</td>\n",
       "      <td>0.897628</td>\n",
       "      <td>0.001129</td>\n",
       "      <td>0.000000</td>\n",
       "    </tr>\n",
       "    <tr>\n",
       "      <th>25%</th>\n",
       "      <td>0.252107</td>\n",
       "      <td>2197.345480</td>\n",
       "      <td>85.200147</td>\n",
       "      <td>12.270314</td>\n",
       "      <td>8.138688</td>\n",
       "      <td>4.128294</td>\n",
       "      <td>0.025578</td>\n",
       "      <td>8.129580</td>\n",
       "      <td>1.229900</td>\n",
       "      <td>4155.702870</td>\n",
       "      <td>...</td>\n",
       "      <td>0.173229</td>\n",
       "      <td>0.497060</td>\n",
       "      <td>0.067730</td>\n",
       "      <td>14.036718</td>\n",
       "      <td>72.611063</td>\n",
       "      <td>2798.992584</td>\n",
       "      <td>25.034888</td>\n",
       "      <td>23.011684</td>\n",
       "      <td>0.124392</td>\n",
       "      <td>0.000000</td>\n",
       "    </tr>\n",
       "    <tr>\n",
       "      <th>50%</th>\n",
       "      <td>0.354659</td>\n",
       "      <td>3120.318960</td>\n",
       "      <td>85.200147</td>\n",
       "      <td>20.533110</td>\n",
       "      <td>8.138688</td>\n",
       "      <td>5.031912</td>\n",
       "      <td>0.025578</td>\n",
       "      <td>10.461320</td>\n",
       "      <td>1.229900</td>\n",
       "      <td>4997.960730</td>\n",
       "      <td>...</td>\n",
       "      <td>3.028141</td>\n",
       "      <td>1.131000</td>\n",
       "      <td>0.250601</td>\n",
       "      <td>18.771436</td>\n",
       "      <td>72.611063</td>\n",
       "      <td>7838.273610</td>\n",
       "      <td>30.608946</td>\n",
       "      <td>41.007968</td>\n",
       "      <td>0.337827</td>\n",
       "      <td>0.000000</td>\n",
       "    </tr>\n",
       "    <tr>\n",
       "      <th>75%</th>\n",
       "      <td>0.559763</td>\n",
       "      <td>4361.637390</td>\n",
       "      <td>113.739540</td>\n",
       "      <td>39.139886</td>\n",
       "      <td>8.138688</td>\n",
       "      <td>6.431634</td>\n",
       "      <td>0.036845</td>\n",
       "      <td>12.969516</td>\n",
       "      <td>5.081244</td>\n",
       "      <td>6035.885700</td>\n",
       "      <td>...</td>\n",
       "      <td>6.238814</td>\n",
       "      <td>1.512060</td>\n",
       "      <td>0.535067</td>\n",
       "      <td>25.608406</td>\n",
       "      <td>127.591671</td>\n",
       "      <td>19035.709240</td>\n",
       "      <td>36.863947</td>\n",
       "      <td>67.931664</td>\n",
       "      <td>21.978000</td>\n",
       "      <td>0.000000</td>\n",
       "    </tr>\n",
       "    <tr>\n",
       "      <th>max</th>\n",
       "      <td>6.161666</td>\n",
       "      <td>28688.187660</td>\n",
       "      <td>1910.123198</td>\n",
       "      <td>630.518230</td>\n",
       "      <td>178.943634</td>\n",
       "      <td>38.270880</td>\n",
       "      <td>10.315851</td>\n",
       "      <td>38.971568</td>\n",
       "      <td>1463.693448</td>\n",
       "      <td>53060.599240</td>\n",
       "      <td>...</td>\n",
       "      <td>137.932739</td>\n",
       "      <td>1244.227020</td>\n",
       "      <td>31.365763</td>\n",
       "      <td>135.781294</td>\n",
       "      <td>1497.351958</td>\n",
       "      <td>143790.071200</td>\n",
       "      <td>81.210825</td>\n",
       "      <td>191.194764</td>\n",
       "      <td>21.978000</td>\n",
       "      <td>1.000000</td>\n",
       "    </tr>\n",
       "  </tbody>\n",
       "</table>\n",
       "<p>8 rows × 56 columns</p>\n",
       "</div>"
      ],
      "text/plain": [
       "               AB            AF           AH          AM          AR  \\\n",
       "count  617.000000    617.000000   617.000000  617.000000  617.000000   \n",
       "mean     0.477149   3502.013221   118.624513   38.968552   10.128242   \n",
       "std      0.468388   2300.322717   127.838950   69.728226   10.518877   \n",
       "min      0.081187    192.593280    85.200147    3.177522    8.138688   \n",
       "25%      0.252107   2197.345480    85.200147   12.270314    8.138688   \n",
       "50%      0.354659   3120.318960    85.200147   20.533110    8.138688   \n",
       "75%      0.559763   4361.637390   113.739540   39.139886    8.138688   \n",
       "max      6.161666  28688.187660  1910.123198  630.518230  178.943634   \n",
       "\n",
       "               AX          AY          AZ           BC           BD   ...  \\\n",
       "count  617.000000  617.000000  617.000000   617.000000    617.000000  ...   \n",
       "mean     5.545576    0.060320   10.566447     8.053012   5350.388655  ...   \n",
       "std      2.551696    0.416817    4.350645    65.166943   3021.326641  ...   \n",
       "min      0.699861    0.025578    3.396778     1.229900   1693.624320  ...   \n",
       "25%      4.128294    0.025578    8.129580     1.229900   4155.702870  ...   \n",
       "50%      5.031912    0.025578   10.461320     1.229900   4997.960730  ...   \n",
       "75%      6.431634    0.036845   12.969516     5.081244   6035.885700  ...   \n",
       "max     38.270880   10.315851   38.971568  1463.693448  53060.599240  ...   \n",
       "\n",
       "               FL           FR          FS          GB           GE  \\\n",
       "count  616.000000   617.000000  615.000000  617.000000   617.000000   \n",
       "mean     5.433199     3.533905    0.421501   20.724856   131.714987   \n",
       "std     11.496257    50.181948    1.305365    9.991907   144.181524   \n",
       "min      0.173229     0.497060    0.067730    4.102182    72.611063   \n",
       "25%      0.173229     0.497060    0.067730   14.036718    72.611063   \n",
       "50%      3.028141     1.131000    0.250601   18.771436    72.611063   \n",
       "75%      6.238814     1.512060    0.535067   25.608406   127.591671   \n",
       "max    137.932739  1244.227020   31.365763  135.781294  1497.351958   \n",
       "\n",
       "                  GF          GH          GI          GL       Class  \n",
       "count     617.000000  617.000000  617.000000  616.000000  617.000000  \n",
       "mean    14679.595398   31.489716   50.584437    8.530961    0.175041  \n",
       "std     19352.959387    9.864239   36.266251   10.327010    0.380310  \n",
       "min        13.038894    9.432735    0.897628    0.001129    0.000000  \n",
       "25%      2798.992584   25.034888   23.011684    0.124392    0.000000  \n",
       "50%      7838.273610   30.608946   41.007968    0.337827    0.000000  \n",
       "75%     19035.709240   36.863947   67.931664   21.978000    0.000000  \n",
       "max    143790.071200   81.210825  191.194764   21.978000    1.000000  \n",
       "\n",
       "[8 rows x 56 columns]"
      ]
     },
     "execution_count": 12,
     "metadata": {},
     "output_type": "execute_result"
    }
   ],
   "source": [
    "train_df.describe()"
   ]
  },
  {
   "cell_type": "code",
   "execution_count": 13,
   "id": "f4bcc520",
   "metadata": {
    "execution": {
     "iopub.execute_input": "2023-05-27T02:38:39.706989Z",
     "iopub.status.busy": "2023-05-27T02:38:39.706532Z",
     "iopub.status.idle": "2023-05-27T02:38:39.747679Z",
     "shell.execute_reply": "2023-05-27T02:38:39.746429Z"
    },
    "papermill": {
     "duration": 0.057281,
     "end_time": "2023-05-27T02:38:39.750909",
     "exception": false,
     "start_time": "2023-05-27T02:38:39.693628",
     "status": "completed"
    },
    "tags": []
   },
   "outputs": [],
   "source": [
    "from sklearn.impute import SimpleImputer\n",
    "from sklearn.preprocessing import MinMaxScaler,OneHotEncoder,StandardScaler\n",
    "from sklearn.utils import class_weight\n",
    "from sklearn.metrics import accuracy_score\n",
    "\n",
    "\n",
    "imputer=SimpleImputer(strategy=\"mean\")\n",
    "numeric_df=pd.DataFrame(imputer.fit_transform(train_df[num_cols]),columns=num_cols\n",
    "                )\n",
    "\n",
    "scaler=MinMaxScaler()\n",
    "scaled_numeric_df=pd.DataFrame(scaler.fit_transform(numeric_df),columns=num_cols)\n",
    "\n",
    "encoder=OneHotEncoder(sparse_output=False,handle_unknown=\"ignore\")\n",
    "encoded_cat_df=pd.DataFrame(encoder.fit_transform(train_df[cat_cols]),columns=encoder.get_feature_names_out(cat_cols))\n",
    "\n",
    "\n",
    "processed_df=pd.concat([scaled_numeric_df,encoded_cat_df],axis=1)"
   ]
  },
  {
   "cell_type": "code",
   "execution_count": 14,
   "id": "e6d2e047",
   "metadata": {
    "execution": {
     "iopub.execute_input": "2023-05-27T02:38:39.775381Z",
     "iopub.status.busy": "2023-05-27T02:38:39.774927Z",
     "iopub.status.idle": "2023-05-27T02:39:18.840294Z",
     "shell.execute_reply": "2023-05-27T02:39:18.839340Z"
    },
    "papermill": {
     "duration": 39.081373,
     "end_time": "2023-05-27T02:39:18.843557",
     "exception": false,
     "start_time": "2023-05-27T02:38:39.762184",
     "status": "completed"
    },
    "tags": []
   },
   "outputs": [
    {
     "name": "stderr",
     "output_type": "stream",
     "text": [
      "\u001b[32m[I 2023-05-27 02:38:39,797]\u001b[0m A new study created in memory with name: no-name-355b75f9-bfbf-4546-aab7-f6deb47eb0bc\u001b[0m\n",
      "/tmp/ipykernel_20/4205274349.py:70: DeprecationWarning: `np.int` is a deprecated alias for the builtin `int`. To silence this warning, use `int` by itself. Doing this will not modify any behavior and is safe. When replacing `np.int`, you may wish to use e.g. `np.int64` or `np.int32` to specify the precision. If you wish to review your current use, check the release note link for additional information.\n",
      "Deprecated in NumPy 1.20; for more details and guidance: https://numpy.org/devdocs/release/1.20.0-notes.html#deprecations\n",
      "  pred_y=classifier.predict(test_x).reshape(-1).astype(np.int)\n",
      "/tmp/ipykernel_20/4205274349.py:70: DeprecationWarning: `np.int` is a deprecated alias for the builtin `int`. To silence this warning, use `int` by itself. Doing this will not modify any behavior and is safe. When replacing `np.int`, you may wish to use e.g. `np.int64` or `np.int32` to specify the precision. If you wish to review your current use, check the release note link for additional information.\n",
      "Deprecated in NumPy 1.20; for more details and guidance: https://numpy.org/devdocs/release/1.20.0-notes.html#deprecations\n",
      "  pred_y=classifier.predict(test_x).reshape(-1).astype(np.int)\n",
      "/tmp/ipykernel_20/4205274349.py:70: DeprecationWarning: `np.int` is a deprecated alias for the builtin `int`. To silence this warning, use `int` by itself. Doing this will not modify any behavior and is safe. When replacing `np.int`, you may wish to use e.g. `np.int64` or `np.int32` to specify the precision. If you wish to review your current use, check the release note link for additional information.\n",
      "Deprecated in NumPy 1.20; for more details and guidance: https://numpy.org/devdocs/release/1.20.0-notes.html#deprecations\n",
      "  pred_y=classifier.predict(test_x).reshape(-1).astype(np.int)\n",
      "/tmp/ipykernel_20/4205274349.py:70: DeprecationWarning: `np.int` is a deprecated alias for the builtin `int`. To silence this warning, use `int` by itself. Doing this will not modify any behavior and is safe. When replacing `np.int`, you may wish to use e.g. `np.int64` or `np.int32` to specify the precision. If you wish to review your current use, check the release note link for additional information.\n",
      "Deprecated in NumPy 1.20; for more details and guidance: https://numpy.org/devdocs/release/1.20.0-notes.html#deprecations\n",
      "  pred_y=classifier.predict(test_x).reshape(-1).astype(np.int)\n",
      "/tmp/ipykernel_20/4205274349.py:70: DeprecationWarning: `np.int` is a deprecated alias for the builtin `int`. To silence this warning, use `int` by itself. Doing this will not modify any behavior and is safe. When replacing `np.int`, you may wish to use e.g. `np.int64` or `np.int32` to specify the precision. If you wish to review your current use, check the release note link for additional information.\n",
      "Deprecated in NumPy 1.20; for more details and guidance: https://numpy.org/devdocs/release/1.20.0-notes.html#deprecations\n",
      "  pred_y=classifier.predict(test_x).reshape(-1).astype(np.int)\n",
      "\u001b[32m[I 2023-05-27 02:38:42,367]\u001b[0m Trial 0 finished with value: 0.923865722528193 and parameters: {'standardize': 'MinMaxScaler', 'classifier_name': 'XGB', 'rf_x_estimators': 910, 'rf_max_depth': 4}. Best is trial 0 with value: 0.923865722528193.\u001b[0m\n",
      "/tmp/ipykernel_20/4205274349.py:70: DeprecationWarning: `np.int` is a deprecated alias for the builtin `int`. To silence this warning, use `int` by itself. Doing this will not modify any behavior and is safe. When replacing `np.int`, you may wish to use e.g. `np.int64` or `np.int32` to specify the precision. If you wish to review your current use, check the release note link for additional information.\n",
      "Deprecated in NumPy 1.20; for more details and guidance: https://numpy.org/devdocs/release/1.20.0-notes.html#deprecations\n",
      "  pred_y=classifier.predict(test_x).reshape(-1).astype(np.int)\n",
      "/tmp/ipykernel_20/4205274349.py:70: DeprecationWarning: `np.int` is a deprecated alias for the builtin `int`. To silence this warning, use `int` by itself. Doing this will not modify any behavior and is safe. When replacing `np.int`, you may wish to use e.g. `np.int64` or `np.int32` to specify the precision. If you wish to review your current use, check the release note link for additional information.\n",
      "Deprecated in NumPy 1.20; for more details and guidance: https://numpy.org/devdocs/release/1.20.0-notes.html#deprecations\n",
      "  pred_y=classifier.predict(test_x).reshape(-1).astype(np.int)\n",
      "/tmp/ipykernel_20/4205274349.py:70: DeprecationWarning: `np.int` is a deprecated alias for the builtin `int`. To silence this warning, use `int` by itself. Doing this will not modify any behavior and is safe. When replacing `np.int`, you may wish to use e.g. `np.int64` or `np.int32` to specify the precision. If you wish to review your current use, check the release note link for additional information.\n",
      "Deprecated in NumPy 1.20; for more details and guidance: https://numpy.org/devdocs/release/1.20.0-notes.html#deprecations\n",
      "  pred_y=classifier.predict(test_x).reshape(-1).astype(np.int)\n",
      "/tmp/ipykernel_20/4205274349.py:70: DeprecationWarning: `np.int` is a deprecated alias for the builtin `int`. To silence this warning, use `int` by itself. Doing this will not modify any behavior and is safe. When replacing `np.int`, you may wish to use e.g. `np.int64` or `np.int32` to specify the precision. If you wish to review your current use, check the release note link for additional information.\n",
      "Deprecated in NumPy 1.20; for more details and guidance: https://numpy.org/devdocs/release/1.20.0-notes.html#deprecations\n",
      "  pred_y=classifier.predict(test_x).reshape(-1).astype(np.int)\n",
      "/tmp/ipykernel_20/4205274349.py:70: DeprecationWarning: `np.int` is a deprecated alias for the builtin `int`. To silence this warning, use `int` by itself. Doing this will not modify any behavior and is safe. When replacing `np.int`, you may wish to use e.g. `np.int64` or `np.int32` to specify the precision. If you wish to review your current use, check the release note link for additional information.\n",
      "Deprecated in NumPy 1.20; for more details and guidance: https://numpy.org/devdocs/release/1.20.0-notes.html#deprecations\n",
      "  pred_y=classifier.predict(test_x).reshape(-1).astype(np.int)\n",
      "\u001b[32m[I 2023-05-27 02:38:44,307]\u001b[0m Trial 1 finished with value: 0.923865722528193 and parameters: {'standardize': 'StandardScaler', 'classifier_name': 'XGB', 'rf_x_estimators': 640, 'rf_max_depth': 4}. Best is trial 0 with value: 0.923865722528193.\u001b[0m\n",
      "/tmp/ipykernel_20/4205274349.py:70: DeprecationWarning: `np.int` is a deprecated alias for the builtin `int`. To silence this warning, use `int` by itself. Doing this will not modify any behavior and is safe. When replacing `np.int`, you may wish to use e.g. `np.int64` or `np.int32` to specify the precision. If you wish to review your current use, check the release note link for additional information.\n",
      "Deprecated in NumPy 1.20; for more details and guidance: https://numpy.org/devdocs/release/1.20.0-notes.html#deprecations\n",
      "  pred_y=classifier.predict(test_x).reshape(-1).astype(np.int)\n",
      "/tmp/ipykernel_20/4205274349.py:70: DeprecationWarning: `np.int` is a deprecated alias for the builtin `int`. To silence this warning, use `int` by itself. Doing this will not modify any behavior and is safe. When replacing `np.int`, you may wish to use e.g. `np.int64` or `np.int32` to specify the precision. If you wish to review your current use, check the release note link for additional information.\n",
      "Deprecated in NumPy 1.20; for more details and guidance: https://numpy.org/devdocs/release/1.20.0-notes.html#deprecations\n",
      "  pred_y=classifier.predict(test_x).reshape(-1).astype(np.int)\n",
      "/tmp/ipykernel_20/4205274349.py:70: DeprecationWarning: `np.int` is a deprecated alias for the builtin `int`. To silence this warning, use `int` by itself. Doing this will not modify any behavior and is safe. When replacing `np.int`, you may wish to use e.g. `np.int64` or `np.int32` to specify the precision. If you wish to review your current use, check the release note link for additional information.\n",
      "Deprecated in NumPy 1.20; for more details and guidance: https://numpy.org/devdocs/release/1.20.0-notes.html#deprecations\n",
      "  pred_y=classifier.predict(test_x).reshape(-1).astype(np.int)\n",
      "/tmp/ipykernel_20/4205274349.py:70: DeprecationWarning: `np.int` is a deprecated alias for the builtin `int`. To silence this warning, use `int` by itself. Doing this will not modify any behavior and is safe. When replacing `np.int`, you may wish to use e.g. `np.int64` or `np.int32` to specify the precision. If you wish to review your current use, check the release note link for additional information.\n",
      "Deprecated in NumPy 1.20; for more details and guidance: https://numpy.org/devdocs/release/1.20.0-notes.html#deprecations\n",
      "  pred_y=classifier.predict(test_x).reshape(-1).astype(np.int)\n",
      "/tmp/ipykernel_20/4205274349.py:70: DeprecationWarning: `np.int` is a deprecated alias for the builtin `int`. To silence this warning, use `int` by itself. Doing this will not modify any behavior and is safe. When replacing `np.int`, you may wish to use e.g. `np.int64` or `np.int32` to specify the precision. If you wish to review your current use, check the release note link for additional information.\n",
      "Deprecated in NumPy 1.20; for more details and guidance: https://numpy.org/devdocs/release/1.20.0-notes.html#deprecations\n",
      "  pred_y=classifier.predict(test_x).reshape(-1).astype(np.int)\n",
      "\u001b[32m[I 2023-05-27 02:38:47,338]\u001b[0m Trial 2 finished with value: 0.9174141096249672 and parameters: {'standardize': 'MinMaxScaler', 'classifier_name': 'RandomForest', 'rf_n_estimators': 100, 'rf_max_features': 0.6}. Best is trial 0 with value: 0.923865722528193.\u001b[0m\n",
      "/tmp/ipykernel_20/4205274349.py:70: DeprecationWarning: `np.int` is a deprecated alias for the builtin `int`. To silence this warning, use `int` by itself. Doing this will not modify any behavior and is safe. When replacing `np.int`, you may wish to use e.g. `np.int64` or `np.int32` to specify the precision. If you wish to review your current use, check the release note link for additional information.\n",
      "Deprecated in NumPy 1.20; for more details and guidance: https://numpy.org/devdocs/release/1.20.0-notes.html#deprecations\n",
      "  pred_y=classifier.predict(test_x).reshape(-1).astype(np.int)\n",
      "/tmp/ipykernel_20/4205274349.py:70: DeprecationWarning: `np.int` is a deprecated alias for the builtin `int`. To silence this warning, use `int` by itself. Doing this will not modify any behavior and is safe. When replacing `np.int`, you may wish to use e.g. `np.int64` or `np.int32` to specify the precision. If you wish to review your current use, check the release note link for additional information.\n",
      "Deprecated in NumPy 1.20; for more details and guidance: https://numpy.org/devdocs/release/1.20.0-notes.html#deprecations\n",
      "  pred_y=classifier.predict(test_x).reshape(-1).astype(np.int)\n",
      "/tmp/ipykernel_20/4205274349.py:70: DeprecationWarning: `np.int` is a deprecated alias for the builtin `int`. To silence this warning, use `int` by itself. Doing this will not modify any behavior and is safe. When replacing `np.int`, you may wish to use e.g. `np.int64` or `np.int32` to specify the precision. If you wish to review your current use, check the release note link for additional information.\n",
      "Deprecated in NumPy 1.20; for more details and guidance: https://numpy.org/devdocs/release/1.20.0-notes.html#deprecations\n",
      "  pred_y=classifier.predict(test_x).reshape(-1).astype(np.int)\n",
      "/tmp/ipykernel_20/4205274349.py:70: DeprecationWarning: `np.int` is a deprecated alias for the builtin `int`. To silence this warning, use `int` by itself. Doing this will not modify any behavior and is safe. When replacing `np.int`, you may wish to use e.g. `np.int64` or `np.int32` to specify the precision. If you wish to review your current use, check the release note link for additional information.\n",
      "Deprecated in NumPy 1.20; for more details and guidance: https://numpy.org/devdocs/release/1.20.0-notes.html#deprecations\n",
      "  pred_y=classifier.predict(test_x).reshape(-1).astype(np.int)\n",
      "/tmp/ipykernel_20/4205274349.py:70: DeprecationWarning: `np.int` is a deprecated alias for the builtin `int`. To silence this warning, use `int` by itself. Doing this will not modify any behavior and is safe. When replacing `np.int`, you may wish to use e.g. `np.int64` or `np.int32` to specify the precision. If you wish to review your current use, check the release note link for additional information.\n",
      "Deprecated in NumPy 1.20; for more details and guidance: https://numpy.org/devdocs/release/1.20.0-notes.html#deprecations\n",
      "  pred_y=classifier.predict(test_x).reshape(-1).astype(np.int)\n",
      "\u001b[32m[I 2023-05-27 02:38:48,213]\u001b[0m Trial 3 finished with value: 0.9319564647259375 and parameters: {'standardize': 'StandardScaler', 'classifier_name': 'XGB', 'rf_x_estimators': 190, 'rf_max_depth': 4}. Best is trial 3 with value: 0.9319564647259375.\u001b[0m\n",
      "/tmp/ipykernel_20/4205274349.py:70: DeprecationWarning: `np.int` is a deprecated alias for the builtin `int`. To silence this warning, use `int` by itself. Doing this will not modify any behavior and is safe. When replacing `np.int`, you may wish to use e.g. `np.int64` or `np.int32` to specify the precision. If you wish to review your current use, check the release note link for additional information.\n",
      "Deprecated in NumPy 1.20; for more details and guidance: https://numpy.org/devdocs/release/1.20.0-notes.html#deprecations\n",
      "  pred_y=classifier.predict(test_x).reshape(-1).astype(np.int)\n",
      "/tmp/ipykernel_20/4205274349.py:70: DeprecationWarning: `np.int` is a deprecated alias for the builtin `int`. To silence this warning, use `int` by itself. Doing this will not modify any behavior and is safe. When replacing `np.int`, you may wish to use e.g. `np.int64` or `np.int32` to specify the precision. If you wish to review your current use, check the release note link for additional information.\n",
      "Deprecated in NumPy 1.20; for more details and guidance: https://numpy.org/devdocs/release/1.20.0-notes.html#deprecations\n",
      "  pred_y=classifier.predict(test_x).reshape(-1).astype(np.int)\n",
      "/tmp/ipykernel_20/4205274349.py:70: DeprecationWarning: `np.int` is a deprecated alias for the builtin `int`. To silence this warning, use `int` by itself. Doing this will not modify any behavior and is safe. When replacing `np.int`, you may wish to use e.g. `np.int64` or `np.int32` to specify the precision. If you wish to review your current use, check the release note link for additional information.\n",
      "Deprecated in NumPy 1.20; for more details and guidance: https://numpy.org/devdocs/release/1.20.0-notes.html#deprecations\n",
      "  pred_y=classifier.predict(test_x).reshape(-1).astype(np.int)\n",
      "/tmp/ipykernel_20/4205274349.py:70: DeprecationWarning: `np.int` is a deprecated alias for the builtin `int`. To silence this warning, use `int` by itself. Doing this will not modify any behavior and is safe. When replacing `np.int`, you may wish to use e.g. `np.int64` or `np.int32` to specify the precision. If you wish to review your current use, check the release note link for additional information.\n",
      "Deprecated in NumPy 1.20; for more details and guidance: https://numpy.org/devdocs/release/1.20.0-notes.html#deprecations\n",
      "  pred_y=classifier.predict(test_x).reshape(-1).astype(np.int)\n",
      "/tmp/ipykernel_20/4205274349.py:70: DeprecationWarning: `np.int` is a deprecated alias for the builtin `int`. To silence this warning, use `int` by itself. Doing this will not modify any behavior and is safe. When replacing `np.int`, you may wish to use e.g. `np.int64` or `np.int32` to specify the precision. If you wish to review your current use, check the release note link for additional information.\n",
      "Deprecated in NumPy 1.20; for more details and guidance: https://numpy.org/devdocs/release/1.20.0-notes.html#deprecations\n",
      "  pred_y=classifier.predict(test_x).reshape(-1).astype(np.int)\n",
      "\u001b[32m[I 2023-05-27 02:38:48,938]\u001b[0m Trial 4 finished with value: 0.9109231576186729 and parameters: {'standardize': 'StandardScaler', 'classifier_name': 'RandomForest', 'rf_n_estimators': 30, 'rf_max_features': 0.2}. Best is trial 3 with value: 0.9319564647259375.\u001b[0m\n",
      "/tmp/ipykernel_20/4205274349.py:70: DeprecationWarning: `np.int` is a deprecated alias for the builtin `int`. To silence this warning, use `int` by itself. Doing this will not modify any behavior and is safe. When replacing `np.int`, you may wish to use e.g. `np.int64` or `np.int32` to specify the precision. If you wish to review your current use, check the release note link for additional information.\n",
      "Deprecated in NumPy 1.20; for more details and guidance: https://numpy.org/devdocs/release/1.20.0-notes.html#deprecations\n",
      "  pred_y=classifier.predict(test_x).reshape(-1).astype(np.int)\n",
      "/tmp/ipykernel_20/4205274349.py:70: DeprecationWarning: `np.int` is a deprecated alias for the builtin `int`. To silence this warning, use `int` by itself. Doing this will not modify any behavior and is safe. When replacing `np.int`, you may wish to use e.g. `np.int64` or `np.int32` to specify the precision. If you wish to review your current use, check the release note link for additional information.\n",
      "Deprecated in NumPy 1.20; for more details and guidance: https://numpy.org/devdocs/release/1.20.0-notes.html#deprecations\n",
      "  pred_y=classifier.predict(test_x).reshape(-1).astype(np.int)\n",
      "/tmp/ipykernel_20/4205274349.py:70: DeprecationWarning: `np.int` is a deprecated alias for the builtin `int`. To silence this warning, use `int` by itself. Doing this will not modify any behavior and is safe. When replacing `np.int`, you may wish to use e.g. `np.int64` or `np.int32` to specify the precision. If you wish to review your current use, check the release note link for additional information.\n",
      "Deprecated in NumPy 1.20; for more details and guidance: https://numpy.org/devdocs/release/1.20.0-notes.html#deprecations\n",
      "  pred_y=classifier.predict(test_x).reshape(-1).astype(np.int)\n",
      "/tmp/ipykernel_20/4205274349.py:70: DeprecationWarning: `np.int` is a deprecated alias for the builtin `int`. To silence this warning, use `int` by itself. Doing this will not modify any behavior and is safe. When replacing `np.int`, you may wish to use e.g. `np.int64` or `np.int32` to specify the precision. If you wish to review your current use, check the release note link for additional information.\n",
      "Deprecated in NumPy 1.20; for more details and guidance: https://numpy.org/devdocs/release/1.20.0-notes.html#deprecations\n",
      "  pred_y=classifier.predict(test_x).reshape(-1).astype(np.int)\n",
      "/tmp/ipykernel_20/4205274349.py:70: DeprecationWarning: `np.int` is a deprecated alias for the builtin `int`. To silence this warning, use `int` by itself. Doing this will not modify any behavior and is safe. When replacing `np.int`, you may wish to use e.g. `np.int64` or `np.int32` to specify the precision. If you wish to review your current use, check the release note link for additional information.\n",
      "Deprecated in NumPy 1.20; for more details and guidance: https://numpy.org/devdocs/release/1.20.0-notes.html#deprecations\n",
      "  pred_y=classifier.predict(test_x).reshape(-1).astype(np.int)\n",
      "\u001b[32m[I 2023-05-27 02:38:51,567]\u001b[0m Trial 5 finished with value: 0.9336218200891686 and parameters: {'standardize': 'StandardScaler', 'classifier_name': 'XGB', 'rf_x_estimators': 910, 'rf_max_depth': 7}. Best is trial 5 with value: 0.9336218200891686.\u001b[0m\n",
      "/tmp/ipykernel_20/4205274349.py:70: DeprecationWarning: `np.int` is a deprecated alias for the builtin `int`. To silence this warning, use `int` by itself. Doing this will not modify any behavior and is safe. When replacing `np.int`, you may wish to use e.g. `np.int64` or `np.int32` to specify the precision. If you wish to review your current use, check the release note link for additional information.\n",
      "Deprecated in NumPy 1.20; for more details and guidance: https://numpy.org/devdocs/release/1.20.0-notes.html#deprecations\n",
      "  pred_y=classifier.predict(test_x).reshape(-1).astype(np.int)\n",
      "/tmp/ipykernel_20/4205274349.py:70: DeprecationWarning: `np.int` is a deprecated alias for the builtin `int`. To silence this warning, use `int` by itself. Doing this will not modify any behavior and is safe. When replacing `np.int`, you may wish to use e.g. `np.int64` or `np.int32` to specify the precision. If you wish to review your current use, check the release note link for additional information.\n",
      "Deprecated in NumPy 1.20; for more details and guidance: https://numpy.org/devdocs/release/1.20.0-notes.html#deprecations\n",
      "  pred_y=classifier.predict(test_x).reshape(-1).astype(np.int)\n",
      "/tmp/ipykernel_20/4205274349.py:70: DeprecationWarning: `np.int` is a deprecated alias for the builtin `int`. To silence this warning, use `int` by itself. Doing this will not modify any behavior and is safe. When replacing `np.int`, you may wish to use e.g. `np.int64` or `np.int32` to specify the precision. If you wish to review your current use, check the release note link for additional information.\n",
      "Deprecated in NumPy 1.20; for more details and guidance: https://numpy.org/devdocs/release/1.20.0-notes.html#deprecations\n",
      "  pred_y=classifier.predict(test_x).reshape(-1).astype(np.int)\n",
      "/tmp/ipykernel_20/4205274349.py:70: DeprecationWarning: `np.int` is a deprecated alias for the builtin `int`. To silence this warning, use `int` by itself. Doing this will not modify any behavior and is safe. When replacing `np.int`, you may wish to use e.g. `np.int64` or `np.int32` to specify the precision. If you wish to review your current use, check the release note link for additional information.\n",
      "Deprecated in NumPy 1.20; for more details and guidance: https://numpy.org/devdocs/release/1.20.0-notes.html#deprecations\n",
      "  pred_y=classifier.predict(test_x).reshape(-1).astype(np.int)\n",
      "/tmp/ipykernel_20/4205274349.py:70: DeprecationWarning: `np.int` is a deprecated alias for the builtin `int`. To silence this warning, use `int` by itself. Doing this will not modify any behavior and is safe. When replacing `np.int`, you may wish to use e.g. `np.int64` or `np.int32` to specify the precision. If you wish to review your current use, check the release note link for additional information.\n",
      "Deprecated in NumPy 1.20; for more details and guidance: https://numpy.org/devdocs/release/1.20.0-notes.html#deprecations\n",
      "  pred_y=classifier.predict(test_x).reshape(-1).astype(np.int)\n",
      "\u001b[32m[I 2023-05-27 02:38:52,486]\u001b[0m Trial 6 finished with value: 0.9384998688696564 and parameters: {'standardize': 'MinMaxScaler', 'classifier_name': 'XGB', 'rf_x_estimators': 190, 'rf_max_depth': 7}. Best is trial 6 with value: 0.9384998688696564.\u001b[0m\n",
      "/tmp/ipykernel_20/4205274349.py:70: DeprecationWarning: `np.int` is a deprecated alias for the builtin `int`. To silence this warning, use `int` by itself. Doing this will not modify any behavior and is safe. When replacing `np.int`, you may wish to use e.g. `np.int64` or `np.int32` to specify the precision. If you wish to review your current use, check the release note link for additional information.\n",
      "Deprecated in NumPy 1.20; for more details and guidance: https://numpy.org/devdocs/release/1.20.0-notes.html#deprecations\n",
      "  pred_y=classifier.predict(test_x).reshape(-1).astype(np.int)\n",
      "/tmp/ipykernel_20/4205274349.py:70: DeprecationWarning: `np.int` is a deprecated alias for the builtin `int`. To silence this warning, use `int` by itself. Doing this will not modify any behavior and is safe. When replacing `np.int`, you may wish to use e.g. `np.int64` or `np.int32` to specify the precision. If you wish to review your current use, check the release note link for additional information.\n",
      "Deprecated in NumPy 1.20; for more details and guidance: https://numpy.org/devdocs/release/1.20.0-notes.html#deprecations\n",
      "  pred_y=classifier.predict(test_x).reshape(-1).astype(np.int)\n",
      "/tmp/ipykernel_20/4205274349.py:70: DeprecationWarning: `np.int` is a deprecated alias for the builtin `int`. To silence this warning, use `int` by itself. Doing this will not modify any behavior and is safe. When replacing `np.int`, you may wish to use e.g. `np.int64` or `np.int32` to specify the precision. If you wish to review your current use, check the release note link for additional information.\n",
      "Deprecated in NumPy 1.20; for more details and guidance: https://numpy.org/devdocs/release/1.20.0-notes.html#deprecations\n",
      "  pred_y=classifier.predict(test_x).reshape(-1).astype(np.int)\n",
      "/tmp/ipykernel_20/4205274349.py:70: DeprecationWarning: `np.int` is a deprecated alias for the builtin `int`. To silence this warning, use `int` by itself. Doing this will not modify any behavior and is safe. When replacing `np.int`, you may wish to use e.g. `np.int64` or `np.int32` to specify the precision. If you wish to review your current use, check the release note link for additional information.\n",
      "Deprecated in NumPy 1.20; for more details and guidance: https://numpy.org/devdocs/release/1.20.0-notes.html#deprecations\n",
      "  pred_y=classifier.predict(test_x).reshape(-1).astype(np.int)\n",
      "/tmp/ipykernel_20/4205274349.py:70: DeprecationWarning: `np.int` is a deprecated alias for the builtin `int`. To silence this warning, use `int` by itself. Doing this will not modify any behavior and is safe. When replacing `np.int`, you may wish to use e.g. `np.int64` or `np.int32` to specify the precision. If you wish to review your current use, check the release note link for additional information.\n",
      "Deprecated in NumPy 1.20; for more details and guidance: https://numpy.org/devdocs/release/1.20.0-notes.html#deprecations\n",
      "  pred_y=classifier.predict(test_x).reshape(-1).astype(np.int)\n",
      "\u001b[32m[I 2023-05-27 02:38:52,712]\u001b[0m Trial 7 finished with value: 0.8881851560451088 and parameters: {'standardize': 'StandardScaler', 'classifier_name': 'RandomForest', 'rf_n_estimators': 5, 'rf_max_features': 0.6}. Best is trial 6 with value: 0.9384998688696564.\u001b[0m\n",
      "/tmp/ipykernel_20/4205274349.py:70: DeprecationWarning: `np.int` is a deprecated alias for the builtin `int`. To silence this warning, use `int` by itself. Doing this will not modify any behavior and is safe. When replacing `np.int`, you may wish to use e.g. `np.int64` or `np.int32` to specify the precision. If you wish to review your current use, check the release note link for additional information.\n",
      "Deprecated in NumPy 1.20; for more details and guidance: https://numpy.org/devdocs/release/1.20.0-notes.html#deprecations\n",
      "  pred_y=classifier.predict(test_x).reshape(-1).astype(np.int)\n",
      "/tmp/ipykernel_20/4205274349.py:70: DeprecationWarning: `np.int` is a deprecated alias for the builtin `int`. To silence this warning, use `int` by itself. Doing this will not modify any behavior and is safe. When replacing `np.int`, you may wish to use e.g. `np.int64` or `np.int32` to specify the precision. If you wish to review your current use, check the release note link for additional information.\n",
      "Deprecated in NumPy 1.20; for more details and guidance: https://numpy.org/devdocs/release/1.20.0-notes.html#deprecations\n",
      "  pred_y=classifier.predict(test_x).reshape(-1).astype(np.int)\n",
      "/tmp/ipykernel_20/4205274349.py:70: DeprecationWarning: `np.int` is a deprecated alias for the builtin `int`. To silence this warning, use `int` by itself. Doing this will not modify any behavior and is safe. When replacing `np.int`, you may wish to use e.g. `np.int64` or `np.int32` to specify the precision. If you wish to review your current use, check the release note link for additional information.\n",
      "Deprecated in NumPy 1.20; for more details and guidance: https://numpy.org/devdocs/release/1.20.0-notes.html#deprecations\n",
      "  pred_y=classifier.predict(test_x).reshape(-1).astype(np.int)\n",
      "/tmp/ipykernel_20/4205274349.py:70: DeprecationWarning: `np.int` is a deprecated alias for the builtin `int`. To silence this warning, use `int` by itself. Doing this will not modify any behavior and is safe. When replacing `np.int`, you may wish to use e.g. `np.int64` or `np.int32` to specify the precision. If you wish to review your current use, check the release note link for additional information.\n",
      "Deprecated in NumPy 1.20; for more details and guidance: https://numpy.org/devdocs/release/1.20.0-notes.html#deprecations\n",
      "  pred_y=classifier.predict(test_x).reshape(-1).astype(np.int)\n",
      "/tmp/ipykernel_20/4205274349.py:70: DeprecationWarning: `np.int` is a deprecated alias for the builtin `int`. To silence this warning, use `int` by itself. Doing this will not modify any behavior and is safe. When replacing `np.int`, you may wish to use e.g. `np.int64` or `np.int32` to specify the precision. If you wish to review your current use, check the release note link for additional information.\n",
      "Deprecated in NumPy 1.20; for more details and guidance: https://numpy.org/devdocs/release/1.20.0-notes.html#deprecations\n",
      "  pred_y=classifier.predict(test_x).reshape(-1).astype(np.int)\n",
      "\u001b[32m[I 2023-05-27 02:38:53,042]\u001b[0m Trial 8 finished with value: 0.8914371885654341 and parameters: {'standardize': 'MinMaxScaler', 'classifier_name': 'RandomForest', 'rf_n_estimators': 10, 'rf_max_features': 0.4}. Best is trial 6 with value: 0.9384998688696564.\u001b[0m\n",
      "/opt/conda/lib/python3.10/site-packages/sklearn/ensemble/_forest.py:424: FutureWarning: `max_features='auto'` has been deprecated in 1.1 and will be removed in 1.3. To keep the past behaviour, explicitly set `max_features='sqrt'` or remove this parameter as it is also the default value for RandomForestClassifiers and ExtraTreesClassifiers.\n",
      "  warn(\n",
      "/tmp/ipykernel_20/4205274349.py:70: DeprecationWarning: `np.int` is a deprecated alias for the builtin `int`. To silence this warning, use `int` by itself. Doing this will not modify any behavior and is safe. When replacing `np.int`, you may wish to use e.g. `np.int64` or `np.int32` to specify the precision. If you wish to review your current use, check the release note link for additional information.\n",
      "Deprecated in NumPy 1.20; for more details and guidance: https://numpy.org/devdocs/release/1.20.0-notes.html#deprecations\n",
      "  pred_y=classifier.predict(test_x).reshape(-1).astype(np.int)\n",
      "/opt/conda/lib/python3.10/site-packages/sklearn/ensemble/_forest.py:424: FutureWarning: `max_features='auto'` has been deprecated in 1.1 and will be removed in 1.3. To keep the past behaviour, explicitly set `max_features='sqrt'` or remove this parameter as it is also the default value for RandomForestClassifiers and ExtraTreesClassifiers.\n",
      "  warn(\n",
      "/tmp/ipykernel_20/4205274349.py:70: DeprecationWarning: `np.int` is a deprecated alias for the builtin `int`. To silence this warning, use `int` by itself. Doing this will not modify any behavior and is safe. When replacing `np.int`, you may wish to use e.g. `np.int64` or `np.int32` to specify the precision. If you wish to review your current use, check the release note link for additional information.\n",
      "Deprecated in NumPy 1.20; for more details and guidance: https://numpy.org/devdocs/release/1.20.0-notes.html#deprecations\n",
      "  pred_y=classifier.predict(test_x).reshape(-1).astype(np.int)\n",
      "/opt/conda/lib/python3.10/site-packages/sklearn/ensemble/_forest.py:424: FutureWarning: `max_features='auto'` has been deprecated in 1.1 and will be removed in 1.3. To keep the past behaviour, explicitly set `max_features='sqrt'` or remove this parameter as it is also the default value for RandomForestClassifiers and ExtraTreesClassifiers.\n",
      "  warn(\n",
      "/tmp/ipykernel_20/4205274349.py:70: DeprecationWarning: `np.int` is a deprecated alias for the builtin `int`. To silence this warning, use `int` by itself. Doing this will not modify any behavior and is safe. When replacing `np.int`, you may wish to use e.g. `np.int64` or `np.int32` to specify the precision. If you wish to review your current use, check the release note link for additional information.\n",
      "Deprecated in NumPy 1.20; for more details and guidance: https://numpy.org/devdocs/release/1.20.0-notes.html#deprecations\n",
      "  pred_y=classifier.predict(test_x).reshape(-1).astype(np.int)\n",
      "/opt/conda/lib/python3.10/site-packages/sklearn/ensemble/_forest.py:424: FutureWarning: `max_features='auto'` has been deprecated in 1.1 and will be removed in 1.3. To keep the past behaviour, explicitly set `max_features='sqrt'` or remove this parameter as it is also the default value for RandomForestClassifiers and ExtraTreesClassifiers.\n",
      "  warn(\n",
      "/tmp/ipykernel_20/4205274349.py:70: DeprecationWarning: `np.int` is a deprecated alias for the builtin `int`. To silence this warning, use `int` by itself. Doing this will not modify any behavior and is safe. When replacing `np.int`, you may wish to use e.g. `np.int64` or `np.int32` to specify the precision. If you wish to review your current use, check the release note link for additional information.\n",
      "Deprecated in NumPy 1.20; for more details and guidance: https://numpy.org/devdocs/release/1.20.0-notes.html#deprecations\n",
      "  pred_y=classifier.predict(test_x).reshape(-1).astype(np.int)\n",
      "/opt/conda/lib/python3.10/site-packages/sklearn/ensemble/_forest.py:424: FutureWarning: `max_features='auto'` has been deprecated in 1.1 and will be removed in 1.3. To keep the past behaviour, explicitly set `max_features='sqrt'` or remove this parameter as it is also the default value for RandomForestClassifiers and ExtraTreesClassifiers.\n",
      "  warn(\n",
      "/tmp/ipykernel_20/4205274349.py:70: DeprecationWarning: `np.int` is a deprecated alias for the builtin `int`. To silence this warning, use `int` by itself. Doing this will not modify any behavior and is safe. When replacing `np.int`, you may wish to use e.g. `np.int64` or `np.int32` to specify the precision. If you wish to review your current use, check the release note link for additional information.\n",
      "Deprecated in NumPy 1.20; for more details and guidance: https://numpy.org/devdocs/release/1.20.0-notes.html#deprecations\n",
      "  pred_y=classifier.predict(test_x).reshape(-1).astype(np.int)\n",
      "\u001b[32m[I 2023-05-27 02:38:53,521]\u001b[0m Trial 9 finished with value: 0.9092971413585104 and parameters: {'standardize': 'StandardScaler', 'classifier_name': 'RandomForest', 'rf_n_estimators': 20, 'rf_max_features': 'auto'}. Best is trial 6 with value: 0.9384998688696564.\u001b[0m\n",
      "/tmp/ipykernel_20/4205274349.py:70: DeprecationWarning: `np.int` is a deprecated alias for the builtin `int`. To silence this warning, use `int` by itself. Doing this will not modify any behavior and is safe. When replacing `np.int`, you may wish to use e.g. `np.int64` or `np.int32` to specify the precision. If you wish to review your current use, check the release note link for additional information.\n",
      "Deprecated in NumPy 1.20; for more details and guidance: https://numpy.org/devdocs/release/1.20.0-notes.html#deprecations\n",
      "  pred_y=classifier.predict(test_x).reshape(-1).astype(np.int)\n",
      "/tmp/ipykernel_20/4205274349.py:70: DeprecationWarning: `np.int` is a deprecated alias for the builtin `int`. To silence this warning, use `int` by itself. Doing this will not modify any behavior and is safe. When replacing `np.int`, you may wish to use e.g. `np.int64` or `np.int32` to specify the precision. If you wish to review your current use, check the release note link for additional information.\n",
      "Deprecated in NumPy 1.20; for more details and guidance: https://numpy.org/devdocs/release/1.20.0-notes.html#deprecations\n",
      "  pred_y=classifier.predict(test_x).reshape(-1).astype(np.int)\n",
      "/tmp/ipykernel_20/4205274349.py:70: DeprecationWarning: `np.int` is a deprecated alias for the builtin `int`. To silence this warning, use `int` by itself. Doing this will not modify any behavior and is safe. When replacing `np.int`, you may wish to use e.g. `np.int64` or `np.int32` to specify the precision. If you wish to review your current use, check the release note link for additional information.\n",
      "Deprecated in NumPy 1.20; for more details and guidance: https://numpy.org/devdocs/release/1.20.0-notes.html#deprecations\n",
      "  pred_y=classifier.predict(test_x).reshape(-1).astype(np.int)\n",
      "/tmp/ipykernel_20/4205274349.py:70: DeprecationWarning: `np.int` is a deprecated alias for the builtin `int`. To silence this warning, use `int` by itself. Doing this will not modify any behavior and is safe. When replacing `np.int`, you may wish to use e.g. `np.int64` or `np.int32` to specify the precision. If you wish to review your current use, check the release note link for additional information.\n",
      "Deprecated in NumPy 1.20; for more details and guidance: https://numpy.org/devdocs/release/1.20.0-notes.html#deprecations\n",
      "  pred_y=classifier.predict(test_x).reshape(-1).astype(np.int)\n",
      "/tmp/ipykernel_20/4205274349.py:70: DeprecationWarning: `np.int` is a deprecated alias for the builtin `int`. To silence this warning, use `int` by itself. Doing this will not modify any behavior and is safe. When replacing `np.int`, you may wish to use e.g. `np.int64` or `np.int32` to specify the precision. If you wish to review your current use, check the release note link for additional information.\n",
      "Deprecated in NumPy 1.20; for more details and guidance: https://numpy.org/devdocs/release/1.20.0-notes.html#deprecations\n",
      "  pred_y=classifier.predict(test_x).reshape(-1).astype(np.int)\n",
      "\u001b[32m[I 2023-05-27 02:38:55,114]\u001b[0m Trial 10 finished with value: 0.9336218200891686 and parameters: {'standardize': 'MinMaxScaler', 'classifier_name': 'XGB', 'rf_x_estimators': 460, 'rf_max_depth': 7}. Best is trial 6 with value: 0.9384998688696564.\u001b[0m\n",
      "/tmp/ipykernel_20/4205274349.py:70: DeprecationWarning: `np.int` is a deprecated alias for the builtin `int`. To silence this warning, use `int` by itself. Doing this will not modify any behavior and is safe. When replacing `np.int`, you may wish to use e.g. `np.int64` or `np.int32` to specify the precision. If you wish to review your current use, check the release note link for additional information.\n",
      "Deprecated in NumPy 1.20; for more details and guidance: https://numpy.org/devdocs/release/1.20.0-notes.html#deprecations\n",
      "  pred_y=classifier.predict(test_x).reshape(-1).astype(np.int)\n",
      "/tmp/ipykernel_20/4205274349.py:70: DeprecationWarning: `np.int` is a deprecated alias for the builtin `int`. To silence this warning, use `int` by itself. Doing this will not modify any behavior and is safe. When replacing `np.int`, you may wish to use e.g. `np.int64` or `np.int32` to specify the precision. If you wish to review your current use, check the release note link for additional information.\n",
      "Deprecated in NumPy 1.20; for more details and guidance: https://numpy.org/devdocs/release/1.20.0-notes.html#deprecations\n",
      "  pred_y=classifier.predict(test_x).reshape(-1).astype(np.int)\n",
      "/tmp/ipykernel_20/4205274349.py:70: DeprecationWarning: `np.int` is a deprecated alias for the builtin `int`. To silence this warning, use `int` by itself. Doing this will not modify any behavior and is safe. When replacing `np.int`, you may wish to use e.g. `np.int64` or `np.int32` to specify the precision. If you wish to review your current use, check the release note link for additional information.\n",
      "Deprecated in NumPy 1.20; for more details and guidance: https://numpy.org/devdocs/release/1.20.0-notes.html#deprecations\n",
      "  pred_y=classifier.predict(test_x).reshape(-1).astype(np.int)\n",
      "/tmp/ipykernel_20/4205274349.py:70: DeprecationWarning: `np.int` is a deprecated alias for the builtin `int`. To silence this warning, use `int` by itself. Doing this will not modify any behavior and is safe. When replacing `np.int`, you may wish to use e.g. `np.int64` or `np.int32` to specify the precision. If you wish to review your current use, check the release note link for additional information.\n",
      "Deprecated in NumPy 1.20; for more details and guidance: https://numpy.org/devdocs/release/1.20.0-notes.html#deprecations\n",
      "  pred_y=classifier.predict(test_x).reshape(-1).astype(np.int)\n",
      "/tmp/ipykernel_20/4205274349.py:70: DeprecationWarning: `np.int` is a deprecated alias for the builtin `int`. To silence this warning, use `int` by itself. Doing this will not modify any behavior and is safe. When replacing `np.int`, you may wish to use e.g. `np.int64` or `np.int32` to specify the precision. If you wish to review your current use, check the release note link for additional information.\n",
      "Deprecated in NumPy 1.20; for more details and guidance: https://numpy.org/devdocs/release/1.20.0-notes.html#deprecations\n",
      "  pred_y=classifier.predict(test_x).reshape(-1).astype(np.int)\n",
      "\u001b[32m[I 2023-05-27 02:38:55,779]\u001b[0m Trial 11 finished with value: 0.9352478363493312 and parameters: {'standardize': 'MinMaxScaler', 'classifier_name': 'XGB', 'rf_x_estimators': 100, 'rf_max_depth': 7}. Best is trial 6 with value: 0.9384998688696564.\u001b[0m\n",
      "/tmp/ipykernel_20/4205274349.py:70: DeprecationWarning: `np.int` is a deprecated alias for the builtin `int`. To silence this warning, use `int` by itself. Doing this will not modify any behavior and is safe. When replacing `np.int`, you may wish to use e.g. `np.int64` or `np.int32` to specify the precision. If you wish to review your current use, check the release note link for additional information.\n",
      "Deprecated in NumPy 1.20; for more details and guidance: https://numpy.org/devdocs/release/1.20.0-notes.html#deprecations\n",
      "  pred_y=classifier.predict(test_x).reshape(-1).astype(np.int)\n",
      "/tmp/ipykernel_20/4205274349.py:70: DeprecationWarning: `np.int` is a deprecated alias for the builtin `int`. To silence this warning, use `int` by itself. Doing this will not modify any behavior and is safe. When replacing `np.int`, you may wish to use e.g. `np.int64` or `np.int32` to specify the precision. If you wish to review your current use, check the release note link for additional information.\n",
      "Deprecated in NumPy 1.20; for more details and guidance: https://numpy.org/devdocs/release/1.20.0-notes.html#deprecations\n",
      "  pred_y=classifier.predict(test_x).reshape(-1).astype(np.int)\n",
      "/tmp/ipykernel_20/4205274349.py:70: DeprecationWarning: `np.int` is a deprecated alias for the builtin `int`. To silence this warning, use `int` by itself. Doing this will not modify any behavior and is safe. When replacing `np.int`, you may wish to use e.g. `np.int64` or `np.int32` to specify the precision. If you wish to review your current use, check the release note link for additional information.\n",
      "Deprecated in NumPy 1.20; for more details and guidance: https://numpy.org/devdocs/release/1.20.0-notes.html#deprecations\n",
      "  pred_y=classifier.predict(test_x).reshape(-1).astype(np.int)\n",
      "/tmp/ipykernel_20/4205274349.py:70: DeprecationWarning: `np.int` is a deprecated alias for the builtin `int`. To silence this warning, use `int` by itself. Doing this will not modify any behavior and is safe. When replacing `np.int`, you may wish to use e.g. `np.int64` or `np.int32` to specify the precision. If you wish to review your current use, check the release note link for additional information.\n",
      "Deprecated in NumPy 1.20; for more details and guidance: https://numpy.org/devdocs/release/1.20.0-notes.html#deprecations\n",
      "  pred_y=classifier.predict(test_x).reshape(-1).astype(np.int)\n",
      "/tmp/ipykernel_20/4205274349.py:70: DeprecationWarning: `np.int` is a deprecated alias for the builtin `int`. To silence this warning, use `int` by itself. Doing this will not modify any behavior and is safe. When replacing `np.int`, you may wish to use e.g. `np.int64` or `np.int32` to specify the precision. If you wish to review your current use, check the release note link for additional information.\n",
      "Deprecated in NumPy 1.20; for more details and guidance: https://numpy.org/devdocs/release/1.20.0-notes.html#deprecations\n",
      "  pred_y=classifier.predict(test_x).reshape(-1).astype(np.int)\n",
      "\u001b[32m[I 2023-05-27 02:38:56,365]\u001b[0m Trial 12 finished with value: 0.9271308680828744 and parameters: {'standardize': 'MinMaxScaler', 'classifier_name': 'XGB', 'rf_x_estimators': 100, 'rf_max_depth': 3}. Best is trial 6 with value: 0.9384998688696564.\u001b[0m\n",
      "/tmp/ipykernel_20/4205274349.py:70: DeprecationWarning: `np.int` is a deprecated alias for the builtin `int`. To silence this warning, use `int` by itself. Doing this will not modify any behavior and is safe. When replacing `np.int`, you may wish to use e.g. `np.int64` or `np.int32` to specify the precision. If you wish to review your current use, check the release note link for additional information.\n",
      "Deprecated in NumPy 1.20; for more details and guidance: https://numpy.org/devdocs/release/1.20.0-notes.html#deprecations\n",
      "  pred_y=classifier.predict(test_x).reshape(-1).astype(np.int)\n",
      "/tmp/ipykernel_20/4205274349.py:70: DeprecationWarning: `np.int` is a deprecated alias for the builtin `int`. To silence this warning, use `int` by itself. Doing this will not modify any behavior and is safe. When replacing `np.int`, you may wish to use e.g. `np.int64` or `np.int32` to specify the precision. If you wish to review your current use, check the release note link for additional information.\n",
      "Deprecated in NumPy 1.20; for more details and guidance: https://numpy.org/devdocs/release/1.20.0-notes.html#deprecations\n",
      "  pred_y=classifier.predict(test_x).reshape(-1).astype(np.int)\n",
      "/tmp/ipykernel_20/4205274349.py:70: DeprecationWarning: `np.int` is a deprecated alias for the builtin `int`. To silence this warning, use `int` by itself. Doing this will not modify any behavior and is safe. When replacing `np.int`, you may wish to use e.g. `np.int64` or `np.int32` to specify the precision. If you wish to review your current use, check the release note link for additional information.\n",
      "Deprecated in NumPy 1.20; for more details and guidance: https://numpy.org/devdocs/release/1.20.0-notes.html#deprecations\n",
      "  pred_y=classifier.predict(test_x).reshape(-1).astype(np.int)\n",
      "/tmp/ipykernel_20/4205274349.py:70: DeprecationWarning: `np.int` is a deprecated alias for the builtin `int`. To silence this warning, use `int` by itself. Doing this will not modify any behavior and is safe. When replacing `np.int`, you may wish to use e.g. `np.int64` or `np.int32` to specify the precision. If you wish to review your current use, check the release note link for additional information.\n",
      "Deprecated in NumPy 1.20; for more details and guidance: https://numpy.org/devdocs/release/1.20.0-notes.html#deprecations\n",
      "  pred_y=classifier.predict(test_x).reshape(-1).astype(np.int)\n",
      "/tmp/ipykernel_20/4205274349.py:70: DeprecationWarning: `np.int` is a deprecated alias for the builtin `int`. To silence this warning, use `int` by itself. Doing this will not modify any behavior and is safe. When replacing `np.int`, you may wish to use e.g. `np.int64` or `np.int32` to specify the precision. If you wish to review your current use, check the release note link for additional information.\n",
      "Deprecated in NumPy 1.20; for more details and guidance: https://numpy.org/devdocs/release/1.20.0-notes.html#deprecations\n",
      "  pred_y=classifier.predict(test_x).reshape(-1).astype(np.int)\n",
      "\u001b[32m[I 2023-05-27 02:38:57,039]\u001b[0m Trial 13 finished with value: 0.9319564647259375 and parameters: {'standardize': 'MinMaxScaler', 'classifier_name': 'XGB', 'rf_x_estimators': 100, 'rf_max_depth': 6}. Best is trial 6 with value: 0.9384998688696564.\u001b[0m\n",
      "/tmp/ipykernel_20/4205274349.py:70: DeprecationWarning: `np.int` is a deprecated alias for the builtin `int`. To silence this warning, use `int` by itself. Doing this will not modify any behavior and is safe. When replacing `np.int`, you may wish to use e.g. `np.int64` or `np.int32` to specify the precision. If you wish to review your current use, check the release note link for additional information.\n",
      "Deprecated in NumPy 1.20; for more details and guidance: https://numpy.org/devdocs/release/1.20.0-notes.html#deprecations\n",
      "  pred_y=classifier.predict(test_x).reshape(-1).astype(np.int)\n",
      "/tmp/ipykernel_20/4205274349.py:70: DeprecationWarning: `np.int` is a deprecated alias for the builtin `int`. To silence this warning, use `int` by itself. Doing this will not modify any behavior and is safe. When replacing `np.int`, you may wish to use e.g. `np.int64` or `np.int32` to specify the precision. If you wish to review your current use, check the release note link for additional information.\n",
      "Deprecated in NumPy 1.20; for more details and guidance: https://numpy.org/devdocs/release/1.20.0-notes.html#deprecations\n",
      "  pred_y=classifier.predict(test_x).reshape(-1).astype(np.int)\n",
      "/tmp/ipykernel_20/4205274349.py:70: DeprecationWarning: `np.int` is a deprecated alias for the builtin `int`. To silence this warning, use `int` by itself. Doing this will not modify any behavior and is safe. When replacing `np.int`, you may wish to use e.g. `np.int64` or `np.int32` to specify the precision. If you wish to review your current use, check the release note link for additional information.\n",
      "Deprecated in NumPy 1.20; for more details and guidance: https://numpy.org/devdocs/release/1.20.0-notes.html#deprecations\n",
      "  pred_y=classifier.predict(test_x).reshape(-1).astype(np.int)\n",
      "/tmp/ipykernel_20/4205274349.py:70: DeprecationWarning: `np.int` is a deprecated alias for the builtin `int`. To silence this warning, use `int` by itself. Doing this will not modify any behavior and is safe. When replacing `np.int`, you may wish to use e.g. `np.int64` or `np.int32` to specify the precision. If you wish to review your current use, check the release note link for additional information.\n",
      "Deprecated in NumPy 1.20; for more details and guidance: https://numpy.org/devdocs/release/1.20.0-notes.html#deprecations\n",
      "  pred_y=classifier.predict(test_x).reshape(-1).astype(np.int)\n",
      "/tmp/ipykernel_20/4205274349.py:70: DeprecationWarning: `np.int` is a deprecated alias for the builtin `int`. To silence this warning, use `int` by itself. Doing this will not modify any behavior and is safe. When replacing `np.int`, you may wish to use e.g. `np.int64` or `np.int32` to specify the precision. If you wish to review your current use, check the release note link for additional information.\n",
      "Deprecated in NumPy 1.20; for more details and guidance: https://numpy.org/devdocs/release/1.20.0-notes.html#deprecations\n",
      "  pred_y=classifier.predict(test_x).reshape(-1).astype(np.int)\n",
      "\u001b[32m[I 2023-05-27 02:38:57,957]\u001b[0m Trial 14 finished with value: 0.9384998688696564 and parameters: {'standardize': 'MinMaxScaler', 'classifier_name': 'XGB', 'rf_x_estimators': 190, 'rf_max_depth': 7}. Best is trial 6 with value: 0.9384998688696564.\u001b[0m\n",
      "/tmp/ipykernel_20/4205274349.py:70: DeprecationWarning: `np.int` is a deprecated alias for the builtin `int`. To silence this warning, use `int` by itself. Doing this will not modify any behavior and is safe. When replacing `np.int`, you may wish to use e.g. `np.int64` or `np.int32` to specify the precision. If you wish to review your current use, check the release note link for additional information.\n",
      "Deprecated in NumPy 1.20; for more details and guidance: https://numpy.org/devdocs/release/1.20.0-notes.html#deprecations\n",
      "  pred_y=classifier.predict(test_x).reshape(-1).astype(np.int)\n",
      "/tmp/ipykernel_20/4205274349.py:70: DeprecationWarning: `np.int` is a deprecated alias for the builtin `int`. To silence this warning, use `int` by itself. Doing this will not modify any behavior and is safe. When replacing `np.int`, you may wish to use e.g. `np.int64` or `np.int32` to specify the precision. If you wish to review your current use, check the release note link for additional information.\n",
      "Deprecated in NumPy 1.20; for more details and guidance: https://numpy.org/devdocs/release/1.20.0-notes.html#deprecations\n",
      "  pred_y=classifier.predict(test_x).reshape(-1).astype(np.int)\n",
      "/tmp/ipykernel_20/4205274349.py:70: DeprecationWarning: `np.int` is a deprecated alias for the builtin `int`. To silence this warning, use `int` by itself. Doing this will not modify any behavior and is safe. When replacing `np.int`, you may wish to use e.g. `np.int64` or `np.int32` to specify the precision. If you wish to review your current use, check the release note link for additional information.\n",
      "Deprecated in NumPy 1.20; for more details and guidance: https://numpy.org/devdocs/release/1.20.0-notes.html#deprecations\n",
      "  pred_y=classifier.predict(test_x).reshape(-1).astype(np.int)\n",
      "/tmp/ipykernel_20/4205274349.py:70: DeprecationWarning: `np.int` is a deprecated alias for the builtin `int`. To silence this warning, use `int` by itself. Doing this will not modify any behavior and is safe. When replacing `np.int`, you may wish to use e.g. `np.int64` or `np.int32` to specify the precision. If you wish to review your current use, check the release note link for additional information.\n",
      "Deprecated in NumPy 1.20; for more details and guidance: https://numpy.org/devdocs/release/1.20.0-notes.html#deprecations\n",
      "  pred_y=classifier.predict(test_x).reshape(-1).astype(np.int)\n",
      "/tmp/ipykernel_20/4205274349.py:70: DeprecationWarning: `np.int` is a deprecated alias for the builtin `int`. To silence this warning, use `int` by itself. Doing this will not modify any behavior and is safe. When replacing `np.int`, you may wish to use e.g. `np.int64` or `np.int32` to specify the precision. If you wish to review your current use, check the release note link for additional information.\n",
      "Deprecated in NumPy 1.20; for more details and guidance: https://numpy.org/devdocs/release/1.20.0-notes.html#deprecations\n",
      "  pred_y=classifier.predict(test_x).reshape(-1).astype(np.int)\n",
      "\u001b[32m[I 2023-05-27 02:38:58,852]\u001b[0m Trial 15 finished with value: 0.9336349331235247 and parameters: {'standardize': 'MinMaxScaler', 'classifier_name': 'XGB', 'rf_x_estimators': 190, 'rf_max_depth': 5}. Best is trial 6 with value: 0.9384998688696564.\u001b[0m\n",
      "/tmp/ipykernel_20/4205274349.py:70: DeprecationWarning: `np.int` is a deprecated alias for the builtin `int`. To silence this warning, use `int` by itself. Doing this will not modify any behavior and is safe. When replacing `np.int`, you may wish to use e.g. `np.int64` or `np.int32` to specify the precision. If you wish to review your current use, check the release note link for additional information.\n",
      "Deprecated in NumPy 1.20; for more details and guidance: https://numpy.org/devdocs/release/1.20.0-notes.html#deprecations\n",
      "  pred_y=classifier.predict(test_x).reshape(-1).astype(np.int)\n",
      "/tmp/ipykernel_20/4205274349.py:70: DeprecationWarning: `np.int` is a deprecated alias for the builtin `int`. To silence this warning, use `int` by itself. Doing this will not modify any behavior and is safe. When replacing `np.int`, you may wish to use e.g. `np.int64` or `np.int32` to specify the precision. If you wish to review your current use, check the release note link for additional information.\n",
      "Deprecated in NumPy 1.20; for more details and guidance: https://numpy.org/devdocs/release/1.20.0-notes.html#deprecations\n",
      "  pred_y=classifier.predict(test_x).reshape(-1).astype(np.int)\n",
      "/tmp/ipykernel_20/4205274349.py:70: DeprecationWarning: `np.int` is a deprecated alias for the builtin `int`. To silence this warning, use `int` by itself. Doing this will not modify any behavior and is safe. When replacing `np.int`, you may wish to use e.g. `np.int64` or `np.int32` to specify the precision. If you wish to review your current use, check the release note link for additional information.\n",
      "Deprecated in NumPy 1.20; for more details and guidance: https://numpy.org/devdocs/release/1.20.0-notes.html#deprecations\n",
      "  pred_y=classifier.predict(test_x).reshape(-1).astype(np.int)\n",
      "/tmp/ipykernel_20/4205274349.py:70: DeprecationWarning: `np.int` is a deprecated alias for the builtin `int`. To silence this warning, use `int` by itself. Doing this will not modify any behavior and is safe. When replacing `np.int`, you may wish to use e.g. `np.int64` or `np.int32` to specify the precision. If you wish to review your current use, check the release note link for additional information.\n",
      "Deprecated in NumPy 1.20; for more details and guidance: https://numpy.org/devdocs/release/1.20.0-notes.html#deprecations\n",
      "  pred_y=classifier.predict(test_x).reshape(-1).astype(np.int)\n",
      "/tmp/ipykernel_20/4205274349.py:70: DeprecationWarning: `np.int` is a deprecated alias for the builtin `int`. To silence this warning, use `int` by itself. Doing this will not modify any behavior and is safe. When replacing `np.int`, you may wish to use e.g. `np.int64` or `np.int32` to specify the precision. If you wish to review your current use, check the release note link for additional information.\n",
      "Deprecated in NumPy 1.20; for more details and guidance: https://numpy.org/devdocs/release/1.20.0-notes.html#deprecations\n",
      "  pred_y=classifier.predict(test_x).reshape(-1).astype(np.int)\n",
      "\u001b[32m[I 2023-05-27 02:38:59,768]\u001b[0m Trial 16 finished with value: 0.9384998688696564 and parameters: {'standardize': 'MinMaxScaler', 'classifier_name': 'XGB', 'rf_x_estimators': 190, 'rf_max_depth': 7}. Best is trial 6 with value: 0.9384998688696564.\u001b[0m\n",
      "/tmp/ipykernel_20/4205274349.py:70: DeprecationWarning: `np.int` is a deprecated alias for the builtin `int`. To silence this warning, use `int` by itself. Doing this will not modify any behavior and is safe. When replacing `np.int`, you may wish to use e.g. `np.int64` or `np.int32` to specify the precision. If you wish to review your current use, check the release note link for additional information.\n",
      "Deprecated in NumPy 1.20; for more details and guidance: https://numpy.org/devdocs/release/1.20.0-notes.html#deprecations\n",
      "  pred_y=classifier.predict(test_x).reshape(-1).astype(np.int)\n",
      "/tmp/ipykernel_20/4205274349.py:70: DeprecationWarning: `np.int` is a deprecated alias for the builtin `int`. To silence this warning, use `int` by itself. Doing this will not modify any behavior and is safe. When replacing `np.int`, you may wish to use e.g. `np.int64` or `np.int32` to specify the precision. If you wish to review your current use, check the release note link for additional information.\n",
      "Deprecated in NumPy 1.20; for more details and guidance: https://numpy.org/devdocs/release/1.20.0-notes.html#deprecations\n",
      "  pred_y=classifier.predict(test_x).reshape(-1).astype(np.int)\n",
      "/tmp/ipykernel_20/4205274349.py:70: DeprecationWarning: `np.int` is a deprecated alias for the builtin `int`. To silence this warning, use `int` by itself. Doing this will not modify any behavior and is safe. When replacing `np.int`, you may wish to use e.g. `np.int64` or `np.int32` to specify the precision. If you wish to review your current use, check the release note link for additional information.\n",
      "Deprecated in NumPy 1.20; for more details and guidance: https://numpy.org/devdocs/release/1.20.0-notes.html#deprecations\n",
      "  pred_y=classifier.predict(test_x).reshape(-1).astype(np.int)\n",
      "/tmp/ipykernel_20/4205274349.py:70: DeprecationWarning: `np.int` is a deprecated alias for the builtin `int`. To silence this warning, use `int` by itself. Doing this will not modify any behavior and is safe. When replacing `np.int`, you may wish to use e.g. `np.int64` or `np.int32` to specify the precision. If you wish to review your current use, check the release note link for additional information.\n",
      "Deprecated in NumPy 1.20; for more details and guidance: https://numpy.org/devdocs/release/1.20.0-notes.html#deprecations\n",
      "  pred_y=classifier.predict(test_x).reshape(-1).astype(np.int)\n",
      "/tmp/ipykernel_20/4205274349.py:70: DeprecationWarning: `np.int` is a deprecated alias for the builtin `int`. To silence this warning, use `int` by itself. Doing this will not modify any behavior and is safe. When replacing `np.int`, you may wish to use e.g. `np.int64` or `np.int32` to specify the precision. If you wish to review your current use, check the release note link for additional information.\n",
      "Deprecated in NumPy 1.20; for more details and guidance: https://numpy.org/devdocs/release/1.20.0-notes.html#deprecations\n",
      "  pred_y=classifier.predict(test_x).reshape(-1).astype(np.int)\n",
      "\u001b[32m[I 2023-05-27 02:39:02,226]\u001b[0m Trial 17 finished with value: 0.9336218200891686 and parameters: {'standardize': 'MinMaxScaler', 'classifier_name': 'XGB', 'rf_x_estimators': 820, 'rf_max_depth': 7}. Best is trial 6 with value: 0.9384998688696564.\u001b[0m\n",
      "/tmp/ipykernel_20/4205274349.py:70: DeprecationWarning: `np.int` is a deprecated alias for the builtin `int`. To silence this warning, use `int` by itself. Doing this will not modify any behavior and is safe. When replacing `np.int`, you may wish to use e.g. `np.int64` or `np.int32` to specify the precision. If you wish to review your current use, check the release note link for additional information.\n",
      "Deprecated in NumPy 1.20; for more details and guidance: https://numpy.org/devdocs/release/1.20.0-notes.html#deprecations\n",
      "  pred_y=classifier.predict(test_x).reshape(-1).astype(np.int)\n",
      "/tmp/ipykernel_20/4205274349.py:70: DeprecationWarning: `np.int` is a deprecated alias for the builtin `int`. To silence this warning, use `int` by itself. Doing this will not modify any behavior and is safe. When replacing `np.int`, you may wish to use e.g. `np.int64` or `np.int32` to specify the precision. If you wish to review your current use, check the release note link for additional information.\n",
      "Deprecated in NumPy 1.20; for more details and guidance: https://numpy.org/devdocs/release/1.20.0-notes.html#deprecations\n",
      "  pred_y=classifier.predict(test_x).reshape(-1).astype(np.int)\n",
      "/tmp/ipykernel_20/4205274349.py:70: DeprecationWarning: `np.int` is a deprecated alias for the builtin `int`. To silence this warning, use `int` by itself. Doing this will not modify any behavior and is safe. When replacing `np.int`, you may wish to use e.g. `np.int64` or `np.int32` to specify the precision. If you wish to review your current use, check the release note link for additional information.\n",
      "Deprecated in NumPy 1.20; for more details and guidance: https://numpy.org/devdocs/release/1.20.0-notes.html#deprecations\n",
      "  pred_y=classifier.predict(test_x).reshape(-1).astype(np.int)\n",
      "/tmp/ipykernel_20/4205274349.py:70: DeprecationWarning: `np.int` is a deprecated alias for the builtin `int`. To silence this warning, use `int` by itself. Doing this will not modify any behavior and is safe. When replacing `np.int`, you may wish to use e.g. `np.int64` or `np.int32` to specify the precision. If you wish to review your current use, check the release note link for additional information.\n",
      "Deprecated in NumPy 1.20; for more details and guidance: https://numpy.org/devdocs/release/1.20.0-notes.html#deprecations\n",
      "  pred_y=classifier.predict(test_x).reshape(-1).astype(np.int)\n",
      "/tmp/ipykernel_20/4205274349.py:70: DeprecationWarning: `np.int` is a deprecated alias for the builtin `int`. To silence this warning, use `int` by itself. Doing this will not modify any behavior and is safe. When replacing `np.int`, you may wish to use e.g. `np.int64` or `np.int32` to specify the precision. If you wish to review your current use, check the release note link for additional information.\n",
      "Deprecated in NumPy 1.20; for more details and guidance: https://numpy.org/devdocs/release/1.20.0-notes.html#deprecations\n",
      "  pred_y=classifier.predict(test_x).reshape(-1).astype(np.int)\n",
      "\u001b[32m[I 2023-05-27 02:39:03,586]\u001b[0m Trial 18 finished with value: 0.9368214004720692 and parameters: {'standardize': 'MinMaxScaler', 'classifier_name': 'XGB', 'rf_x_estimators': 370, 'rf_max_depth': 6}. Best is trial 6 with value: 0.9384998688696564.\u001b[0m\n",
      "/tmp/ipykernel_20/4205274349.py:70: DeprecationWarning: `np.int` is a deprecated alias for the builtin `int`. To silence this warning, use `int` by itself. Doing this will not modify any behavior and is safe. When replacing `np.int`, you may wish to use e.g. `np.int64` or `np.int32` to specify the precision. If you wish to review your current use, check the release note link for additional information.\n",
      "Deprecated in NumPy 1.20; for more details and guidance: https://numpy.org/devdocs/release/1.20.0-notes.html#deprecations\n",
      "  pred_y=classifier.predict(test_x).reshape(-1).astype(np.int)\n",
      "/tmp/ipykernel_20/4205274349.py:70: DeprecationWarning: `np.int` is a deprecated alias for the builtin `int`. To silence this warning, use `int` by itself. Doing this will not modify any behavior and is safe. When replacing `np.int`, you may wish to use e.g. `np.int64` or `np.int32` to specify the precision. If you wish to review your current use, check the release note link for additional information.\n",
      "Deprecated in NumPy 1.20; for more details and guidance: https://numpy.org/devdocs/release/1.20.0-notes.html#deprecations\n",
      "  pred_y=classifier.predict(test_x).reshape(-1).astype(np.int)\n",
      "/tmp/ipykernel_20/4205274349.py:70: DeprecationWarning: `np.int` is a deprecated alias for the builtin `int`. To silence this warning, use `int` by itself. Doing this will not modify any behavior and is safe. When replacing `np.int`, you may wish to use e.g. `np.int64` or `np.int32` to specify the precision. If you wish to review your current use, check the release note link for additional information.\n",
      "Deprecated in NumPy 1.20; for more details and guidance: https://numpy.org/devdocs/release/1.20.0-notes.html#deprecations\n",
      "  pred_y=classifier.predict(test_x).reshape(-1).astype(np.int)\n",
      "/tmp/ipykernel_20/4205274349.py:70: DeprecationWarning: `np.int` is a deprecated alias for the builtin `int`. To silence this warning, use `int` by itself. Doing this will not modify any behavior and is safe. When replacing `np.int`, you may wish to use e.g. `np.int64` or `np.int32` to specify the precision. If you wish to review your current use, check the release note link for additional information.\n",
      "Deprecated in NumPy 1.20; for more details and guidance: https://numpy.org/devdocs/release/1.20.0-notes.html#deprecations\n",
      "  pred_y=classifier.predict(test_x).reshape(-1).astype(np.int)\n",
      "/tmp/ipykernel_20/4205274349.py:70: DeprecationWarning: `np.int` is a deprecated alias for the builtin `int`. To silence this warning, use `int` by itself. Doing this will not modify any behavior and is safe. When replacing `np.int`, you may wish to use e.g. `np.int64` or `np.int32` to specify the precision. If you wish to review your current use, check the release note link for additional information.\n",
      "Deprecated in NumPy 1.20; for more details and guidance: https://numpy.org/devdocs/release/1.20.0-notes.html#deprecations\n",
      "  pred_y=classifier.predict(test_x).reshape(-1).astype(np.int)\n",
      "\u001b[32m[I 2023-05-27 02:39:05,356]\u001b[0m Trial 19 finished with value: 0.9190138998164176 and parameters: {'standardize': 'MinMaxScaler', 'classifier_name': 'XGB', 'rf_x_estimators': 550, 'rf_max_depth': 3}. Best is trial 6 with value: 0.9384998688696564.\u001b[0m\n",
      "/tmp/ipykernel_20/4205274349.py:70: DeprecationWarning: `np.int` is a deprecated alias for the builtin `int`. To silence this warning, use `int` by itself. Doing this will not modify any behavior and is safe. When replacing `np.int`, you may wish to use e.g. `np.int64` or `np.int32` to specify the precision. If you wish to review your current use, check the release note link for additional information.\n",
      "Deprecated in NumPy 1.20; for more details and guidance: https://numpy.org/devdocs/release/1.20.0-notes.html#deprecations\n",
      "  pred_y=classifier.predict(test_x).reshape(-1).astype(np.int)\n",
      "/tmp/ipykernel_20/4205274349.py:70: DeprecationWarning: `np.int` is a deprecated alias for the builtin `int`. To silence this warning, use `int` by itself. Doing this will not modify any behavior and is safe. When replacing `np.int`, you may wish to use e.g. `np.int64` or `np.int32` to specify the precision. If you wish to review your current use, check the release note link for additional information.\n",
      "Deprecated in NumPy 1.20; for more details and guidance: https://numpy.org/devdocs/release/1.20.0-notes.html#deprecations\n",
      "  pred_y=classifier.predict(test_x).reshape(-1).astype(np.int)\n",
      "/tmp/ipykernel_20/4205274349.py:70: DeprecationWarning: `np.int` is a deprecated alias for the builtin `int`. To silence this warning, use `int` by itself. Doing this will not modify any behavior and is safe. When replacing `np.int`, you may wish to use e.g. `np.int64` or `np.int32` to specify the precision. If you wish to review your current use, check the release note link for additional information.\n",
      "Deprecated in NumPy 1.20; for more details and guidance: https://numpy.org/devdocs/release/1.20.0-notes.html#deprecations\n",
      "  pred_y=classifier.predict(test_x).reshape(-1).astype(np.int)\n",
      "/tmp/ipykernel_20/4205274349.py:70: DeprecationWarning: `np.int` is a deprecated alias for the builtin `int`. To silence this warning, use `int` by itself. Doing this will not modify any behavior and is safe. When replacing `np.int`, you may wish to use e.g. `np.int64` or `np.int32` to specify the precision. If you wish to review your current use, check the release note link for additional information.\n",
      "Deprecated in NumPy 1.20; for more details and guidance: https://numpy.org/devdocs/release/1.20.0-notes.html#deprecations\n",
      "  pred_y=classifier.predict(test_x).reshape(-1).astype(np.int)\n",
      "/tmp/ipykernel_20/4205274349.py:70: DeprecationWarning: `np.int` is a deprecated alias for the builtin `int`. To silence this warning, use `int` by itself. Doing this will not modify any behavior and is safe. When replacing `np.int`, you may wish to use e.g. `np.int64` or `np.int32` to specify the precision. If you wish to review your current use, check the release note link for additional information.\n",
      "Deprecated in NumPy 1.20; for more details and guidance: https://numpy.org/devdocs/release/1.20.0-notes.html#deprecations\n",
      "  pred_y=classifier.predict(test_x).reshape(-1).astype(np.int)\n",
      "\u001b[32m[I 2023-05-27 02:39:07,576]\u001b[0m Trial 20 finished with value: 0.931995803829006 and parameters: {'standardize': 'MinMaxScaler', 'classifier_name': 'XGB', 'rf_x_estimators': 280, 'rf_max_depth': 5}. Best is trial 6 with value: 0.9384998688696564.\u001b[0m\n",
      "/tmp/ipykernel_20/4205274349.py:70: DeprecationWarning: `np.int` is a deprecated alias for the builtin `int`. To silence this warning, use `int` by itself. Doing this will not modify any behavior and is safe. When replacing `np.int`, you may wish to use e.g. `np.int64` or `np.int32` to specify the precision. If you wish to review your current use, check the release note link for additional information.\n",
      "Deprecated in NumPy 1.20; for more details and guidance: https://numpy.org/devdocs/release/1.20.0-notes.html#deprecations\n",
      "  pred_y=classifier.predict(test_x).reshape(-1).astype(np.int)\n",
      "/tmp/ipykernel_20/4205274349.py:70: DeprecationWarning: `np.int` is a deprecated alias for the builtin `int`. To silence this warning, use `int` by itself. Doing this will not modify any behavior and is safe. When replacing `np.int`, you may wish to use e.g. `np.int64` or `np.int32` to specify the precision. If you wish to review your current use, check the release note link for additional information.\n",
      "Deprecated in NumPy 1.20; for more details and guidance: https://numpy.org/devdocs/release/1.20.0-notes.html#deprecations\n",
      "  pred_y=classifier.predict(test_x).reshape(-1).astype(np.int)\n",
      "/tmp/ipykernel_20/4205274349.py:70: DeprecationWarning: `np.int` is a deprecated alias for the builtin `int`. To silence this warning, use `int` by itself. Doing this will not modify any behavior and is safe. When replacing `np.int`, you may wish to use e.g. `np.int64` or `np.int32` to specify the precision. If you wish to review your current use, check the release note link for additional information.\n",
      "Deprecated in NumPy 1.20; for more details and guidance: https://numpy.org/devdocs/release/1.20.0-notes.html#deprecations\n",
      "  pred_y=classifier.predict(test_x).reshape(-1).astype(np.int)\n",
      "/tmp/ipykernel_20/4205274349.py:70: DeprecationWarning: `np.int` is a deprecated alias for the builtin `int`. To silence this warning, use `int` by itself. Doing this will not modify any behavior and is safe. When replacing `np.int`, you may wish to use e.g. `np.int64` or `np.int32` to specify the precision. If you wish to review your current use, check the release note link for additional information.\n",
      "Deprecated in NumPy 1.20; for more details and guidance: https://numpy.org/devdocs/release/1.20.0-notes.html#deprecations\n",
      "  pred_y=classifier.predict(test_x).reshape(-1).astype(np.int)\n",
      "/tmp/ipykernel_20/4205274349.py:70: DeprecationWarning: `np.int` is a deprecated alias for the builtin `int`. To silence this warning, use `int` by itself. Doing this will not modify any behavior and is safe. When replacing `np.int`, you may wish to use e.g. `np.int64` or `np.int32` to specify the precision. If you wish to review your current use, check the release note link for additional information.\n",
      "Deprecated in NumPy 1.20; for more details and guidance: https://numpy.org/devdocs/release/1.20.0-notes.html#deprecations\n",
      "  pred_y=classifier.predict(test_x).reshape(-1).astype(np.int)\n",
      "\u001b[32m[I 2023-05-27 02:39:08,492]\u001b[0m Trial 21 finished with value: 0.9384998688696564 and parameters: {'standardize': 'MinMaxScaler', 'classifier_name': 'XGB', 'rf_x_estimators': 190, 'rf_max_depth': 7}. Best is trial 6 with value: 0.9384998688696564.\u001b[0m\n",
      "/tmp/ipykernel_20/4205274349.py:70: DeprecationWarning: `np.int` is a deprecated alias for the builtin `int`. To silence this warning, use `int` by itself. Doing this will not modify any behavior and is safe. When replacing `np.int`, you may wish to use e.g. `np.int64` or `np.int32` to specify the precision. If you wish to review your current use, check the release note link for additional information.\n",
      "Deprecated in NumPy 1.20; for more details and guidance: https://numpy.org/devdocs/release/1.20.0-notes.html#deprecations\n",
      "  pred_y=classifier.predict(test_x).reshape(-1).astype(np.int)\n",
      "/tmp/ipykernel_20/4205274349.py:70: DeprecationWarning: `np.int` is a deprecated alias for the builtin `int`. To silence this warning, use `int` by itself. Doing this will not modify any behavior and is safe. When replacing `np.int`, you may wish to use e.g. `np.int64` or `np.int32` to specify the precision. If you wish to review your current use, check the release note link for additional information.\n",
      "Deprecated in NumPy 1.20; for more details and guidance: https://numpy.org/devdocs/release/1.20.0-notes.html#deprecations\n",
      "  pred_y=classifier.predict(test_x).reshape(-1).astype(np.int)\n",
      "/tmp/ipykernel_20/4205274349.py:70: DeprecationWarning: `np.int` is a deprecated alias for the builtin `int`. To silence this warning, use `int` by itself. Doing this will not modify any behavior and is safe. When replacing `np.int`, you may wish to use e.g. `np.int64` or `np.int32` to specify the precision. If you wish to review your current use, check the release note link for additional information.\n",
      "Deprecated in NumPy 1.20; for more details and guidance: https://numpy.org/devdocs/release/1.20.0-notes.html#deprecations\n",
      "  pred_y=classifier.predict(test_x).reshape(-1).astype(np.int)\n",
      "/tmp/ipykernel_20/4205274349.py:70: DeprecationWarning: `np.int` is a deprecated alias for the builtin `int`. To silence this warning, use `int` by itself. Doing this will not modify any behavior and is safe. When replacing `np.int`, you may wish to use e.g. `np.int64` or `np.int32` to specify the precision. If you wish to review your current use, check the release note link for additional information.\n",
      "Deprecated in NumPy 1.20; for more details and guidance: https://numpy.org/devdocs/release/1.20.0-notes.html#deprecations\n",
      "  pred_y=classifier.predict(test_x).reshape(-1).astype(np.int)\n",
      "/tmp/ipykernel_20/4205274349.py:70: DeprecationWarning: `np.int` is a deprecated alias for the builtin `int`. To silence this warning, use `int` by itself. Doing this will not modify any behavior and is safe. When replacing `np.int`, you may wish to use e.g. `np.int64` or `np.int32` to specify the precision. If you wish to review your current use, check the release note link for additional information.\n",
      "Deprecated in NumPy 1.20; for more details and guidance: https://numpy.org/devdocs/release/1.20.0-notes.html#deprecations\n",
      "  pred_y=classifier.predict(test_x).reshape(-1).astype(np.int)\n",
      "\u001b[32m[I 2023-05-27 02:39:09,408]\u001b[0m Trial 22 finished with value: 0.9384998688696564 and parameters: {'standardize': 'MinMaxScaler', 'classifier_name': 'XGB', 'rf_x_estimators': 190, 'rf_max_depth': 7}. Best is trial 6 with value: 0.9384998688696564.\u001b[0m\n",
      "/tmp/ipykernel_20/4205274349.py:70: DeprecationWarning: `np.int` is a deprecated alias for the builtin `int`. To silence this warning, use `int` by itself. Doing this will not modify any behavior and is safe. When replacing `np.int`, you may wish to use e.g. `np.int64` or `np.int32` to specify the precision. If you wish to review your current use, check the release note link for additional information.\n",
      "Deprecated in NumPy 1.20; for more details and guidance: https://numpy.org/devdocs/release/1.20.0-notes.html#deprecations\n",
      "  pred_y=classifier.predict(test_x).reshape(-1).astype(np.int)\n",
      "/tmp/ipykernel_20/4205274349.py:70: DeprecationWarning: `np.int` is a deprecated alias for the builtin `int`. To silence this warning, use `int` by itself. Doing this will not modify any behavior and is safe. When replacing `np.int`, you may wish to use e.g. `np.int64` or `np.int32` to specify the precision. If you wish to review your current use, check the release note link for additional information.\n",
      "Deprecated in NumPy 1.20; for more details and guidance: https://numpy.org/devdocs/release/1.20.0-notes.html#deprecations\n",
      "  pred_y=classifier.predict(test_x).reshape(-1).astype(np.int)\n",
      "/tmp/ipykernel_20/4205274349.py:70: DeprecationWarning: `np.int` is a deprecated alias for the builtin `int`. To silence this warning, use `int` by itself. Doing this will not modify any behavior and is safe. When replacing `np.int`, you may wish to use e.g. `np.int64` or `np.int32` to specify the precision. If you wish to review your current use, check the release note link for additional information.\n",
      "Deprecated in NumPy 1.20; for more details and guidance: https://numpy.org/devdocs/release/1.20.0-notes.html#deprecations\n",
      "  pred_y=classifier.predict(test_x).reshape(-1).astype(np.int)\n",
      "/tmp/ipykernel_20/4205274349.py:70: DeprecationWarning: `np.int` is a deprecated alias for the builtin `int`. To silence this warning, use `int` by itself. Doing this will not modify any behavior and is safe. When replacing `np.int`, you may wish to use e.g. `np.int64` or `np.int32` to specify the precision. If you wish to review your current use, check the release note link for additional information.\n",
      "Deprecated in NumPy 1.20; for more details and guidance: https://numpy.org/devdocs/release/1.20.0-notes.html#deprecations\n",
      "  pred_y=classifier.predict(test_x).reshape(-1).astype(np.int)\n",
      "/tmp/ipykernel_20/4205274349.py:70: DeprecationWarning: `np.int` is a deprecated alias for the builtin `int`. To silence this warning, use `int` by itself. Doing this will not modify any behavior and is safe. When replacing `np.int`, you may wish to use e.g. `np.int64` or `np.int32` to specify the precision. If you wish to review your current use, check the release note link for additional information.\n",
      "Deprecated in NumPy 1.20; for more details and guidance: https://numpy.org/devdocs/release/1.20.0-notes.html#deprecations\n",
      "  pred_y=classifier.predict(test_x).reshape(-1).astype(np.int)\n",
      "\u001b[32m[I 2023-05-27 02:39:11,565]\u001b[0m Trial 23 finished with value: 0.9336218200891686 and parameters: {'standardize': 'MinMaxScaler', 'classifier_name': 'XGB', 'rf_x_estimators': 730, 'rf_max_depth': 7}. Best is trial 6 with value: 0.9384998688696564.\u001b[0m\n",
      "/tmp/ipykernel_20/4205274349.py:70: DeprecationWarning: `np.int` is a deprecated alias for the builtin `int`. To silence this warning, use `int` by itself. Doing this will not modify any behavior and is safe. When replacing `np.int`, you may wish to use e.g. `np.int64` or `np.int32` to specify the precision. If you wish to review your current use, check the release note link for additional information.\n",
      "Deprecated in NumPy 1.20; for more details and guidance: https://numpy.org/devdocs/release/1.20.0-notes.html#deprecations\n",
      "  pred_y=classifier.predict(test_x).reshape(-1).astype(np.int)\n",
      "/tmp/ipykernel_20/4205274349.py:70: DeprecationWarning: `np.int` is a deprecated alias for the builtin `int`. To silence this warning, use `int` by itself. Doing this will not modify any behavior and is safe. When replacing `np.int`, you may wish to use e.g. `np.int64` or `np.int32` to specify the precision. If you wish to review your current use, check the release note link for additional information.\n",
      "Deprecated in NumPy 1.20; for more details and guidance: https://numpy.org/devdocs/release/1.20.0-notes.html#deprecations\n",
      "  pred_y=classifier.predict(test_x).reshape(-1).astype(np.int)\n",
      "/tmp/ipykernel_20/4205274349.py:70: DeprecationWarning: `np.int` is a deprecated alias for the builtin `int`. To silence this warning, use `int` by itself. Doing this will not modify any behavior and is safe. When replacing `np.int`, you may wish to use e.g. `np.int64` or `np.int32` to specify the precision. If you wish to review your current use, check the release note link for additional information.\n",
      "Deprecated in NumPy 1.20; for more details and guidance: https://numpy.org/devdocs/release/1.20.0-notes.html#deprecations\n",
      "  pred_y=classifier.predict(test_x).reshape(-1).astype(np.int)\n",
      "/tmp/ipykernel_20/4205274349.py:70: DeprecationWarning: `np.int` is a deprecated alias for the builtin `int`. To silence this warning, use `int` by itself. Doing this will not modify any behavior and is safe. When replacing `np.int`, you may wish to use e.g. `np.int64` or `np.int32` to specify the precision. If you wish to review your current use, check the release note link for additional information.\n",
      "Deprecated in NumPy 1.20; for more details and guidance: https://numpy.org/devdocs/release/1.20.0-notes.html#deprecations\n",
      "  pred_y=classifier.predict(test_x).reshape(-1).astype(np.int)\n",
      "/tmp/ipykernel_20/4205274349.py:70: DeprecationWarning: `np.int` is a deprecated alias for the builtin `int`. To silence this warning, use `int` by itself. Doing this will not modify any behavior and is safe. When replacing `np.int`, you may wish to use e.g. `np.int64` or `np.int32` to specify the precision. If you wish to review your current use, check the release note link for additional information.\n",
      "Deprecated in NumPy 1.20; for more details and guidance: https://numpy.org/devdocs/release/1.20.0-notes.html#deprecations\n",
      "  pred_y=classifier.predict(test_x).reshape(-1).astype(np.int)\n",
      "\u001b[32m[I 2023-05-27 02:39:12,497]\u001b[0m Trial 24 finished with value: 0.9384998688696564 and parameters: {'standardize': 'MinMaxScaler', 'classifier_name': 'XGB', 'rf_x_estimators': 190, 'rf_max_depth': 7}. Best is trial 6 with value: 0.9384998688696564.\u001b[0m\n",
      "/tmp/ipykernel_20/4205274349.py:70: DeprecationWarning: `np.int` is a deprecated alias for the builtin `int`. To silence this warning, use `int` by itself. Doing this will not modify any behavior and is safe. When replacing `np.int`, you may wish to use e.g. `np.int64` or `np.int32` to specify the precision. If you wish to review your current use, check the release note link for additional information.\n",
      "Deprecated in NumPy 1.20; for more details and guidance: https://numpy.org/devdocs/release/1.20.0-notes.html#deprecations\n",
      "  pred_y=classifier.predict(test_x).reshape(-1).astype(np.int)\n",
      "/tmp/ipykernel_20/4205274349.py:70: DeprecationWarning: `np.int` is a deprecated alias for the builtin `int`. To silence this warning, use `int` by itself. Doing this will not modify any behavior and is safe. When replacing `np.int`, you may wish to use e.g. `np.int64` or `np.int32` to specify the precision. If you wish to review your current use, check the release note link for additional information.\n",
      "Deprecated in NumPy 1.20; for more details and guidance: https://numpy.org/devdocs/release/1.20.0-notes.html#deprecations\n",
      "  pred_y=classifier.predict(test_x).reshape(-1).astype(np.int)\n",
      "/tmp/ipykernel_20/4205274349.py:70: DeprecationWarning: `np.int` is a deprecated alias for the builtin `int`. To silence this warning, use `int` by itself. Doing this will not modify any behavior and is safe. When replacing `np.int`, you may wish to use e.g. `np.int64` or `np.int32` to specify the precision. If you wish to review your current use, check the release note link for additional information.\n",
      "Deprecated in NumPy 1.20; for more details and guidance: https://numpy.org/devdocs/release/1.20.0-notes.html#deprecations\n",
      "  pred_y=classifier.predict(test_x).reshape(-1).astype(np.int)\n",
      "/tmp/ipykernel_20/4205274349.py:70: DeprecationWarning: `np.int` is a deprecated alias for the builtin `int`. To silence this warning, use `int` by itself. Doing this will not modify any behavior and is safe. When replacing `np.int`, you may wish to use e.g. `np.int64` or `np.int32` to specify the precision. If you wish to review your current use, check the release note link for additional information.\n",
      "Deprecated in NumPy 1.20; for more details and guidance: https://numpy.org/devdocs/release/1.20.0-notes.html#deprecations\n",
      "  pred_y=classifier.predict(test_x).reshape(-1).astype(np.int)\n",
      "/tmp/ipykernel_20/4205274349.py:70: DeprecationWarning: `np.int` is a deprecated alias for the builtin `int`. To silence this warning, use `int` by itself. Doing this will not modify any behavior and is safe. When replacing `np.int`, you may wish to use e.g. `np.int64` or `np.int32` to specify the precision. If you wish to review your current use, check the release note link for additional information.\n",
      "Deprecated in NumPy 1.20; for more details and guidance: https://numpy.org/devdocs/release/1.20.0-notes.html#deprecations\n",
      "  pred_y=classifier.predict(test_x).reshape(-1).astype(np.int)\n",
      "\u001b[32m[I 2023-05-27 02:39:13,505]\u001b[0m Trial 25 finished with value: 0.9384998688696564 and parameters: {'standardize': 'MinMaxScaler', 'classifier_name': 'XGB', 'rf_x_estimators': 190, 'rf_max_depth': 7}. Best is trial 6 with value: 0.9384998688696564.\u001b[0m\n",
      "/tmp/ipykernel_20/4205274349.py:70: DeprecationWarning: `np.int` is a deprecated alias for the builtin `int`. To silence this warning, use `int` by itself. Doing this will not modify any behavior and is safe. When replacing `np.int`, you may wish to use e.g. `np.int64` or `np.int32` to specify the precision. If you wish to review your current use, check the release note link for additional information.\n",
      "Deprecated in NumPy 1.20; for more details and guidance: https://numpy.org/devdocs/release/1.20.0-notes.html#deprecations\n",
      "  pred_y=classifier.predict(test_x).reshape(-1).astype(np.int)\n",
      "/tmp/ipykernel_20/4205274349.py:70: DeprecationWarning: `np.int` is a deprecated alias for the builtin `int`. To silence this warning, use `int` by itself. Doing this will not modify any behavior and is safe. When replacing `np.int`, you may wish to use e.g. `np.int64` or `np.int32` to specify the precision. If you wish to review your current use, check the release note link for additional information.\n",
      "Deprecated in NumPy 1.20; for more details and guidance: https://numpy.org/devdocs/release/1.20.0-notes.html#deprecations\n",
      "  pred_y=classifier.predict(test_x).reshape(-1).astype(np.int)\n",
      "/tmp/ipykernel_20/4205274349.py:70: DeprecationWarning: `np.int` is a deprecated alias for the builtin `int`. To silence this warning, use `int` by itself. Doing this will not modify any behavior and is safe. When replacing `np.int`, you may wish to use e.g. `np.int64` or `np.int32` to specify the precision. If you wish to review your current use, check the release note link for additional information.\n",
      "Deprecated in NumPy 1.20; for more details and guidance: https://numpy.org/devdocs/release/1.20.0-notes.html#deprecations\n",
      "  pred_y=classifier.predict(test_x).reshape(-1).astype(np.int)\n",
      "/tmp/ipykernel_20/4205274349.py:70: DeprecationWarning: `np.int` is a deprecated alias for the builtin `int`. To silence this warning, use `int` by itself. Doing this will not modify any behavior and is safe. When replacing `np.int`, you may wish to use e.g. `np.int64` or `np.int32` to specify the precision. If you wish to review your current use, check the release note link for additional information.\n",
      "Deprecated in NumPy 1.20; for more details and guidance: https://numpy.org/devdocs/release/1.20.0-notes.html#deprecations\n",
      "  pred_y=classifier.predict(test_x).reshape(-1).astype(np.int)\n",
      "/tmp/ipykernel_20/4205274349.py:70: DeprecationWarning: `np.int` is a deprecated alias for the builtin `int`. To silence this warning, use `int` by itself. Doing this will not modify any behavior and is safe. When replacing `np.int`, you may wish to use e.g. `np.int64` or `np.int32` to specify the precision. If you wish to review your current use, check the release note link for additional information.\n",
      "Deprecated in NumPy 1.20; for more details and guidance: https://numpy.org/devdocs/release/1.20.0-notes.html#deprecations\n",
      "  pred_y=classifier.predict(test_x).reshape(-1).astype(np.int)\n",
      "\u001b[32m[I 2023-05-27 02:39:15,205]\u001b[0m Trial 26 finished with value: 0.914162077104642 and parameters: {'standardize': 'MinMaxScaler', 'classifier_name': 'RandomForest', 'rf_n_estimators': 50, 'rf_max_features': 0.8}. Best is trial 6 with value: 0.9384998688696564.\u001b[0m\n",
      "/tmp/ipykernel_20/4205274349.py:70: DeprecationWarning: `np.int` is a deprecated alias for the builtin `int`. To silence this warning, use `int` by itself. Doing this will not modify any behavior and is safe. When replacing `np.int`, you may wish to use e.g. `np.int64` or `np.int32` to specify the precision. If you wish to review your current use, check the release note link for additional information.\n",
      "Deprecated in NumPy 1.20; for more details and guidance: https://numpy.org/devdocs/release/1.20.0-notes.html#deprecations\n",
      "  pred_y=classifier.predict(test_x).reshape(-1).astype(np.int)\n",
      "/tmp/ipykernel_20/4205274349.py:70: DeprecationWarning: `np.int` is a deprecated alias for the builtin `int`. To silence this warning, use `int` by itself. Doing this will not modify any behavior and is safe. When replacing `np.int`, you may wish to use e.g. `np.int64` or `np.int32` to specify the precision. If you wish to review your current use, check the release note link for additional information.\n",
      "Deprecated in NumPy 1.20; for more details and guidance: https://numpy.org/devdocs/release/1.20.0-notes.html#deprecations\n",
      "  pred_y=classifier.predict(test_x).reshape(-1).astype(np.int)\n",
      "/tmp/ipykernel_20/4205274349.py:70: DeprecationWarning: `np.int` is a deprecated alias for the builtin `int`. To silence this warning, use `int` by itself. Doing this will not modify any behavior and is safe. When replacing `np.int`, you may wish to use e.g. `np.int64` or `np.int32` to specify the precision. If you wish to review your current use, check the release note link for additional information.\n",
      "Deprecated in NumPy 1.20; for more details and guidance: https://numpy.org/devdocs/release/1.20.0-notes.html#deprecations\n",
      "  pred_y=classifier.predict(test_x).reshape(-1).astype(np.int)\n",
      "/tmp/ipykernel_20/4205274349.py:70: DeprecationWarning: `np.int` is a deprecated alias for the builtin `int`. To silence this warning, use `int` by itself. Doing this will not modify any behavior and is safe. When replacing `np.int`, you may wish to use e.g. `np.int64` or `np.int32` to specify the precision. If you wish to review your current use, check the release note link for additional information.\n",
      "Deprecated in NumPy 1.20; for more details and guidance: https://numpy.org/devdocs/release/1.20.0-notes.html#deprecations\n",
      "  pred_y=classifier.predict(test_x).reshape(-1).astype(np.int)\n",
      "/tmp/ipykernel_20/4205274349.py:70: DeprecationWarning: `np.int` is a deprecated alias for the builtin `int`. To silence this warning, use `int` by itself. Doing this will not modify any behavior and is safe. When replacing `np.int`, you may wish to use e.g. `np.int64` or `np.int32` to specify the precision. If you wish to review your current use, check the release note link for additional information.\n",
      "Deprecated in NumPy 1.20; for more details and guidance: https://numpy.org/devdocs/release/1.20.0-notes.html#deprecations\n",
      "  pred_y=classifier.predict(test_x).reshape(-1).astype(np.int)\n",
      "\u001b[32m[I 2023-05-27 02:39:16,131]\u001b[0m Trial 27 finished with value: 0.9384998688696564 and parameters: {'standardize': 'MinMaxScaler', 'classifier_name': 'XGB', 'rf_x_estimators': 190, 'rf_max_depth': 7}. Best is trial 6 with value: 0.9384998688696564.\u001b[0m\n",
      "/tmp/ipykernel_20/4205274349.py:70: DeprecationWarning: `np.int` is a deprecated alias for the builtin `int`. To silence this warning, use `int` by itself. Doing this will not modify any behavior and is safe. When replacing `np.int`, you may wish to use e.g. `np.int64` or `np.int32` to specify the precision. If you wish to review your current use, check the release note link for additional information.\n",
      "Deprecated in NumPy 1.20; for more details and guidance: https://numpy.org/devdocs/release/1.20.0-notes.html#deprecations\n",
      "  pred_y=classifier.predict(test_x).reshape(-1).astype(np.int)\n",
      "/tmp/ipykernel_20/4205274349.py:70: DeprecationWarning: `np.int` is a deprecated alias for the builtin `int`. To silence this warning, use `int` by itself. Doing this will not modify any behavior and is safe. When replacing `np.int`, you may wish to use e.g. `np.int64` or `np.int32` to specify the precision. If you wish to review your current use, check the release note link for additional information.\n",
      "Deprecated in NumPy 1.20; for more details and guidance: https://numpy.org/devdocs/release/1.20.0-notes.html#deprecations\n",
      "  pred_y=classifier.predict(test_x).reshape(-1).astype(np.int)\n",
      "/tmp/ipykernel_20/4205274349.py:70: DeprecationWarning: `np.int` is a deprecated alias for the builtin `int`. To silence this warning, use `int` by itself. Doing this will not modify any behavior and is safe. When replacing `np.int`, you may wish to use e.g. `np.int64` or `np.int32` to specify the precision. If you wish to review your current use, check the release note link for additional information.\n",
      "Deprecated in NumPy 1.20; for more details and guidance: https://numpy.org/devdocs/release/1.20.0-notes.html#deprecations\n",
      "  pred_y=classifier.predict(test_x).reshape(-1).astype(np.int)\n",
      "/tmp/ipykernel_20/4205274349.py:70: DeprecationWarning: `np.int` is a deprecated alias for the builtin `int`. To silence this warning, use `int` by itself. Doing this will not modify any behavior and is safe. When replacing `np.int`, you may wish to use e.g. `np.int64` or `np.int32` to specify the precision. If you wish to review your current use, check the release note link for additional information.\n",
      "Deprecated in NumPy 1.20; for more details and guidance: https://numpy.org/devdocs/release/1.20.0-notes.html#deprecations\n",
      "  pred_y=classifier.predict(test_x).reshape(-1).astype(np.int)\n",
      "/tmp/ipykernel_20/4205274349.py:70: DeprecationWarning: `np.int` is a deprecated alias for the builtin `int`. To silence this warning, use `int` by itself. Doing this will not modify any behavior and is safe. When replacing `np.int`, you may wish to use e.g. `np.int64` or `np.int32` to specify the precision. If you wish to review your current use, check the release note link for additional information.\n",
      "Deprecated in NumPy 1.20; for more details and guidance: https://numpy.org/devdocs/release/1.20.0-notes.html#deprecations\n",
      "  pred_y=classifier.predict(test_x).reshape(-1).astype(np.int)\n",
      "\u001b[32m[I 2023-05-27 02:39:17,233]\u001b[0m Trial 28 finished with value: 0.9255048518227118 and parameters: {'standardize': 'MinMaxScaler', 'classifier_name': 'XGB', 'rf_x_estimators': 280, 'rf_max_depth': 3}. Best is trial 6 with value: 0.9384998688696564.\u001b[0m\n",
      "/tmp/ipykernel_20/4205274349.py:70: DeprecationWarning: `np.int` is a deprecated alias for the builtin `int`. To silence this warning, use `int` by itself. Doing this will not modify any behavior and is safe. When replacing `np.int`, you may wish to use e.g. `np.int64` or `np.int32` to specify the precision. If you wish to review your current use, check the release note link for additional information.\n",
      "Deprecated in NumPy 1.20; for more details and guidance: https://numpy.org/devdocs/release/1.20.0-notes.html#deprecations\n",
      "  pred_y=classifier.predict(test_x).reshape(-1).astype(np.int)\n",
      "/tmp/ipykernel_20/4205274349.py:70: DeprecationWarning: `np.int` is a deprecated alias for the builtin `int`. To silence this warning, use `int` by itself. Doing this will not modify any behavior and is safe. When replacing `np.int`, you may wish to use e.g. `np.int64` or `np.int32` to specify the precision. If you wish to review your current use, check the release note link for additional information.\n",
      "Deprecated in NumPy 1.20; for more details and guidance: https://numpy.org/devdocs/release/1.20.0-notes.html#deprecations\n",
      "  pred_y=classifier.predict(test_x).reshape(-1).astype(np.int)\n",
      "/tmp/ipykernel_20/4205274349.py:70: DeprecationWarning: `np.int` is a deprecated alias for the builtin `int`. To silence this warning, use `int` by itself. Doing this will not modify any behavior and is safe. When replacing `np.int`, you may wish to use e.g. `np.int64` or `np.int32` to specify the precision. If you wish to review your current use, check the release note link for additional information.\n",
      "Deprecated in NumPy 1.20; for more details and guidance: https://numpy.org/devdocs/release/1.20.0-notes.html#deprecations\n",
      "  pred_y=classifier.predict(test_x).reshape(-1).astype(np.int)\n",
      "/tmp/ipykernel_20/4205274349.py:70: DeprecationWarning: `np.int` is a deprecated alias for the builtin `int`. To silence this warning, use `int` by itself. Doing this will not modify any behavior and is safe. When replacing `np.int`, you may wish to use e.g. `np.int64` or `np.int32` to specify the precision. If you wish to review your current use, check the release note link for additional information.\n",
      "Deprecated in NumPy 1.20; for more details and guidance: https://numpy.org/devdocs/release/1.20.0-notes.html#deprecations\n",
      "  pred_y=classifier.predict(test_x).reshape(-1).astype(np.int)\n",
      "/tmp/ipykernel_20/4205274349.py:70: DeprecationWarning: `np.int` is a deprecated alias for the builtin `int`. To silence this warning, use `int` by itself. Doing this will not modify any behavior and is safe. When replacing `np.int`, you may wish to use e.g. `np.int64` or `np.int32` to specify the precision. If you wish to review your current use, check the release note link for additional information.\n",
      "Deprecated in NumPy 1.20; for more details and guidance: https://numpy.org/devdocs/release/1.20.0-notes.html#deprecations\n",
      "  pred_y=classifier.predict(test_x).reshape(-1).astype(np.int)\n",
      "\u001b[32m[I 2023-05-27 02:39:18,828]\u001b[0m Trial 29 finished with value: 0.9336218200891686 and parameters: {'standardize': 'MinMaxScaler', 'classifier_name': 'XGB', 'rf_x_estimators': 460, 'rf_max_depth': 7}. Best is trial 6 with value: 0.9384998688696564.\u001b[0m\n"
     ]
    }
   ],
   "source": [
    "class Classifier:\n",
    "    def __init__(self,params):\n",
    "        self.params=params\n",
    "        if params[\"standardize\"]==\"StandardScaler\":\n",
    "            self.standardizer=StandardScaler()\n",
    "        elif params[\"standardize\"]==\"MinMaxScaler\":\n",
    "            self.standardizer=MinMaxScaler()\n",
    "        elif params[\"standardize\"]==\"Noscaler\" :\n",
    "            self.standardizer=Noscaler()\n",
    "        \n",
    "        if params[\"classifier_name\"]==\"RandomForest\":\n",
    "            self.classifier=RandomForestClassifier(**params[\"classifier_params\"])\n",
    "        elif params[\"classifier_name\"]==\"XGB\":\n",
    "            self.classifier=XGBClassifier(**params[\"classifier_params\"])\n",
    "        \n",
    "   \n",
    "    def _fit_and_predict_core(self,x,y=None,fitting=False,proba=False):\n",
    "        if fitting==True:\n",
    "            self.standardizer.fit(x)\n",
    "        self.standardizer.transform(x)\n",
    "        \n",
    "        if fitting==True:\n",
    "            self.classifier.fit(x,y)\n",
    "        \n",
    "        if y is None:\n",
    "            if proba:\n",
    "                return self.classifier.predict_proba(x)\n",
    "            else:\n",
    "                return self.classifier.predict(x)\n",
    "        return None\n",
    "    \n",
    "    def fit(self,x,y):\n",
    "        self._fit_and_predict_core(x,y,fitting=True)\n",
    "        return self\n",
    "    \n",
    "    def predict(self,x):\n",
    "        pred_y=self._fit_and_predict_core(x)\n",
    "        return pred_y\n",
    "    \n",
    "    def predict_proba(self,x):\n",
    "        pred_y=self._fit_and_predict_core(x,proba=True)\n",
    "        return pred_y\n",
    "\n",
    "class Objective:\n",
    "    def __init__(self,x,y,label_index):\n",
    "        self.x=x\n",
    "        self.y=y\n",
    "        self.label_index=label_index\n",
    "        self.best_score=0\n",
    "        self.best_params=None\n",
    "    \n",
    "    def __call__(self,trial):\n",
    "        x=self.x\n",
    "        y=self.y\n",
    "        params=self.generate_params(trial,x)\n",
    "        \n",
    "        classifier=Classifier(params)\n",
    "        \n",
    "        skf=StratifiedKFold(n_splits=5,random_state=2019,shuffle=True)\n",
    "        \n",
    "        acc=[]\n",
    "        \n",
    "        for train,test in skf.split(x,y):\n",
    "            train_y=y.iloc[train].values\n",
    "            test_y=y.iloc[test].values\n",
    "            train_x=x.iloc[train].values\n",
    "            test_x=x.iloc[test].values\n",
    "            \n",
    "            classifier.fit(train_x,train_y)\n",
    "            pred_y=classifier.predict(test_x).reshape(-1).astype(np.int)\n",
    "            \n",
    "        \n",
    "            acc.append(metrics.accuracy_score(test_y,pred_y))\n",
    "        \n",
    "        f1_score=mean(acc)\n",
    "        if self.best_score<f1_score:\n",
    "            self.best_score-f1_score\n",
    "            self.best_params=params\n",
    "        return f1_score\n",
    "    def generate_params(self,trial,x):\n",
    "        params={}\n",
    "        \n",
    "        params[\"standardize\"]=trial.suggest_categorical(\"standardize\",[\"StandardScaler\",\"MinMaxScaler\"])\n",
    "        params[\"classifier_name\"]=trial.suggest_categorical(\"classifier_name\",[\"RandomForest\",\"XGB\"])\n",
    "        classifier_params={}\n",
    "        if params[\"classifier_name\"]==\"RandomForest\":\n",
    "            classifier_params['n_estimators'] = trial.suggest_categorical(\n",
    "                'rf_n_estimators', [5, 10, 20, 30, 50, 100])\n",
    "            classifier_params['max_features'] = trial.suggest_categorical(\n",
    "                'rf_max_features', [\"auto\", 0.2, 0.4, 0.6, 0.8])\n",
    "            \n",
    "            classifier_params['n_jobs'] = -1\n",
    "        elif params[\"classifier_name\"]==\"XGB\":\n",
    "            classifier_params[\"n_estimators\"]=trial.suggest_categorical(\"rf_x_estimators\",range(100,1000,90))\n",
    "            classifier_params[\"max_depth\"]=trial.suggest_categorical(\"rf_max_depth\",[3,4,5,6,7])\n",
    "            \n",
    "        else:\n",
    "            raise RuntimeError('unspport classifier', params['classifier_name'])\n",
    "            \n",
    "        params[\"classifier_params\"]=classifier_params \n",
    "        return params\n",
    "\n",
    "import optuna\n",
    "label_index=train_df.index.tolist\n",
    "objective = Objective(x=processed_df, y=train_df[\"Class\"], label_index=label_index)\n",
    "study = optuna.create_study(direction='maximize')\n",
    "param2=study.optimize(objective, n_trials=30)"
   ]
  },
  {
   "cell_type": "code",
   "execution_count": 15,
   "id": "39d3c9db",
   "metadata": {
    "execution": {
     "iopub.execute_input": "2023-05-27T02:39:18.895078Z",
     "iopub.status.busy": "2023-05-27T02:39:18.894618Z",
     "iopub.status.idle": "2023-05-27T02:39:28.199024Z",
     "shell.execute_reply": "2023-05-27T02:39:28.198074Z"
    },
    "papermill": {
     "duration": 9.333105,
     "end_time": "2023-05-27T02:39:28.201663",
     "exception": false,
     "start_time": "2023-05-27T02:39:18.868558",
     "status": "completed"
    },
    "tags": []
   },
   "outputs": [
    {
     "name": "stderr",
     "output_type": "stream",
     "text": [
      "/opt/conda/lib/python3.10/site-packages/xgboost/sklearn.py:835: UserWarning: `early_stopping_rounds` in `fit` method is deprecated for better compatibility with scikit-learn, use `early_stopping_rounds` in constructor or`set_params` instead.\n",
      "  warnings.warn(\n"
     ]
    },
    {
     "name": "stdout",
     "output_type": "stream",
     "text": [
      "0.2508456604717765 116\n"
     ]
    },
    {
     "name": "stderr",
     "output_type": "stream",
     "text": [
      "/opt/conda/lib/python3.10/site-packages/xgboost/sklearn.py:835: UserWarning: `early_stopping_rounds` in `fit` method is deprecated for better compatibility with scikit-learn, use `early_stopping_rounds` in constructor or`set_params` instead.\n",
      "  warnings.warn(\n"
     ]
    },
    {
     "name": "stdout",
     "output_type": "stream",
     "text": [
      "0.1479213067852446 172\n"
     ]
    },
    {
     "name": "stderr",
     "output_type": "stream",
     "text": [
      "/opt/conda/lib/python3.10/site-packages/xgboost/sklearn.py:835: UserWarning: `early_stopping_rounds` in `fit` method is deprecated for better compatibility with scikit-learn, use `early_stopping_rounds` in constructor or`set_params` instead.\n",
      "  warnings.warn(\n"
     ]
    },
    {
     "name": "stdout",
     "output_type": "stream",
     "text": [
      "0.0712753916035471 179\n"
     ]
    },
    {
     "name": "stderr",
     "output_type": "stream",
     "text": [
      "/opt/conda/lib/python3.10/site-packages/xgboost/sklearn.py:835: UserWarning: `early_stopping_rounds` in `fit` method is deprecated for better compatibility with scikit-learn, use `early_stopping_rounds` in constructor or`set_params` instead.\n",
      "  warnings.warn(\n"
     ]
    },
    {
     "name": "stdout",
     "output_type": "stream",
     "text": [
      "0.1461436287803914 63\n"
     ]
    },
    {
     "name": "stderr",
     "output_type": "stream",
     "text": [
      "/opt/conda/lib/python3.10/site-packages/xgboost/sklearn.py:835: UserWarning: `early_stopping_rounds` in `fit` method is deprecated for better compatibility with scikit-learn, use `early_stopping_rounds` in constructor or`set_params` instead.\n",
      "  warnings.warn(\n"
     ]
    },
    {
     "name": "stdout",
     "output_type": "stream",
     "text": [
      "0.18362006928340469 30\n"
     ]
    },
    {
     "name": "stderr",
     "output_type": "stream",
     "text": [
      "/opt/conda/lib/python3.10/site-packages/xgboost/sklearn.py:835: UserWarning: `early_stopping_rounds` in `fit` method is deprecated for better compatibility with scikit-learn, use `early_stopping_rounds` in constructor or`set_params` instead.\n",
      "  warnings.warn(\n"
     ]
    },
    {
     "name": "stdout",
     "output_type": "stream",
     "text": [
      "0.23839939077741287 26\n"
     ]
    },
    {
     "name": "stderr",
     "output_type": "stream",
     "text": [
      "/opt/conda/lib/python3.10/site-packages/xgboost/sklearn.py:835: UserWarning: `early_stopping_rounds` in `fit` method is deprecated for better compatibility with scikit-learn, use `early_stopping_rounds` in constructor or`set_params` instead.\n",
      "  warnings.warn(\n"
     ]
    },
    {
     "name": "stdout",
     "output_type": "stream",
     "text": [
      "0.5690950597191956 22\n"
     ]
    },
    {
     "name": "stderr",
     "output_type": "stream",
     "text": [
      "/opt/conda/lib/python3.10/site-packages/xgboost/sklearn.py:835: UserWarning: `early_stopping_rounds` in `fit` method is deprecated for better compatibility with scikit-learn, use `early_stopping_rounds` in constructor or`set_params` instead.\n",
      "  warnings.warn(\n"
     ]
    },
    {
     "name": "stdout",
     "output_type": "stream",
     "text": [
      "0.10830171204815468 24\n"
     ]
    },
    {
     "name": "stderr",
     "output_type": "stream",
     "text": [
      "/opt/conda/lib/python3.10/site-packages/xgboost/sklearn.py:835: UserWarning: `early_stopping_rounds` in `fit` method is deprecated for better compatibility with scikit-learn, use `early_stopping_rounds` in constructor or`set_params` instead.\n",
      "  warnings.warn(\n"
     ]
    },
    {
     "name": "stdout",
     "output_type": "stream",
     "text": [
      "0.5912489053668807 6\n"
     ]
    },
    {
     "name": "stderr",
     "output_type": "stream",
     "text": [
      "/opt/conda/lib/python3.10/site-packages/xgboost/sklearn.py:835: UserWarning: `early_stopping_rounds` in `fit` method is deprecated for better compatibility with scikit-learn, use `early_stopping_rounds` in constructor or`set_params` instead.\n",
      "  warnings.warn(\n"
     ]
    },
    {
     "name": "stdout",
     "output_type": "stream",
     "text": [
      "0.19320494869493376 44\n"
     ]
    },
    {
     "name": "stderr",
     "output_type": "stream",
     "text": [
      "/opt/conda/lib/python3.10/site-packages/xgboost/sklearn.py:835: UserWarning: `early_stopping_rounds` in `fit` method is deprecated for better compatibility with scikit-learn, use `early_stopping_rounds` in constructor or`set_params` instead.\n",
      "  warnings.warn(\n"
     ]
    },
    {
     "name": "stdout",
     "output_type": "stream",
     "text": [
      "0.07784711571952048 78\n"
     ]
    },
    {
     "name": "stderr",
     "output_type": "stream",
     "text": [
      "/opt/conda/lib/python3.10/site-packages/xgboost/sklearn.py:835: UserWarning: `early_stopping_rounds` in `fit` method is deprecated for better compatibility with scikit-learn, use `early_stopping_rounds` in constructor or`set_params` instead.\n",
      "  warnings.warn(\n"
     ]
    },
    {
     "name": "stdout",
     "output_type": "stream",
     "text": [
      "0.7082456198515669 6\n"
     ]
    },
    {
     "name": "stderr",
     "output_type": "stream",
     "text": [
      "/opt/conda/lib/python3.10/site-packages/xgboost/sklearn.py:835: UserWarning: `early_stopping_rounds` in `fit` method is deprecated for better compatibility with scikit-learn, use `early_stopping_rounds` in constructor or`set_params` instead.\n",
      "  warnings.warn(\n"
     ]
    },
    {
     "name": "stdout",
     "output_type": "stream",
     "text": [
      "0.12515445715837611 118\n"
     ]
    },
    {
     "name": "stderr",
     "output_type": "stream",
     "text": [
      "/opt/conda/lib/python3.10/site-packages/xgboost/sklearn.py:835: UserWarning: `early_stopping_rounds` in `fit` method is deprecated for better compatibility with scikit-learn, use `early_stopping_rounds` in constructor or`set_params` instead.\n",
      "  warnings.warn(\n"
     ]
    },
    {
     "name": "stdout",
     "output_type": "stream",
     "text": [
      "0.262819872636813 11\n"
     ]
    },
    {
     "name": "stderr",
     "output_type": "stream",
     "text": [
      "/opt/conda/lib/python3.10/site-packages/xgboost/sklearn.py:835: UserWarning: `early_stopping_rounds` in `fit` method is deprecated for better compatibility with scikit-learn, use `early_stopping_rounds` in constructor or`set_params` instead.\n",
      "  warnings.warn(\n"
     ]
    },
    {
     "name": "stdout",
     "output_type": "stream",
     "text": [
      "0.39381752610383536 31\n"
     ]
    },
    {
     "name": "stderr",
     "output_type": "stream",
     "text": [
      "/opt/conda/lib/python3.10/site-packages/xgboost/sklearn.py:835: UserWarning: `early_stopping_rounds` in `fit` method is deprecated for better compatibility with scikit-learn, use `early_stopping_rounds` in constructor or`set_params` instead.\n",
      "  warnings.warn(\n"
     ]
    },
    {
     "name": "stdout",
     "output_type": "stream",
     "text": [
      "0.3026994275368179 26\n"
     ]
    },
    {
     "name": "stderr",
     "output_type": "stream",
     "text": [
      "/opt/conda/lib/python3.10/site-packages/xgboost/sklearn.py:835: UserWarning: `early_stopping_rounds` in `fit` method is deprecated for better compatibility with scikit-learn, use `early_stopping_rounds` in constructor or`set_params` instead.\n",
      "  warnings.warn(\n"
     ]
    },
    {
     "name": "stdout",
     "output_type": "stream",
     "text": [
      "0.34560193314781995 167\n"
     ]
    },
    {
     "name": "stderr",
     "output_type": "stream",
     "text": [
      "/opt/conda/lib/python3.10/site-packages/xgboost/sklearn.py:835: UserWarning: `early_stopping_rounds` in `fit` method is deprecated for better compatibility with scikit-learn, use `early_stopping_rounds` in constructor or`set_params` instead.\n",
      "  warnings.warn(\n"
     ]
    },
    {
     "name": "stdout",
     "output_type": "stream",
     "text": [
      "0.1686727663990784 153\n"
     ]
    },
    {
     "name": "stderr",
     "output_type": "stream",
     "text": [
      "/opt/conda/lib/python3.10/site-packages/xgboost/sklearn.py:835: UserWarning: `early_stopping_rounds` in `fit` method is deprecated for better compatibility with scikit-learn, use `early_stopping_rounds` in constructor or`set_params` instead.\n",
      "  warnings.warn(\n"
     ]
    },
    {
     "name": "stdout",
     "output_type": "stream",
     "text": [
      "0.21094667913260548 47\n"
     ]
    },
    {
     "name": "stderr",
     "output_type": "stream",
     "text": [
      "/opt/conda/lib/python3.10/site-packages/xgboost/sklearn.py:835: UserWarning: `early_stopping_rounds` in `fit` method is deprecated for better compatibility with scikit-learn, use `early_stopping_rounds` in constructor or`set_params` instead.\n",
      "  warnings.warn(\n"
     ]
    },
    {
     "name": "stdout",
     "output_type": "stream",
     "text": [
      "0.428516254095151 19\n",
      "0.2762188862656263\n"
     ]
    },
    {
     "data": {
      "text/plain": [
       "array([0.12488682, 0.0112883 , 0.00983688, 0.00766707, 0.01636977,\n",
       "       0.00502312, 0.01758645, 0.        , 0.02388853, 0.00697941,\n",
       "       0.00592348, 0.00881673, 0.02831866, 0.06917676, 0.        ,\n",
       "       0.00433083, 0.0140763 , 0.01205559, 0.00778061, 0.00311835,\n",
       "       0.00033796, 0.05603885, 0.0281275 , 0.01473269, 0.00181138,\n",
       "       0.02405679, 0.01820397, 0.00480473, 0.0136986 , 0.00542612,\n",
       "       0.0253596 , 0.00810421, 0.09454749, 0.        , 0.01312267,\n",
       "       0.01017638, 0.03818991, 0.01984661, 0.01351308, 0.01077646,\n",
       "       0.01094287, 0.01231806, 0.00484048, 0.06130891, 0.01202841,\n",
       "       0.01814028, 0.01051389, 0.00902247, 0.00033033, 0.00337759,\n",
       "       0.00994738, 0.05121296, 0.00511133, 0.00227907, 0.01062729,\n",
       "       0.        , 0.        ], dtype=float32)"
      ]
     },
     "execution_count": 15,
     "metadata": {},
     "output_type": "execute_result"
    }
   ],
   "source": [
    "FOLDS=20\n",
    "SEED=1004\n",
    "SUM=[]\n",
    "X=processed_df\n",
    "y=train_df[\"Class\"]\n",
    "xgb_models = []\n",
    "xgb_oof = []\n",
    "f_imp = []\n",
    "weights=class_weight.compute_sample_weight(\"balanced\",y)\n",
    "skf=StratifiedKFold(n_splits=FOLDS,shuffle=True,random_state=SEED)\n",
    "for fold,(train_idx,val_idx) in enumerate(skf.split(X,y)):\n",
    "    X_train,y_train=X.iloc[train_idx],y.iloc[train_idx]\n",
    "    X_valid,y_valid=X.iloc[val_idx],y.iloc[val_idx]\n",
    "    watchlist=[(X_train,y_train),(X_valid,y_valid)]\n",
    "    \n",
    "    model=XGBClassifier(n_estimators=180,max_depth=6,)\n",
    "    model.fit(X_train,y_train,sample_weight=weights[train_idx],eval_set=watchlist,early_stopping_rounds=300,verbose=0)\n",
    "    pred=model.predict_proba(X_valid)[:,1]\n",
    "    val_score=log_loss(y_valid,pred,sample_weight=weights[val_idx])\n",
    "    best_iter=model.best_iteration\n",
    "    idx_pred_target=np.vstack([val_idx,pred,y_valid])\n",
    "    f_imp.append({i: j for i, j in zip(X.columns, model.feature_importances_)})\n",
    "    SUM.append(val_score)\n",
    "    xgb_oof.append(idx_pred_target)\n",
    "    xgb_models.append(model)\n",
    "    print(val_score,best_iter)\n",
    "\n",
    "print(mean(SUM))\n",
    "model.feature_importances_ "
   ]
  },
  {
   "cell_type": "code",
   "execution_count": 16,
   "id": "8a2495e7",
   "metadata": {
    "execution": {
     "iopub.execute_input": "2023-05-27T02:39:28.259530Z",
     "iopub.status.busy": "2023-05-27T02:39:28.259091Z",
     "iopub.status.idle": "2023-05-27T02:39:30.652033Z",
     "shell.execute_reply": "2023-05-27T02:39:30.650802Z"
    },
    "papermill": {
     "duration": 2.424965,
     "end_time": "2023-05-27T02:39:30.654936",
     "exception": false,
     "start_time": "2023-05-27T02:39:28.229971",
     "status": "completed"
    },
    "tags": []
   },
   "outputs": [],
   "source": [
    "model2=RandomForestClassifier(n_estimators=100,random_state=0,max_features=0.2)\n",
    "skf=StratifiedKFold(n_splits=5,random_state=2019,shuffle=True)\n",
    "for train,test in skf.split(processed_df,train_df[\"Class\"]):\n",
    "            train_y=train_df[\"Class\"].iloc[train].values\n",
    "            test_y=train_df[\"Class\"].iloc[test].values\n",
    "            train_x=processed_df.iloc[train].values\n",
    "            test_x=processed_df.iloc[test].values\n",
    "            \n",
    "            model2.fit(train_x,train_y)"
   ]
  },
  {
   "cell_type": "code",
   "execution_count": 17,
   "id": "6329f653",
   "metadata": {
    "execution": {
     "iopub.execute_input": "2023-05-27T02:39:30.712075Z",
     "iopub.status.busy": "2023-05-27T02:39:30.711648Z",
     "iopub.status.idle": "2023-05-27T02:39:31.688918Z",
     "shell.execute_reply": "2023-05-27T02:39:31.687640Z"
    },
    "papermill": {
     "duration": 1.008957,
     "end_time": "2023-05-27T02:39:31.691713",
     "exception": false,
     "start_time": "2023-05-27T02:39:30.682756",
     "status": "completed"
    },
    "tags": []
   },
   "outputs": [
    {
     "data": {
      "image/png": "[encoded data removed]",
      "text/plain": [
       "<Figure size 1400x400 with 3 Axes>"
      ]
     },
     "metadata": {},
     "output_type": "display_data"
    }
   ],
   "source": [
    "cm = confusion_matrix(y_valid, model.predict(X_valid))\n",
    "\n",
    "# Feature Importance for the last model\n",
    "feature_imp = pd.DataFrame({'Value':xgb_models[-1].feature_importances_, 'Feature':X.columns})\n",
    "feature_imp = feature_imp.sort_values(by=\"Value\", ascending=False)\n",
    "feature_imp_top20 = feature_imp.iloc[:20]\n",
    "\n",
    "fig, ax = plt.subplots(1, 2, figsize=(14, 4))\n",
    "\n",
    "# Subplot 1: Confusion Matrix\n",
    "sns.heatmap(cm, annot=True, fmt='d', ax=ax[0], cmap='YlOrRd')\n",
    "ax[0].set_title('Confusion Matrix')\n",
    "ax[0].set_xlabel('Predicted')\n",
    "ax[0].set_ylabel('True')\n",
    "\n",
    "# Subplot 2: Feature Importance\n",
    "sns.barplot(x=\"Value\", y=\"Feature\", data=feature_imp_top20, ax=ax[1], palette='YlOrRd_r')\n",
    "ax[1].set_title('Feature Importance')\n",
    "\n",
    "plt.tight_layout()\n",
    "plt.show()"
   ]
  },
  {
   "cell_type": "code",
   "execution_count": 18,
   "id": "a917d28c",
   "metadata": {
    "execution": {
     "iopub.execute_input": "2023-05-27T02:39:31.751844Z",
     "iopub.status.busy": "2023-05-27T02:39:31.751374Z",
     "iopub.status.idle": "2023-05-27T02:39:31.758574Z",
     "shell.execute_reply": "2023-05-27T02:39:31.757220Z"
    },
    "papermill": {
     "duration": 0.040589,
     "end_time": "2023-05-27T02:39:31.761292",
     "exception": false,
     "start_time": "2023-05-27T02:39:31.720703",
     "status": "completed"
    },
    "tags": []
   },
   "outputs": [],
   "source": [
    "test_df=test_df.drop([\"Id\"],axis=1)"
   ]
  },
  {
   "cell_type": "code",
   "execution_count": 19,
   "id": "ea2c1a5b",
   "metadata": {
    "execution": {
     "iopub.execute_input": "2023-05-27T02:39:31.822920Z",
     "iopub.status.busy": "2023-05-27T02:39:31.821634Z",
     "iopub.status.idle": "2023-05-27T02:39:31.828057Z",
     "shell.execute_reply": "2023-05-27T02:39:31.827127Z"
    },
    "papermill": {
     "duration": 0.040401,
     "end_time": "2023-05-27T02:39:31.830790",
     "exception": false,
     "start_time": "2023-05-27T02:39:31.790389",
     "status": "completed"
    },
    "tags": []
   },
   "outputs": [],
   "source": [
    "num_cols = test_df.select_dtypes(include=[\"float64\"]).columns.tolist()\n",
    "cat_cols = test_df.select_dtypes(include=[\"object\"]).columns.tolist()"
   ]
  },
  {
   "cell_type": "code",
   "execution_count": 20,
   "id": "5a31dddc",
   "metadata": {
    "execution": {
     "iopub.execute_input": "2023-05-27T02:39:31.889946Z",
     "iopub.status.busy": "2023-05-27T02:39:31.889500Z",
     "iopub.status.idle": "2023-05-27T02:39:31.902803Z",
     "shell.execute_reply": "2023-05-27T02:39:31.901963Z"
    },
    "papermill": {
     "duration": 0.045813,
     "end_time": "2023-05-27T02:39:31.905249",
     "exception": false,
     "start_time": "2023-05-27T02:39:31.859436",
     "status": "completed"
    },
    "tags": []
   },
   "outputs": [
    {
     "name": "stderr",
     "output_type": "stream",
     "text": [
      "/tmp/ipykernel_20/2542570503.py:3: SettingWithCopyWarning: \n",
      "A value is trying to be set on a copy of a slice from a DataFrame\n",
      "\n",
      "See the caveats in the documentation: https://pandas.pydata.org/pandas-docs/stable/user_guide/indexing.html#returning-a-view-versus-a-copy\n",
      "  test_df[\"EJ_A\"][test_df[\"EJ\"]==\"A\"]=1\n",
      "/tmp/ipykernel_20/2542570503.py:4: SettingWithCopyWarning: \n",
      "A value is trying to be set on a copy of a slice from a DataFrame\n",
      "\n",
      "See the caveats in the documentation: https://pandas.pydata.org/pandas-docs/stable/user_guide/indexing.html#returning-a-view-versus-a-copy\n",
      "  test_df[\"EJ_B\"][test_df[\"EJ\"]==\"B\"]=1\n"
     ]
    }
   ],
   "source": [
    "test_df[\"EJ_A\"]=0\n",
    "test_df[\"EJ_B\"]=0\n",
    "test_df[\"EJ_A\"][test_df[\"EJ\"]==\"A\"]=1\n",
    "test_df[\"EJ_B\"][test_df[\"EJ\"]==\"B\"]=1\n",
    "test_df=test_df.drop(columns=[\"EJ\"],axis=1)"
   ]
  },
  {
   "cell_type": "code",
   "execution_count": 21,
   "id": "4d6faf9f",
   "metadata": {
    "execution": {
     "iopub.execute_input": "2023-05-27T02:39:31.965479Z",
     "iopub.status.busy": "2023-05-27T02:39:31.964647Z",
     "iopub.status.idle": "2023-05-27T02:39:31.998846Z",
     "shell.execute_reply": "2023-05-27T02:39:31.997591Z"
    },
    "papermill": {
     "duration": 0.06775,
     "end_time": "2023-05-27T02:39:32.001652",
     "exception": false,
     "start_time": "2023-05-27T02:39:31.933902",
     "status": "completed"
    },
    "tags": []
   },
   "outputs": [
    {
     "name": "stderr",
     "output_type": "stream",
     "text": [
      "/opt/conda/lib/python3.10/site-packages/sklearn/base.py:432: UserWarning: X has feature names, but RandomForestClassifier was fitted without feature names\n",
      "  warnings.warn(\n"
     ]
    }
   ],
   "source": [
    "pred_df=pd.DataFrame(model.predict_proba(test_df),columns=[\"class_0\",\"class_1\"])\n",
    "pred2_df=pd.DataFrame(model2.predict_proba(test_df),columns=[\"class_0\",\"class_1\"])"
   ]
  },
  {
   "cell_type": "code",
   "execution_count": 22,
   "id": "1d9f6b00",
   "metadata": {
    "execution": {
     "iopub.execute_input": "2023-05-27T02:39:32.061213Z",
     "iopub.status.busy": "2023-05-27T02:39:32.060755Z",
     "iopub.status.idle": "2023-05-27T02:39:32.072752Z",
     "shell.execute_reply": "2023-05-27T02:39:32.071562Z"
    },
    "papermill": {
     "duration": 0.044203,
     "end_time": "2023-05-27T02:39:32.075053",
     "exception": false,
     "start_time": "2023-05-27T02:39:32.030850",
     "status": "completed"
    },
    "tags": []
   },
   "outputs": [
    {
     "data": {
      "text/html": [
       "<div>\n",
       "<style scoped>\n",
       "    .dataframe tbody tr th:only-of-type {\n",
       "        vertical-align: middle;\n",
       "    }\n",
       "\n",
       "    .dataframe tbody tr th {\n",
       "        vertical-align: top;\n",
       "    }\n",
       "\n",
       "    .dataframe thead th {\n",
       "        text-align: right;\n",
       "    }\n",
       "</style>\n",
       "<table border=\"1\" class=\"dataframe\">\n",
       "  <thead>\n",
       "    <tr style=\"text-align: right;\">\n",
       "      <th></th>\n",
       "      <th>class_0</th>\n",
       "      <th>class_1</th>\n",
       "    </tr>\n",
       "  </thead>\n",
       "  <tbody>\n",
       "    <tr>\n",
       "      <th>0</th>\n",
       "      <td>0.665937</td>\n",
       "      <td>0.334063</td>\n",
       "    </tr>\n",
       "    <tr>\n",
       "      <th>1</th>\n",
       "      <td>0.665937</td>\n",
       "      <td>0.334063</td>\n",
       "    </tr>\n",
       "    <tr>\n",
       "      <th>2</th>\n",
       "      <td>0.665937</td>\n",
       "      <td>0.334063</td>\n",
       "    </tr>\n",
       "    <tr>\n",
       "      <th>3</th>\n",
       "      <td>0.665937</td>\n",
       "      <td>0.334063</td>\n",
       "    </tr>\n",
       "    <tr>\n",
       "      <th>4</th>\n",
       "      <td>0.665937</td>\n",
       "      <td>0.334063</td>\n",
       "    </tr>\n",
       "  </tbody>\n",
       "</table>\n",
       "</div>"
      ],
      "text/plain": [
       "    class_0   class_1\n",
       "0  0.665937  0.334063\n",
       "1  0.665937  0.334063\n",
       "2  0.665937  0.334063\n",
       "3  0.665937  0.334063\n",
       "4  0.665937  0.334063"
      ]
     },
     "execution_count": 22,
     "metadata": {},
     "output_type": "execute_result"
    }
   ],
   "source": [
    "pred_concat_df=pred_df/2+pred2_df/2\n",
    "pred_concat_df"
   ]
  },
  {
   "cell_type": "code",
   "execution_count": 23,
   "id": "7d536319",
   "metadata": {
    "execution": {
     "iopub.execute_input": "2023-05-27T02:39:32.135098Z",
     "iopub.status.busy": "2023-05-27T02:39:32.133852Z",
     "iopub.status.idle": "2023-05-27T02:39:32.146432Z",
     "shell.execute_reply": "2023-05-27T02:39:32.145398Z"
    },
    "papermill": {
     "duration": 0.045183,
     "end_time": "2023-05-27T02:39:32.148914",
     "exception": false,
     "start_time": "2023-05-27T02:39:32.103731",
     "status": "completed"
    },
    "tags": []
   },
   "outputs": [],
   "source": [
    "submission_df = pd.concat([test_Id,pred_concat_df],axis=1)\n",
    "submission_df.to_csv('submission.csv', index=False)"
   ]
  },
  {
   "cell_type": "code",
   "execution_count": 24,
   "id": "dc3df977",
   "metadata": {
    "execution": {
     "iopub.execute_input": "2023-05-27T02:39:32.208483Z",
     "iopub.status.busy": "2023-05-27T02:39:32.208049Z",
     "iopub.status.idle": "2023-05-27T02:39:32.219797Z",
     "shell.execute_reply": "2023-05-27T02:39:32.218647Z"
    },
    "papermill": {
     "duration": 0.044845,
     "end_time": "2023-05-27T02:39:32.222593",
     "exception": false,
     "start_time": "2023-05-27T02:39:32.177748",
     "status": "completed"
    },
    "tags": []
   },
   "outputs": [
    {
     "data": {
      "text/html": [
       "<div>\n",
       "<style scoped>\n",
       "    .dataframe tbody tr th:only-of-type {\n",
       "        vertical-align: middle;\n",
       "    }\n",
       "\n",
       "    .dataframe tbody tr th {\n",
       "        vertical-align: top;\n",
       "    }\n",
       "\n",
       "    .dataframe thead th {\n",
       "        text-align: right;\n",
       "    }\n",
       "</style>\n",
       "<table border=\"1\" class=\"dataframe\">\n",
       "  <thead>\n",
       "    <tr style=\"text-align: right;\">\n",
       "      <th></th>\n",
       "      <th>Id</th>\n",
       "      <th>class_0</th>\n",
       "      <th>class_1</th>\n",
       "    </tr>\n",
       "  </thead>\n",
       "  <tbody>\n",
       "    <tr>\n",
       "      <th>0</th>\n",
       "      <td>00eed32682bb</td>\n",
       "      <td>0.665937</td>\n",
       "      <td>0.334063</td>\n",
       "    </tr>\n",
       "    <tr>\n",
       "      <th>1</th>\n",
       "      <td>010ebe33f668</td>\n",
       "      <td>0.665937</td>\n",
       "      <td>0.334063</td>\n",
       "    </tr>\n",
       "    <tr>\n",
       "      <th>2</th>\n",
       "      <td>02fa521e1838</td>\n",
       "      <td>0.665937</td>\n",
       "      <td>0.334063</td>\n",
       "    </tr>\n",
       "    <tr>\n",
       "      <th>3</th>\n",
       "      <td>040e15f562a2</td>\n",
       "      <td>0.665937</td>\n",
       "      <td>0.334063</td>\n",
       "    </tr>\n",
       "    <tr>\n",
       "      <th>4</th>\n",
       "      <td>046e85c7cc7f</td>\n",
       "      <td>0.665937</td>\n",
       "      <td>0.334063</td>\n",
       "    </tr>\n",
       "  </tbody>\n",
       "</table>\n",
       "</div>"
      ],
      "text/plain": [
       "             Id   class_0   class_1\n",
       "0  00eed32682bb  0.665937  0.334063\n",
       "1  010ebe33f668  0.665937  0.334063\n",
       "2  02fa521e1838  0.665937  0.334063\n",
       "3  040e15f562a2  0.665937  0.334063\n",
       "4  046e85c7cc7f  0.665937  0.334063"
      ]
     },
     "execution_count": 24,
     "metadata": {},
     "output_type": "execute_result"
    }
   ],
   "source": [
    "submission_df"
   ]
  }
 ],
 "metadata": {
  "kernelspec": {
   "display_name": "Python 3",
   "language": "python",
   "name": "python3"
  },
  "language_info": {
   "codemirror_mode": {
    "name": "ipython",
    "version": 3
   },
   "file_extension": ".py",
   "mimetype": "text/x-python",
   "name": "python",
   "nbconvert_exporter": "python",
   "pygments_lexer": "ipython3",
   "version": "3.10.10"
  },
  "papermill": {
   "default_parameters": {},
   "duration": 72.175785,
   "end_time": "2023-05-27T02:39:33.477579",
   "environment_variables": {},
   "exception": null,
   "input_path": "__notebook__.ipynb",
   "output_path": "__notebook__.ipynb",
   "parameters": {},
   "start_time": "2023-05-27T02:38:21.301794",
   "version": "2.4.0"
  }
 },
 "nbformat": 4,
 "nbformat_minor": 5
}
