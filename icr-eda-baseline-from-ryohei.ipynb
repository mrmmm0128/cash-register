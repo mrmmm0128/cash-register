{
 "cells": [
  {
   "cell_type": "code",
   "execution_count": 1,
   "id": "cc910ace",
   "metadata": {
    "_cell_guid": "b1076dfc-b9ad-4769-8c92-a6c4dae69d19",
    "_uuid": "8f2839f25d086af736a60e9eeb907d3b93b6e0e5",
    "execution": {
     "iopub.execute_input": "2023-05-19T04:42:09.636167Z",
     "iopub.status.busy": "2023-05-19T04:42:09.635022Z",
     "iopub.status.idle": "2023-05-19T04:42:12.087794Z",
     "shell.execute_reply": "2023-05-19T04:42:12.086275Z"
    },
    "papermill": {
     "duration": 2.466607,
     "end_time": "2023-05-19T04:42:12.090907",
     "exception": false,
     "start_time": "2023-05-19T04:42:09.624300",
     "status": "completed"
    },
    "tags": []
   },
   "outputs": [
    {
     "name": "stderr",
     "output_type": "stream",
     "text": [
      "/opt/conda/lib/python3.10/site-packages/scipy/__init__.py:146: UserWarning: A NumPy version >=1.16.5 and <1.23.0 is required for this version of SciPy (detected version 1.23.5\n",
      "  warnings.warn(f\"A NumPy version >={np_minversion} and <{np_maxversion}\"\n"
     ]
    },
    {
     "name": "stdout",
     "output_type": "stream",
     "text": [
      "/kaggle/input/icr-identify-age-related-conditions/sample_submission.csv\n",
      "/kaggle/input/icr-identify-age-related-conditions/greeks.csv\n",
      "/kaggle/input/icr-identify-age-related-conditions/train.csv\n",
      "/kaggle/input/icr-identify-age-related-conditions/test.csv\n"
     ]
    }
   ],
   "source": [
    "# This Python 3 environment comes with many helpful analytics libraries installed\n",
    "# It is defined by the kaggle/python Docker image: https://github.com/kaggle/docker-python\n",
    "# For example, here's several helpful packages to load\n",
    "\n",
    "import numpy as np\n",
    "import pandas as pd\n",
    "import optuna\n",
    "from sklearn import datasets, metrics\n",
    "from sklearn.model_selection import KFold, StratifiedKFold,GridSearchCV\n",
    "from sklearn.preprocessing import StandardScaler, MinMaxScaler\n",
    "from sklearn.ensemble import RandomForestClassifier\n",
    "from sklearn.svm import SVC\n",
    "from statistics import mean\n",
    "\n",
    "# Input data files are available in the read-only \"../input/\" directory\n",
    "# For example, running this (by clicking run or pressing Shift+Enter) will list all files under the input directory\n",
    "\n",
    "import os\n",
    "for dirname, _, filenames in os.walk('/kaggle/input'):\n",
    "    for filename in filenames:\n",
    "        print(os.path.join(dirname, filename))\n",
    "\n",
    "# You can write up to 20GB to the current directory (/kaggle/working/) that gets preserved as output when you create a version using \"Save & Run All\" \n",
    "# You can also write temporary files to /kaggle/temp/, but they won't be saved outside of the current session"
   ]
  },
  {
   "cell_type": "code",
   "execution_count": 2,
   "id": "1931aebc",
   "metadata": {
    "execution": {
     "iopub.execute_input": "2023-05-19T04:42:12.109365Z",
     "iopub.status.busy": "2023-05-19T04:42:12.108972Z",
     "iopub.status.idle": "2023-05-19T04:42:12.171585Z",
     "shell.execute_reply": "2023-05-19T04:42:12.170335Z"
    },
    "papermill": {
     "duration": 0.074839,
     "end_time": "2023-05-19T04:42:12.174222",
     "exception": false,
     "start_time": "2023-05-19T04:42:12.099383",
     "status": "completed"
    },
    "tags": []
   },
   "outputs": [],
   "source": [
    "train_df=pd.read_csv('/kaggle/input/icr-identify-age-related-conditions/train.csv')\n",
    "test_df=pd.read_csv('/kaggle/input/icr-identify-age-related-conditions/test.csv')\n",
    "greeks_df=pd.read_csv('/kaggle/input/icr-identify-age-related-conditions/greeks.csv')\n",
    "test_Id=test_df[\"Id\"]"
   ]
  },
  {
   "cell_type": "code",
   "execution_count": 3,
   "id": "a0d98780",
   "metadata": {
    "execution": {
     "iopub.execute_input": "2023-05-19T04:42:12.191959Z",
     "iopub.status.busy": "2023-05-19T04:42:12.191285Z",
     "iopub.status.idle": "2023-05-19T04:42:12.398539Z",
     "shell.execute_reply": "2023-05-19T04:42:12.397247Z"
    },
    "papermill": {
     "duration": 0.219027,
     "end_time": "2023-05-19T04:42:12.401040",
     "exception": false,
     "start_time": "2023-05-19T04:42:12.182013",
     "status": "completed"
    },
    "tags": []
   },
   "outputs": [],
   "source": [
    "from sklearn.model_selection import KFold,StratifiedKFold,train_test_split,GridSearchCV\n",
    "from sklearn.metrics import roc_auc_score,accuracy_score,confusion_matrix,ConfusionMatrixDisplay,RocCurveDisplay\n",
    "\n",
    "import time \n",
    "from xgboost import XGBClassifier\n",
    "from sklearn.metrics import log_loss"
   ]
  },
  {
   "cell_type": "code",
   "execution_count": 4,
   "id": "081608e3",
   "metadata": {
    "execution": {
     "iopub.execute_input": "2023-05-19T04:42:12.418657Z",
     "iopub.status.busy": "2023-05-19T04:42:12.418240Z",
     "iopub.status.idle": "2023-05-19T04:42:12.465228Z",
     "shell.execute_reply": "2023-05-19T04:42:12.464121Z"
    },
    "papermill": {
     "duration": 0.058573,
     "end_time": "2023-05-19T04:42:12.467758",
     "exception": false,
     "start_time": "2023-05-19T04:42:12.409185",
     "status": "completed"
    },
    "tags": []
   },
   "outputs": [
    {
     "data": {
      "text/html": [
       "<div>\n",
       "<style scoped>\n",
       "    .dataframe tbody tr th:only-of-type {\n",
       "        vertical-align: middle;\n",
       "    }\n",
       "\n",
       "    .dataframe tbody tr th {\n",
       "        vertical-align: top;\n",
       "    }\n",
       "\n",
       "    .dataframe thead th {\n",
       "        text-align: right;\n",
       "    }\n",
       "</style>\n",
       "<table border=\"1\" class=\"dataframe\">\n",
       "  <thead>\n",
       "    <tr style=\"text-align: right;\">\n",
       "      <th></th>\n",
       "      <th>Id</th>\n",
       "      <th>AB</th>\n",
       "      <th>AF</th>\n",
       "      <th>AH</th>\n",
       "      <th>AM</th>\n",
       "      <th>AR</th>\n",
       "      <th>AX</th>\n",
       "      <th>AY</th>\n",
       "      <th>AZ</th>\n",
       "      <th>BC</th>\n",
       "      <th>...</th>\n",
       "      <th>FL</th>\n",
       "      <th>FR</th>\n",
       "      <th>FS</th>\n",
       "      <th>GB</th>\n",
       "      <th>GE</th>\n",
       "      <th>GF</th>\n",
       "      <th>GH</th>\n",
       "      <th>GI</th>\n",
       "      <th>GL</th>\n",
       "      <th>Class</th>\n",
       "    </tr>\n",
       "  </thead>\n",
       "  <tbody>\n",
       "    <tr>\n",
       "      <th>0</th>\n",
       "      <td>000ff2bfdfe9</td>\n",
       "      <td>0.209377</td>\n",
       "      <td>3109.03329</td>\n",
       "      <td>85.200147</td>\n",
       "      <td>22.394407</td>\n",
       "      <td>8.138688</td>\n",
       "      <td>0.699861</td>\n",
       "      <td>0.025578</td>\n",
       "      <td>9.812214</td>\n",
       "      <td>5.555634</td>\n",
       "      <td>...</td>\n",
       "      <td>7.298162</td>\n",
       "      <td>1.73855</td>\n",
       "      <td>0.094822</td>\n",
       "      <td>11.339138</td>\n",
       "      <td>72.611063</td>\n",
       "      <td>2003.810319</td>\n",
       "      <td>22.136229</td>\n",
       "      <td>69.834944</td>\n",
       "      <td>0.120343</td>\n",
       "      <td>1</td>\n",
       "    </tr>\n",
       "    <tr>\n",
       "      <th>1</th>\n",
       "      <td>007255e47698</td>\n",
       "      <td>0.145282</td>\n",
       "      <td>978.76416</td>\n",
       "      <td>85.200147</td>\n",
       "      <td>36.968889</td>\n",
       "      <td>8.138688</td>\n",
       "      <td>3.632190</td>\n",
       "      <td>0.025578</td>\n",
       "      <td>13.517790</td>\n",
       "      <td>1.229900</td>\n",
       "      <td>...</td>\n",
       "      <td>0.173229</td>\n",
       "      <td>0.49706</td>\n",
       "      <td>0.568932</td>\n",
       "      <td>9.292698</td>\n",
       "      <td>72.611063</td>\n",
       "      <td>27981.562750</td>\n",
       "      <td>29.135430</td>\n",
       "      <td>32.131996</td>\n",
       "      <td>21.978000</td>\n",
       "      <td>0</td>\n",
       "    </tr>\n",
       "    <tr>\n",
       "      <th>2</th>\n",
       "      <td>013f2bd269f5</td>\n",
       "      <td>0.470030</td>\n",
       "      <td>2635.10654</td>\n",
       "      <td>85.200147</td>\n",
       "      <td>32.360553</td>\n",
       "      <td>8.138688</td>\n",
       "      <td>6.732840</td>\n",
       "      <td>0.025578</td>\n",
       "      <td>12.824570</td>\n",
       "      <td>1.229900</td>\n",
       "      <td>...</td>\n",
       "      <td>7.709560</td>\n",
       "      <td>0.97556</td>\n",
       "      <td>1.198821</td>\n",
       "      <td>37.077772</td>\n",
       "      <td>88.609437</td>\n",
       "      <td>13676.957810</td>\n",
       "      <td>28.022851</td>\n",
       "      <td>35.192676</td>\n",
       "      <td>0.196941</td>\n",
       "      <td>0</td>\n",
       "    </tr>\n",
       "    <tr>\n",
       "      <th>3</th>\n",
       "      <td>043ac50845d5</td>\n",
       "      <td>0.252107</td>\n",
       "      <td>3819.65177</td>\n",
       "      <td>120.201618</td>\n",
       "      <td>77.112203</td>\n",
       "      <td>8.138688</td>\n",
       "      <td>3.685344</td>\n",
       "      <td>0.025578</td>\n",
       "      <td>11.053708</td>\n",
       "      <td>1.229900</td>\n",
       "      <td>...</td>\n",
       "      <td>6.122162</td>\n",
       "      <td>0.49706</td>\n",
       "      <td>0.284466</td>\n",
       "      <td>18.529584</td>\n",
       "      <td>82.416803</td>\n",
       "      <td>2094.262452</td>\n",
       "      <td>39.948656</td>\n",
       "      <td>90.493248</td>\n",
       "      <td>0.155829</td>\n",
       "      <td>0</td>\n",
       "    </tr>\n",
       "    <tr>\n",
       "      <th>4</th>\n",
       "      <td>044fb8a146ec</td>\n",
       "      <td>0.380297</td>\n",
       "      <td>3733.04844</td>\n",
       "      <td>85.200147</td>\n",
       "      <td>14.103738</td>\n",
       "      <td>8.138688</td>\n",
       "      <td>3.942255</td>\n",
       "      <td>0.054810</td>\n",
       "      <td>3.396778</td>\n",
       "      <td>102.151980</td>\n",
       "      <td>...</td>\n",
       "      <td>8.153058</td>\n",
       "      <td>48.50134</td>\n",
       "      <td>0.121914</td>\n",
       "      <td>16.408728</td>\n",
       "      <td>146.109943</td>\n",
       "      <td>8524.370502</td>\n",
       "      <td>45.381316</td>\n",
       "      <td>36.262628</td>\n",
       "      <td>0.096614</td>\n",
       "      <td>1</td>\n",
       "    </tr>\n",
       "  </tbody>\n",
       "</table>\n",
       "<p>5 rows × 58 columns</p>\n",
       "</div>"
      ],
      "text/plain": [
       "             Id        AB          AF          AH         AM        AR  \\\n",
       "0  000ff2bfdfe9  0.209377  3109.03329   85.200147  22.394407  8.138688   \n",
       "1  007255e47698  0.145282   978.76416   85.200147  36.968889  8.138688   \n",
       "2  013f2bd269f5  0.470030  2635.10654   85.200147  32.360553  8.138688   \n",
       "3  043ac50845d5  0.252107  3819.65177  120.201618  77.112203  8.138688   \n",
       "4  044fb8a146ec  0.380297  3733.04844   85.200147  14.103738  8.138688   \n",
       "\n",
       "         AX        AY         AZ          BC  ...        FL        FR  \\\n",
       "0  0.699861  0.025578   9.812214    5.555634  ...  7.298162   1.73855   \n",
       "1  3.632190  0.025578  13.517790    1.229900  ...  0.173229   0.49706   \n",
       "2  6.732840  0.025578  12.824570    1.229900  ...  7.709560   0.97556   \n",
       "3  3.685344  0.025578  11.053708    1.229900  ...  6.122162   0.49706   \n",
       "4  3.942255  0.054810   3.396778  102.151980  ...  8.153058  48.50134   \n",
       "\n",
       "         FS         GB          GE            GF         GH         GI  \\\n",
       "0  0.094822  11.339138   72.611063   2003.810319  22.136229  69.834944   \n",
       "1  0.568932   9.292698   72.611063  27981.562750  29.135430  32.131996   \n",
       "2  1.198821  37.077772   88.609437  13676.957810  28.022851  35.192676   \n",
       "3  0.284466  18.529584   82.416803   2094.262452  39.948656  90.493248   \n",
       "4  0.121914  16.408728  146.109943   8524.370502  45.381316  36.262628   \n",
       "\n",
       "          GL  Class  \n",
       "0   0.120343      1  \n",
       "1  21.978000      0  \n",
       "2   0.196941      0  \n",
       "3   0.155829      0  \n",
       "4   0.096614      1  \n",
       "\n",
       "[5 rows x 58 columns]"
      ]
     },
     "execution_count": 4,
     "metadata": {},
     "output_type": "execute_result"
    }
   ],
   "source": [
    "train_df.head()"
   ]
  },
  {
   "cell_type": "code",
   "execution_count": 5,
   "id": "6010eee5",
   "metadata": {
    "execution": {
     "iopub.execute_input": "2023-05-19T04:42:12.486138Z",
     "iopub.status.busy": "2023-05-19T04:42:12.485669Z",
     "iopub.status.idle": "2023-05-19T04:42:12.495942Z",
     "shell.execute_reply": "2023-05-19T04:42:12.494786Z"
    },
    "papermill": {
     "duration": 0.022558,
     "end_time": "2023-05-19T04:42:12.498543",
     "exception": false,
     "start_time": "2023-05-19T04:42:12.475985",
     "status": "completed"
    },
    "tags": []
   },
   "outputs": [
    {
     "data": {
      "text/plain": [
       "Id        object\n",
       "AB       float64\n",
       "AF       float64\n",
       "AH       float64\n",
       "AM       float64\n",
       "AR       float64\n",
       "AX       float64\n",
       "AY       float64\n",
       "AZ       float64\n",
       "BC       float64\n",
       "BD       float64\n",
       "BN       float64\n",
       "BP       float64\n",
       "BQ       float64\n",
       "BR       float64\n",
       "BZ       float64\n",
       "CB       float64\n",
       "CC       float64\n",
       "CD       float64\n",
       "CF       float64\n",
       "CH       float64\n",
       "CL       float64\n",
       "CR       float64\n",
       "CS       float64\n",
       "CU       float64\n",
       "CW       float64\n",
       "DA       float64\n",
       "DE       float64\n",
       "DF       float64\n",
       "DH       float64\n",
       "DI       float64\n",
       "DL       float64\n",
       "DN       float64\n",
       "DU       float64\n",
       "DV       float64\n",
       "DY       float64\n",
       "EB       float64\n",
       "EE       float64\n",
       "EG       float64\n",
       "EH       float64\n",
       "EJ        object\n",
       "EL       float64\n",
       "EP       float64\n",
       "EU       float64\n",
       "FC       float64\n",
       "FD       float64\n",
       "FE       float64\n",
       "FI       float64\n",
       "FL       float64\n",
       "FR       float64\n",
       "FS       float64\n",
       "GB       float64\n",
       "GE       float64\n",
       "GF       float64\n",
       "GH       float64\n",
       "GI       float64\n",
       "GL       float64\n",
       "Class      int64\n",
       "dtype: object"
      ]
     },
     "execution_count": 5,
     "metadata": {},
     "output_type": "execute_result"
    }
   ],
   "source": [
    "train_df.dtypes"
   ]
  },
  {
   "cell_type": "code",
   "execution_count": 6,
   "id": "4ed86d2e",
   "metadata": {
    "execution": {
     "iopub.execute_input": "2023-05-19T04:42:12.518718Z",
     "iopub.status.busy": "2023-05-19T04:42:12.517821Z",
     "iopub.status.idle": "2023-05-19T04:42:12.528391Z",
     "shell.execute_reply": "2023-05-19T04:42:12.527107Z"
    },
    "papermill": {
     "duration": 0.02389,
     "end_time": "2023-05-19T04:42:12.530752",
     "exception": false,
     "start_time": "2023-05-19T04:42:12.506862",
     "status": "completed"
    },
    "tags": []
   },
   "outputs": [
    {
     "data": {
      "text/plain": [
       "Id      object\n",
       "AB     float64\n",
       "AF     float64\n",
       "AH     float64\n",
       "AM     float64\n",
       "AR     float64\n",
       "AX     float64\n",
       "AY     float64\n",
       "AZ     float64\n",
       "BC     float64\n",
       "BD     float64\n",
       "BN     float64\n",
       "BP     float64\n",
       "BQ     float64\n",
       "BR     float64\n",
       "BZ     float64\n",
       "CB     float64\n",
       "CC     float64\n",
       "CD     float64\n",
       "CF     float64\n",
       "CH     float64\n",
       "CL     float64\n",
       "CR     float64\n",
       "CS     float64\n",
       "CU     float64\n",
       "CW     float64\n",
       "DA     float64\n",
       "DE     float64\n",
       "DF     float64\n",
       "DH     float64\n",
       "DI     float64\n",
       "DL     float64\n",
       "DN     float64\n",
       "DU     float64\n",
       "DV     float64\n",
       "DY     float64\n",
       "EB     float64\n",
       "EE     float64\n",
       "EG     float64\n",
       "EH     float64\n",
       "EJ      object\n",
       "EL     float64\n",
       "EP     float64\n",
       "EU     float64\n",
       "FC     float64\n",
       "FD     float64\n",
       "FE     float64\n",
       "FI     float64\n",
       "FL     float64\n",
       "FR     float64\n",
       "FS     float64\n",
       "GB     float64\n",
       "GE     float64\n",
       "GF     float64\n",
       "GH     float64\n",
       "GI     float64\n",
       "GL     float64\n",
       "dtype: object"
      ]
     },
     "execution_count": 6,
     "metadata": {},
     "output_type": "execute_result"
    }
   ],
   "source": [
    "test_df.dtypes"
   ]
  },
  {
   "cell_type": "code",
   "execution_count": 7,
   "id": "f98852f3",
   "metadata": {
    "execution": {
     "iopub.execute_input": "2023-05-19T04:42:12.550431Z",
     "iopub.status.busy": "2023-05-19T04:42:12.549377Z",
     "iopub.status.idle": "2023-05-19T04:42:12.555489Z",
     "shell.execute_reply": "2023-05-19T04:42:12.554643Z"
    },
    "papermill": {
     "duration": 0.018339,
     "end_time": "2023-05-19T04:42:12.557755",
     "exception": false,
     "start_time": "2023-05-19T04:42:12.539416",
     "status": "completed"
    },
    "tags": []
   },
   "outputs": [],
   "source": [
    "num_cols = train_df.select_dtypes(include=[\"float64\"]).columns.tolist()\n",
    "cat_cols = train_df.select_dtypes(include=[\"object\"]).columns.tolist()\n",
    "cat_cols.remove(\"Id\")"
   ]
  },
  {
   "cell_type": "code",
   "execution_count": 8,
   "id": "09cadda2",
   "metadata": {
    "execution": {
     "iopub.execute_input": "2023-05-19T04:42:12.577253Z",
     "iopub.status.busy": "2023-05-19T04:42:12.576592Z",
     "iopub.status.idle": "2023-05-19T04:42:12.583018Z",
     "shell.execute_reply": "2023-05-19T04:42:12.581831Z"
    },
    "papermill": {
     "duration": 0.019201,
     "end_time": "2023-05-19T04:42:12.585591",
     "exception": false,
     "start_time": "2023-05-19T04:42:12.566390",
     "status": "completed"
    },
    "tags": []
   },
   "outputs": [
    {
     "data": {
      "text/plain": [
       "int"
      ]
     },
     "execution_count": 8,
     "metadata": {},
     "output_type": "execute_result"
    }
   ],
   "source": [
    "total_row_train=train_df.shape\n",
    "total_row_test=test_df.shape\n",
    "type(total_row_train[0])"
   ]
  },
  {
   "cell_type": "code",
   "execution_count": 9,
   "id": "01c3020b",
   "metadata": {
    "execution": {
     "iopub.execute_input": "2023-05-19T04:42:12.605930Z",
     "iopub.status.busy": "2023-05-19T04:42:12.605282Z",
     "iopub.status.idle": "2023-05-19T04:42:12.617479Z",
     "shell.execute_reply": "2023-05-19T04:42:12.616074Z"
    },
    "papermill": {
     "duration": 0.025389,
     "end_time": "2023-05-19T04:42:12.620100",
     "exception": false,
     "start_time": "2023-05-19T04:42:12.594711",
     "status": "completed"
    },
    "tags": []
   },
   "outputs": [
    {
     "name": "stdout",
     "output_type": "stream",
     "text": [
      "there are 108 Classes are '1', which is 17.50% total training dataset.\n",
      "there are 509 Classes are '0', which is 82.50% total training dataset.\n"
     ]
    }
   ],
   "source": [
    "num=len(train_df[train_df[\"Class\"]==1])\n",
    "percentage=num/(total_row_train[0])*100\n",
    "print(f\"there are {num} Classes are '1', which is {percentage:.2f}% total training dataset.\")\n",
    "\n",
    "num=len(train_df[train_df[\"Class\"]==0])\n",
    "percentage=num/(total_row_train[0])*100\n",
    "print(f\"there are {num} Classes are '0', which is {percentage:.2f}% total training dataset.\")\n"
   ]
  },
  {
   "cell_type": "code",
   "execution_count": 10,
   "id": "df39fb7a",
   "metadata": {
    "execution": {
     "iopub.execute_input": "2023-05-19T04:42:12.639543Z",
     "iopub.status.busy": "2023-05-19T04:42:12.639115Z",
     "iopub.status.idle": "2023-05-19T04:42:12.651702Z",
     "shell.execute_reply": "2023-05-19T04:42:12.650663Z"
    },
    "papermill": {
     "duration": 0.025021,
     "end_time": "2023-05-19T04:42:12.653993",
     "exception": false,
     "start_time": "2023-05-19T04:42:12.628972",
     "status": "completed"
    },
    "tags": []
   },
   "outputs": [
    {
     "data": {
      "text/plain": [
       "BQ    60\n",
       "CB     2\n",
       "CC     3\n",
       "DU     1\n",
       "EL    60\n",
       "FC     1\n",
       "FL     1\n",
       "FS     2\n",
       "GL     1\n",
       "dtype: int64"
      ]
     },
     "execution_count": 10,
     "metadata": {},
     "output_type": "execute_result"
    }
   ],
   "source": [
    "train_df.isnull().sum().loc[train_df.isnull().sum()>0]"
   ]
  },
  {
   "cell_type": "code",
   "execution_count": 11,
   "id": "b049e5fa",
   "metadata": {
    "execution": {
     "iopub.execute_input": "2023-05-19T04:42:12.674233Z",
     "iopub.status.busy": "2023-05-19T04:42:12.673566Z",
     "iopub.status.idle": "2023-05-19T04:42:12.688835Z",
     "shell.execute_reply": "2023-05-19T04:42:12.687524Z"
    },
    "papermill": {
     "duration": 0.0289,
     "end_time": "2023-05-19T04:42:12.691823",
     "exception": false,
     "start_time": "2023-05-19T04:42:12.662923",
     "status": "completed"
    },
    "tags": []
   },
   "outputs": [
    {
     "data": {
      "text/plain": [
       "BQ    0\n",
       "CB    0\n",
       "CC    0\n",
       "DU    0\n",
       "EL    0\n",
       "FC    0\n",
       "FL    0\n",
       "FS    0\n",
       "GL    0\n",
       "dtype: int64"
      ]
     },
     "execution_count": 11,
     "metadata": {},
     "output_type": "execute_result"
    }
   ],
   "source": [
    "test_df.isnull().sum().loc[train_df.isnull().sum()>0]"
   ]
  },
  {
   "cell_type": "code",
   "execution_count": 12,
   "id": "2f871b3b",
   "metadata": {
    "execution": {
     "iopub.execute_input": "2023-05-19T04:42:12.713258Z",
     "iopub.status.busy": "2023-05-19T04:42:12.711951Z",
     "iopub.status.idle": "2023-05-19T04:42:12.883723Z",
     "shell.execute_reply": "2023-05-19T04:42:12.882777Z"
    },
    "papermill": {
     "duration": 0.184678,
     "end_time": "2023-05-19T04:42:12.885905",
     "exception": false,
     "start_time": "2023-05-19T04:42:12.701227",
     "status": "completed"
    },
    "tags": []
   },
   "outputs": [
    {
     "data": {
      "text/html": [
       "<div>\n",
       "<style scoped>\n",
       "    .dataframe tbody tr th:only-of-type {\n",
       "        vertical-align: middle;\n",
       "    }\n",
       "\n",
       "    .dataframe tbody tr th {\n",
       "        vertical-align: top;\n",
       "    }\n",
       "\n",
       "    .dataframe thead th {\n",
       "        text-align: right;\n",
       "    }\n",
       "</style>\n",
       "<table border=\"1\" class=\"dataframe\">\n",
       "  <thead>\n",
       "    <tr style=\"text-align: right;\">\n",
       "      <th></th>\n",
       "      <th>AB</th>\n",
       "      <th>AF</th>\n",
       "      <th>AH</th>\n",
       "      <th>AM</th>\n",
       "      <th>AR</th>\n",
       "      <th>AX</th>\n",
       "      <th>AY</th>\n",
       "      <th>AZ</th>\n",
       "      <th>BC</th>\n",
       "      <th>BD</th>\n",
       "      <th>...</th>\n",
       "      <th>FL</th>\n",
       "      <th>FR</th>\n",
       "      <th>FS</th>\n",
       "      <th>GB</th>\n",
       "      <th>GE</th>\n",
       "      <th>GF</th>\n",
       "      <th>GH</th>\n",
       "      <th>GI</th>\n",
       "      <th>GL</th>\n",
       "      <th>Class</th>\n",
       "    </tr>\n",
       "  </thead>\n",
       "  <tbody>\n",
       "    <tr>\n",
       "      <th>count</th>\n",
       "      <td>617.000000</td>\n",
       "      <td>617.000000</td>\n",
       "      <td>617.000000</td>\n",
       "      <td>617.000000</td>\n",
       "      <td>617.000000</td>\n",
       "      <td>617.000000</td>\n",
       "      <td>617.000000</td>\n",
       "      <td>617.000000</td>\n",
       "      <td>617.000000</td>\n",
       "      <td>617.000000</td>\n",
       "      <td>...</td>\n",
       "      <td>616.000000</td>\n",
       "      <td>617.000000</td>\n",
       "      <td>615.000000</td>\n",
       "      <td>617.000000</td>\n",
       "      <td>617.000000</td>\n",
       "      <td>617.000000</td>\n",
       "      <td>617.000000</td>\n",
       "      <td>617.000000</td>\n",
       "      <td>616.000000</td>\n",
       "      <td>617.000000</td>\n",
       "    </tr>\n",
       "    <tr>\n",
       "      <th>mean</th>\n",
       "      <td>0.477149</td>\n",
       "      <td>3502.013221</td>\n",
       "      <td>118.624513</td>\n",
       "      <td>38.968552</td>\n",
       "      <td>10.128242</td>\n",
       "      <td>5.545576</td>\n",
       "      <td>0.060320</td>\n",
       "      <td>10.566447</td>\n",
       "      <td>8.053012</td>\n",
       "      <td>5350.388655</td>\n",
       "      <td>...</td>\n",
       "      <td>5.433199</td>\n",
       "      <td>3.533905</td>\n",
       "      <td>0.421501</td>\n",
       "      <td>20.724856</td>\n",
       "      <td>131.714987</td>\n",
       "      <td>14679.595398</td>\n",
       "      <td>31.489716</td>\n",
       "      <td>50.584437</td>\n",
       "      <td>8.530961</td>\n",
       "      <td>0.175041</td>\n",
       "    </tr>\n",
       "    <tr>\n",
       "      <th>std</th>\n",
       "      <td>0.468388</td>\n",
       "      <td>2300.322717</td>\n",
       "      <td>127.838950</td>\n",
       "      <td>69.728226</td>\n",
       "      <td>10.518877</td>\n",
       "      <td>2.551696</td>\n",
       "      <td>0.416817</td>\n",
       "      <td>4.350645</td>\n",
       "      <td>65.166943</td>\n",
       "      <td>3021.326641</td>\n",
       "      <td>...</td>\n",
       "      <td>11.496257</td>\n",
       "      <td>50.181948</td>\n",
       "      <td>1.305365</td>\n",
       "      <td>9.991907</td>\n",
       "      <td>144.181524</td>\n",
       "      <td>19352.959387</td>\n",
       "      <td>9.864239</td>\n",
       "      <td>36.266251</td>\n",
       "      <td>10.327010</td>\n",
       "      <td>0.380310</td>\n",
       "    </tr>\n",
       "    <tr>\n",
       "      <th>min</th>\n",
       "      <td>0.081187</td>\n",
       "      <td>192.593280</td>\n",
       "      <td>85.200147</td>\n",
       "      <td>3.177522</td>\n",
       "      <td>8.138688</td>\n",
       "      <td>0.699861</td>\n",
       "      <td>0.025578</td>\n",
       "      <td>3.396778</td>\n",
       "      <td>1.229900</td>\n",
       "      <td>1693.624320</td>\n",
       "      <td>...</td>\n",
       "      <td>0.173229</td>\n",
       "      <td>0.497060</td>\n",
       "      <td>0.067730</td>\n",
       "      <td>4.102182</td>\n",
       "      <td>72.611063</td>\n",
       "      <td>13.038894</td>\n",
       "      <td>9.432735</td>\n",
       "      <td>0.897628</td>\n",
       "      <td>0.001129</td>\n",
       "      <td>0.000000</td>\n",
       "    </tr>\n",
       "    <tr>\n",
       "      <th>25%</th>\n",
       "      <td>0.252107</td>\n",
       "      <td>2197.345480</td>\n",
       "      <td>85.200147</td>\n",
       "      <td>12.270314</td>\n",
       "      <td>8.138688</td>\n",
       "      <td>4.128294</td>\n",
       "      <td>0.025578</td>\n",
       "      <td>8.129580</td>\n",
       "      <td>1.229900</td>\n",
       "      <td>4155.702870</td>\n",
       "      <td>...</td>\n",
       "      <td>0.173229</td>\n",
       "      <td>0.497060</td>\n",
       "      <td>0.067730</td>\n",
       "      <td>14.036718</td>\n",
       "      <td>72.611063</td>\n",
       "      <td>2798.992584</td>\n",
       "      <td>25.034888</td>\n",
       "      <td>23.011684</td>\n",
       "      <td>0.124392</td>\n",
       "      <td>0.000000</td>\n",
       "    </tr>\n",
       "    <tr>\n",
       "      <th>50%</th>\n",
       "      <td>0.354659</td>\n",
       "      <td>3120.318960</td>\n",
       "      <td>85.200147</td>\n",
       "      <td>20.533110</td>\n",
       "      <td>8.138688</td>\n",
       "      <td>5.031912</td>\n",
       "      <td>0.025578</td>\n",
       "      <td>10.461320</td>\n",
       "      <td>1.229900</td>\n",
       "      <td>4997.960730</td>\n",
       "      <td>...</td>\n",
       "      <td>3.028141</td>\n",
       "      <td>1.131000</td>\n",
       "      <td>0.250601</td>\n",
       "      <td>18.771436</td>\n",
       "      <td>72.611063</td>\n",
       "      <td>7838.273610</td>\n",
       "      <td>30.608946</td>\n",
       "      <td>41.007968</td>\n",
       "      <td>0.337827</td>\n",
       "      <td>0.000000</td>\n",
       "    </tr>\n",
       "    <tr>\n",
       "      <th>75%</th>\n",
       "      <td>0.559763</td>\n",
       "      <td>4361.637390</td>\n",
       "      <td>113.739540</td>\n",
       "      <td>39.139886</td>\n",
       "      <td>8.138688</td>\n",
       "      <td>6.431634</td>\n",
       "      <td>0.036845</td>\n",
       "      <td>12.969516</td>\n",
       "      <td>5.081244</td>\n",
       "      <td>6035.885700</td>\n",
       "      <td>...</td>\n",
       "      <td>6.238814</td>\n",
       "      <td>1.512060</td>\n",
       "      <td>0.535067</td>\n",
       "      <td>25.608406</td>\n",
       "      <td>127.591671</td>\n",
       "      <td>19035.709240</td>\n",
       "      <td>36.863947</td>\n",
       "      <td>67.931664</td>\n",
       "      <td>21.978000</td>\n",
       "      <td>0.000000</td>\n",
       "    </tr>\n",
       "    <tr>\n",
       "      <th>max</th>\n",
       "      <td>6.161666</td>\n",
       "      <td>28688.187660</td>\n",
       "      <td>1910.123198</td>\n",
       "      <td>630.518230</td>\n",
       "      <td>178.943634</td>\n",
       "      <td>38.270880</td>\n",
       "      <td>10.315851</td>\n",
       "      <td>38.971568</td>\n",
       "      <td>1463.693448</td>\n",
       "      <td>53060.599240</td>\n",
       "      <td>...</td>\n",
       "      <td>137.932739</td>\n",
       "      <td>1244.227020</td>\n",
       "      <td>31.365763</td>\n",
       "      <td>135.781294</td>\n",
       "      <td>1497.351958</td>\n",
       "      <td>143790.071200</td>\n",
       "      <td>81.210825</td>\n",
       "      <td>191.194764</td>\n",
       "      <td>21.978000</td>\n",
       "      <td>1.000000</td>\n",
       "    </tr>\n",
       "  </tbody>\n",
       "</table>\n",
       "<p>8 rows × 56 columns</p>\n",
       "</div>"
      ],
      "text/plain": [
       "               AB            AF           AH          AM          AR  \\\n",
       "count  617.000000    617.000000   617.000000  617.000000  617.000000   \n",
       "mean     0.477149   3502.013221   118.624513   38.968552   10.128242   \n",
       "std      0.468388   2300.322717   127.838950   69.728226   10.518877   \n",
       "min      0.081187    192.593280    85.200147    3.177522    8.138688   \n",
       "25%      0.252107   2197.345480    85.200147   12.270314    8.138688   \n",
       "50%      0.354659   3120.318960    85.200147   20.533110    8.138688   \n",
       "75%      0.559763   4361.637390   113.739540   39.139886    8.138688   \n",
       "max      6.161666  28688.187660  1910.123198  630.518230  178.943634   \n",
       "\n",
       "               AX          AY          AZ           BC           BD   ...  \\\n",
       "count  617.000000  617.000000  617.000000   617.000000    617.000000  ...   \n",
       "mean     5.545576    0.060320   10.566447     8.053012   5350.388655  ...   \n",
       "std      2.551696    0.416817    4.350645    65.166943   3021.326641  ...   \n",
       "min      0.699861    0.025578    3.396778     1.229900   1693.624320  ...   \n",
       "25%      4.128294    0.025578    8.129580     1.229900   4155.702870  ...   \n",
       "50%      5.031912    0.025578   10.461320     1.229900   4997.960730  ...   \n",
       "75%      6.431634    0.036845   12.969516     5.081244   6035.885700  ...   \n",
       "max     38.270880   10.315851   38.971568  1463.693448  53060.599240  ...   \n",
       "\n",
       "               FL           FR          FS          GB           GE  \\\n",
       "count  616.000000   617.000000  615.000000  617.000000   617.000000   \n",
       "mean     5.433199     3.533905    0.421501   20.724856   131.714987   \n",
       "std     11.496257    50.181948    1.305365    9.991907   144.181524   \n",
       "min      0.173229     0.497060    0.067730    4.102182    72.611063   \n",
       "25%      0.173229     0.497060    0.067730   14.036718    72.611063   \n",
       "50%      3.028141     1.131000    0.250601   18.771436    72.611063   \n",
       "75%      6.238814     1.512060    0.535067   25.608406   127.591671   \n",
       "max    137.932739  1244.227020   31.365763  135.781294  1497.351958   \n",
       "\n",
       "                  GF          GH          GI          GL       Class  \n",
       "count     617.000000  617.000000  617.000000  616.000000  617.000000  \n",
       "mean    14679.595398   31.489716   50.584437    8.530961    0.175041  \n",
       "std     19352.959387    9.864239   36.266251   10.327010    0.380310  \n",
       "min        13.038894    9.432735    0.897628    0.001129    0.000000  \n",
       "25%      2798.992584   25.034888   23.011684    0.124392    0.000000  \n",
       "50%      7838.273610   30.608946   41.007968    0.337827    0.000000  \n",
       "75%     19035.709240   36.863947   67.931664   21.978000    0.000000  \n",
       "max    143790.071200   81.210825  191.194764   21.978000    1.000000  \n",
       "\n",
       "[8 rows x 56 columns]"
      ]
     },
     "execution_count": 12,
     "metadata": {},
     "output_type": "execute_result"
    }
   ],
   "source": [
    "train_df.describe()"
   ]
  },
  {
   "cell_type": "code",
   "execution_count": 13,
   "id": "d4fb2058",
   "metadata": {
    "execution": {
     "iopub.execute_input": "2023-05-19T04:42:12.907897Z",
     "iopub.status.busy": "2023-05-19T04:42:12.906650Z",
     "iopub.status.idle": "2023-05-19T04:42:12.942920Z",
     "shell.execute_reply": "2023-05-19T04:42:12.941912Z"
    },
    "papermill": {
     "duration": 0.050276,
     "end_time": "2023-05-19T04:42:12.945849",
     "exception": false,
     "start_time": "2023-05-19T04:42:12.895573",
     "status": "completed"
    },
    "tags": []
   },
   "outputs": [],
   "source": [
    "from sklearn.impute import SimpleImputer\n",
    "from sklearn.preprocessing import MinMaxScaler,OneHotEncoder\n",
    "from sklearn.utils import class_weight\n",
    "from sklearn.metrics import accuracy_score\n",
    "\n",
    "imputer=SimpleImputer(strategy=\"mean\")\n",
    "numeric_df=pd.DataFrame(imputer.fit_transform(train_df[num_cols]),columns=num_cols\n",
    "                )\n",
    "\n",
    "\n",
    "encoder=OneHotEncoder(sparse_output=False,handle_unknown=\"ignore\")\n",
    "encoded_cat_df=pd.DataFrame(encoder.fit_transform(train_df[cat_cols]),columns=encoder.get_feature_names_out(cat_cols))\n",
    "\n",
    "processed_df=pd.concat([numeric_df,encoded_cat_df],axis=1)"
   ]
  },
  {
   "cell_type": "code",
   "execution_count": 14,
   "id": "98e3a189",
   "metadata": {
    "execution": {
     "iopub.execute_input": "2023-05-19T04:42:12.967207Z",
     "iopub.status.busy": "2023-05-19T04:42:12.966810Z",
     "iopub.status.idle": "2023-05-19T04:42:22.515794Z",
     "shell.execute_reply": "2023-05-19T04:42:22.514749Z"
    },
    "papermill": {
     "duration": 9.563316,
     "end_time": "2023-05-19T04:42:22.518917",
     "exception": false,
     "start_time": "2023-05-19T04:42:12.955601",
     "status": "completed"
    },
    "tags": []
   },
   "outputs": [
    {
     "name": "stderr",
     "output_type": "stream",
     "text": [
      "/opt/conda/lib/python3.10/site-packages/xgboost/sklearn.py:835: UserWarning: `early_stopping_rounds` in `fit` method is deprecated for better compatibility with scikit-learn, use `early_stopping_rounds` in constructor or`set_params` instead.\n",
      "  warnings.warn(\n"
     ]
    },
    {
     "name": "stdout",
     "output_type": "stream",
     "text": [
      "0.1127340618163131 168\n"
     ]
    },
    {
     "name": "stderr",
     "output_type": "stream",
     "text": [
      "/opt/conda/lib/python3.10/site-packages/xgboost/sklearn.py:835: UserWarning: `early_stopping_rounds` in `fit` method is deprecated for better compatibility with scikit-learn, use `early_stopping_rounds` in constructor or`set_params` instead.\n",
      "  warnings.warn(\n"
     ]
    },
    {
     "name": "stdout",
     "output_type": "stream",
     "text": [
      "0.10451393391504207 178\n"
     ]
    },
    {
     "name": "stderr",
     "output_type": "stream",
     "text": [
      "/opt/conda/lib/python3.10/site-packages/xgboost/sklearn.py:835: UserWarning: `early_stopping_rounds` in `fit` method is deprecated for better compatibility with scikit-learn, use `early_stopping_rounds` in constructor or`set_params` instead.\n",
      "  warnings.warn(\n"
     ]
    },
    {
     "name": "stdout",
     "output_type": "stream",
     "text": [
      "0.07917811587798172 177\n"
     ]
    },
    {
     "name": "stderr",
     "output_type": "stream",
     "text": [
      "/opt/conda/lib/python3.10/site-packages/xgboost/sklearn.py:835: UserWarning: `early_stopping_rounds` in `fit` method is deprecated for better compatibility with scikit-learn, use `early_stopping_rounds` in constructor or`set_params` instead.\n",
      "  warnings.warn(\n"
     ]
    },
    {
     "name": "stdout",
     "output_type": "stream",
     "text": [
      "0.11792579086193657 51\n"
     ]
    },
    {
     "name": "stderr",
     "output_type": "stream",
     "text": [
      "/opt/conda/lib/python3.10/site-packages/xgboost/sklearn.py:835: UserWarning: `early_stopping_rounds` in `fit` method is deprecated for better compatibility with scikit-learn, use `early_stopping_rounds` in constructor or`set_params` instead.\n",
      "  warnings.warn(\n"
     ]
    },
    {
     "name": "stdout",
     "output_type": "stream",
     "text": [
      "0.20659917178205436 99\n"
     ]
    },
    {
     "name": "stderr",
     "output_type": "stream",
     "text": [
      "/opt/conda/lib/python3.10/site-packages/xgboost/sklearn.py:835: UserWarning: `early_stopping_rounds` in `fit` method is deprecated for better compatibility with scikit-learn, use `early_stopping_rounds` in constructor or`set_params` instead.\n",
      "  warnings.warn(\n"
     ]
    },
    {
     "name": "stdout",
     "output_type": "stream",
     "text": [
      "0.3458468971039923 56\n"
     ]
    },
    {
     "name": "stderr",
     "output_type": "stream",
     "text": [
      "/opt/conda/lib/python3.10/site-packages/xgboost/sklearn.py:835: UserWarning: `early_stopping_rounds` in `fit` method is deprecated for better compatibility with scikit-learn, use `early_stopping_rounds` in constructor or`set_params` instead.\n",
      "  warnings.warn(\n"
     ]
    },
    {
     "name": "stdout",
     "output_type": "stream",
     "text": [
      "0.4384743571123632 39\n"
     ]
    },
    {
     "name": "stderr",
     "output_type": "stream",
     "text": [
      "/opt/conda/lib/python3.10/site-packages/xgboost/sklearn.py:835: UserWarning: `early_stopping_rounds` in `fit` method is deprecated for better compatibility with scikit-learn, use `early_stopping_rounds` in constructor or`set_params` instead.\n",
      "  warnings.warn(\n"
     ]
    },
    {
     "name": "stdout",
     "output_type": "stream",
     "text": [
      "0.1085807297108006 37\n"
     ]
    },
    {
     "name": "stderr",
     "output_type": "stream",
     "text": [
      "/opt/conda/lib/python3.10/site-packages/xgboost/sklearn.py:835: UserWarning: `early_stopping_rounds` in `fit` method is deprecated for better compatibility with scikit-learn, use `early_stopping_rounds` in constructor or`set_params` instead.\n",
      "  warnings.warn(\n"
     ]
    },
    {
     "name": "stdout",
     "output_type": "stream",
     "text": [
      "0.7741680209175318 179\n"
     ]
    },
    {
     "name": "stderr",
     "output_type": "stream",
     "text": [
      "/opt/conda/lib/python3.10/site-packages/xgboost/sklearn.py:835: UserWarning: `early_stopping_rounds` in `fit` method is deprecated for better compatibility with scikit-learn, use `early_stopping_rounds` in constructor or`set_params` instead.\n",
      "  warnings.warn(\n"
     ]
    },
    {
     "name": "stdout",
     "output_type": "stream",
     "text": [
      "0.2550892827533222 46\n"
     ]
    },
    {
     "name": "stderr",
     "output_type": "stream",
     "text": [
      "/opt/conda/lib/python3.10/site-packages/xgboost/sklearn.py:835: UserWarning: `early_stopping_rounds` in `fit` method is deprecated for better compatibility with scikit-learn, use `early_stopping_rounds` in constructor or`set_params` instead.\n",
      "  warnings.warn(\n"
     ]
    },
    {
     "name": "stdout",
     "output_type": "stream",
     "text": [
      "0.05848824286533535 179\n"
     ]
    },
    {
     "name": "stderr",
     "output_type": "stream",
     "text": [
      "/opt/conda/lib/python3.10/site-packages/xgboost/sklearn.py:835: UserWarning: `early_stopping_rounds` in `fit` method is deprecated for better compatibility with scikit-learn, use `early_stopping_rounds` in constructor or`set_params` instead.\n",
      "  warnings.warn(\n"
     ]
    },
    {
     "name": "stdout",
     "output_type": "stream",
     "text": [
      "0.7250769790720445 11\n"
     ]
    },
    {
     "name": "stderr",
     "output_type": "stream",
     "text": [
      "/opt/conda/lib/python3.10/site-packages/xgboost/sklearn.py:835: UserWarning: `early_stopping_rounds` in `fit` method is deprecated for better compatibility with scikit-learn, use `early_stopping_rounds` in constructor or`set_params` instead.\n",
      "  warnings.warn(\n"
     ]
    },
    {
     "name": "stdout",
     "output_type": "stream",
     "text": [
      "0.053201756063789206 112\n"
     ]
    },
    {
     "name": "stderr",
     "output_type": "stream",
     "text": [
      "/opt/conda/lib/python3.10/site-packages/xgboost/sklearn.py:835: UserWarning: `early_stopping_rounds` in `fit` method is deprecated for better compatibility with scikit-learn, use `early_stopping_rounds` in constructor or`set_params` instead.\n",
      "  warnings.warn(\n"
     ]
    },
    {
     "name": "stdout",
     "output_type": "stream",
     "text": [
      "0.16757183364034972 22\n"
     ]
    },
    {
     "name": "stderr",
     "output_type": "stream",
     "text": [
      "/opt/conda/lib/python3.10/site-packages/xgboost/sklearn.py:835: UserWarning: `early_stopping_rounds` in `fit` method is deprecated for better compatibility with scikit-learn, use `early_stopping_rounds` in constructor or`set_params` instead.\n",
      "  warnings.warn(\n"
     ]
    },
    {
     "name": "stdout",
     "output_type": "stream",
     "text": [
      "0.33309295812703393 11\n"
     ]
    },
    {
     "name": "stderr",
     "output_type": "stream",
     "text": [
      "/opt/conda/lib/python3.10/site-packages/xgboost/sklearn.py:835: UserWarning: `early_stopping_rounds` in `fit` method is deprecated for better compatibility with scikit-learn, use `early_stopping_rounds` in constructor or`set_params` instead.\n",
      "  warnings.warn(\n"
     ]
    },
    {
     "name": "stdout",
     "output_type": "stream",
     "text": [
      "0.3705301991352736 17\n"
     ]
    },
    {
     "name": "stderr",
     "output_type": "stream",
     "text": [
      "/opt/conda/lib/python3.10/site-packages/xgboost/sklearn.py:835: UserWarning: `early_stopping_rounds` in `fit` method is deprecated for better compatibility with scikit-learn, use `early_stopping_rounds` in constructor or`set_params` instead.\n",
      "  warnings.warn(\n"
     ]
    },
    {
     "name": "stdout",
     "output_type": "stream",
     "text": [
      "0.32426189823163454 156\n"
     ]
    },
    {
     "name": "stderr",
     "output_type": "stream",
     "text": [
      "/opt/conda/lib/python3.10/site-packages/xgboost/sklearn.py:835: UserWarning: `early_stopping_rounds` in `fit` method is deprecated for better compatibility with scikit-learn, use `early_stopping_rounds` in constructor or`set_params` instead.\n",
      "  warnings.warn(\n"
     ]
    },
    {
     "name": "stdout",
     "output_type": "stream",
     "text": [
      "0.11480185850209249 179\n"
     ]
    },
    {
     "name": "stderr",
     "output_type": "stream",
     "text": [
      "/opt/conda/lib/python3.10/site-packages/xgboost/sklearn.py:835: UserWarning: `early_stopping_rounds` in `fit` method is deprecated for better compatibility with scikit-learn, use `early_stopping_rounds` in constructor or`set_params` instead.\n",
      "  warnings.warn(\n"
     ]
    },
    {
     "name": "stdout",
     "output_type": "stream",
     "text": [
      "0.1657009584951001 51\n"
     ]
    },
    {
     "name": "stderr",
     "output_type": "stream",
     "text": [
      "/opt/conda/lib/python3.10/site-packages/xgboost/sklearn.py:835: UserWarning: `early_stopping_rounds` in `fit` method is deprecated for better compatibility with scikit-learn, use `early_stopping_rounds` in constructor or`set_params` instead.\n",
      "  warnings.warn(\n"
     ]
    },
    {
     "name": "stdout",
     "output_type": "stream",
     "text": [
      "0.5333516586504433 19\n",
      "0.2694594352317217\n"
     ]
    },
    {
     "data": {
      "text/plain": [
       "array([0.08445979, 0.01105709, 0.07285611, 0.00978163, 0.05020633,\n",
       "       0.00164571, 0.01499111, 0.        , 0.02026878, 0.00358595,\n",
       "       0.0183636 , 0.00419788, 0.01921849, 0.0243384 , 0.01267986,\n",
       "       0.00585862, 0.00273855, 0.00722007, 0.00426948, 0.01050617,\n",
       "       0.00126961, 0.05446497, 0.00532793, 0.01203613, 0.00040766,\n",
       "       0.01821543, 0.00761194, 0.        , 0.04627773, 0.04634784,\n",
       "       0.01743227, 0.00383384, 0.04563283, 0.01912679, 0.00946053,\n",
       "       0.02199112, 0.04616521, 0.01245836, 0.00589045, 0.01364812,\n",
       "       0.01074969, 0.00552548, 0.00258957, 0.02375997, 0.01426177,\n",
       "       0.01128411, 0.02533696, 0.00829061, 0.00297274, 0.00283063,\n",
       "       0.00217103, 0.02575311, 0.00523566, 0.00335044, 0.09004586,\n",
       "       0.        , 0.        ], dtype=float32)"
      ]
     },
     "execution_count": 14,
     "metadata": {},
     "output_type": "execute_result"
    }
   ],
   "source": [
    "FOLDS=20\n",
    "SEED=1004\n",
    "SUM=[]\n",
    "X=processed_df\n",
    "y=train_df[\"Class\"]\n",
    "xgb_models = []\n",
    "xgb_oof = []\n",
    "f_imp = []\n",
    "weights=class_weight.compute_sample_weight(\"balanced\",y)\n",
    "skf=StratifiedKFold(n_splits=FOLDS,shuffle=True,random_state=SEED)\n",
    "for fold,(train_idx,val_idx) in enumerate(skf.split(X,y)):\n",
    "    X_train,y_train=X.iloc[train_idx],y.iloc[train_idx]\n",
    "    X_valid,y_valid=X.iloc[val_idx],y.iloc[val_idx]\n",
    "    watchlist=[(X_train,y_train),(X_valid,y_valid)]\n",
    "    \n",
    "    model=XGBClassifier(n_estimators=180,max_depth=6,colsample_bytree=0.7)\n",
    "    model.fit(X_train,y_train,sample_weight=weights[train_idx],eval_set=watchlist,early_stopping_rounds=300,verbose=0)\n",
    "    pred=model.predict_proba(X_valid)[:,1]\n",
    "    val_score=log_loss(y_valid,pred,sample_weight=weights[val_idx])\n",
    "    best_iter=model.best_iteration\n",
    "    idx_pred_target=np.vstack([val_idx,pred,y_valid])\n",
    "    f_imp.append({i: j for i, j in zip(X.columns, model.feature_importances_)})\n",
    "    SUM.append(val_score)\n",
    "    xgb_oof.append(idx_pred_target)\n",
    "    xgb_models.append(model)\n",
    "    print(val_score,best_iter)\n",
    "\n",
    "print(mean(SUM))\n",
    "model.feature_importances_ "
   ]
  },
  {
   "cell_type": "code",
   "execution_count": 15,
   "id": "fdb29f01",
   "metadata": {
    "execution": {
     "iopub.execute_input": "2023-05-19T04:42:22.548306Z",
     "iopub.status.busy": "2023-05-19T04:42:22.547851Z",
     "iopub.status.idle": "2023-05-19T04:42:22.554598Z",
     "shell.execute_reply": "2023-05-19T04:42:22.553176Z"
    },
    "papermill": {
     "duration": 0.024693,
     "end_time": "2023-05-19T04:42:22.557145",
     "exception": false,
     "start_time": "2023-05-19T04:42:22.532452",
     "status": "completed"
    },
    "tags": []
   },
   "outputs": [],
   "source": [
    "test_df=test_df.drop([\"Id\"],axis=1)"
   ]
  },
  {
   "cell_type": "code",
   "execution_count": 16,
   "id": "6bcbd9d9",
   "metadata": {
    "execution": {
     "iopub.execute_input": "2023-05-19T04:42:22.587578Z",
     "iopub.status.busy": "2023-05-19T04:42:22.587132Z",
     "iopub.status.idle": "2023-05-19T04:42:22.594624Z",
     "shell.execute_reply": "2023-05-19T04:42:22.593291Z"
    },
    "papermill": {
     "duration": 0.026772,
     "end_time": "2023-05-19T04:42:22.597187",
     "exception": false,
     "start_time": "2023-05-19T04:42:22.570415",
     "status": "completed"
    },
    "tags": []
   },
   "outputs": [],
   "source": [
    "num_cols = test_df.select_dtypes(include=[\"float64\"]).columns.tolist()\n",
    "cat_cols = test_df.select_dtypes(include=[\"object\"]).columns.tolist()"
   ]
  },
  {
   "cell_type": "code",
   "execution_count": 17,
   "id": "e963c431",
   "metadata": {
    "execution": {
     "iopub.execute_input": "2023-05-19T04:42:22.626848Z",
     "iopub.status.busy": "2023-05-19T04:42:22.626163Z",
     "iopub.status.idle": "2023-05-19T04:42:22.642414Z",
     "shell.execute_reply": "2023-05-19T04:42:22.641316Z"
    },
    "papermill": {
     "duration": 0.034005,
     "end_time": "2023-05-19T04:42:22.645157",
     "exception": false,
     "start_time": "2023-05-19T04:42:22.611152",
     "status": "completed"
    },
    "tags": []
   },
   "outputs": [],
   "source": [
    "imputer=SimpleImputer(strategy=\"mean\")\n",
    "numeric_df=pd.DataFrame(imputer.fit_transform(test_df[num_cols]),columns=num_cols\n",
    "                )\n",
    "\n",
    "\n",
    "encoder=OneHotEncoder(sparse_output=False,handle_unknown=\"ignore\")\n",
    "encoded_cat_df=pd.DataFrame(encoder.fit_transform(test_df[cat_cols]),columns=encoder.get_feature_names_out(cat_cols))\n",
    "test_df=pd.concat([numeric_df,encoded_cat_df],axis=1)"
   ]
  },
  {
   "cell_type": "code",
   "execution_count": 18,
   "id": "bc25221e",
   "metadata": {
    "execution": {
     "iopub.execute_input": "2023-05-19T04:42:22.675099Z",
     "iopub.status.busy": "2023-05-19T04:42:22.674650Z",
     "iopub.status.idle": "2023-05-19T04:42:22.681353Z",
     "shell.execute_reply": "2023-05-19T04:42:22.679929Z"
    },
    "papermill": {
     "duration": 0.025236,
     "end_time": "2023-05-19T04:42:22.684036",
     "exception": false,
     "start_time": "2023-05-19T04:42:22.658800",
     "status": "completed"
    },
    "tags": []
   },
   "outputs": [],
   "source": [
    "test_df[\"EJ_B\"]=0"
   ]
  },
  {
   "cell_type": "code",
   "execution_count": 19,
   "id": "47f62dd0",
   "metadata": {
    "execution": {
     "iopub.execute_input": "2023-05-19T04:42:22.713084Z",
     "iopub.status.busy": "2023-05-19T04:42:22.712413Z",
     "iopub.status.idle": "2023-05-19T04:42:22.724495Z",
     "shell.execute_reply": "2023-05-19T04:42:22.723538Z"
    },
    "papermill": {
     "duration": 0.03028,
     "end_time": "2023-05-19T04:42:22.727693",
     "exception": false,
     "start_time": "2023-05-19T04:42:22.697413",
     "status": "completed"
    },
    "tags": []
   },
   "outputs": [],
   "source": [
    "pred_df=pd.DataFrame(model.predict_proba(test_df),columns=[\"class_0\",\"class_1\"])"
   ]
  },
  {
   "cell_type": "code",
   "execution_count": 20,
   "id": "1e7d3f1c",
   "metadata": {
    "execution": {
     "iopub.execute_input": "2023-05-19T04:42:22.757746Z",
     "iopub.status.busy": "2023-05-19T04:42:22.757352Z",
     "iopub.status.idle": "2023-05-19T04:42:22.770268Z",
     "shell.execute_reply": "2023-05-19T04:42:22.769249Z"
    },
    "papermill": {
     "duration": 0.030659,
     "end_time": "2023-05-19T04:42:22.773008",
     "exception": false,
     "start_time": "2023-05-19T04:42:22.742349",
     "status": "completed"
    },
    "tags": []
   },
   "outputs": [],
   "source": [
    "submission_df = pd.concat([test_Id,pred_df],axis=1)\n",
    "submission_df.to_csv('submission.csv', index=False)"
   ]
  },
  {
   "cell_type": "code",
   "execution_count": 21,
   "id": "bb2f9a65",
   "metadata": {
    "execution": {
     "iopub.execute_input": "2023-05-19T04:42:22.802499Z",
     "iopub.status.busy": "2023-05-19T04:42:22.802112Z",
     "iopub.status.idle": "2023-05-19T04:42:22.813711Z",
     "shell.execute_reply": "2023-05-19T04:42:22.812573Z"
    },
    "papermill": {
     "duration": 0.029139,
     "end_time": "2023-05-19T04:42:22.816186",
     "exception": false,
     "start_time": "2023-05-19T04:42:22.787047",
     "status": "completed"
    },
    "tags": []
   },
   "outputs": [
    {
     "data": {
      "text/html": [
       "<div>\n",
       "<style scoped>\n",
       "    .dataframe tbody tr th:only-of-type {\n",
       "        vertical-align: middle;\n",
       "    }\n",
       "\n",
       "    .dataframe tbody tr th {\n",
       "        vertical-align: top;\n",
       "    }\n",
       "\n",
       "    .dataframe thead th {\n",
       "        text-align: right;\n",
       "    }\n",
       "</style>\n",
       "<table border=\"1\" class=\"dataframe\">\n",
       "  <thead>\n",
       "    <tr style=\"text-align: right;\">\n",
       "      <th></th>\n",
       "      <th>Id</th>\n",
       "      <th>class_0</th>\n",
       "      <th>class_1</th>\n",
       "    </tr>\n",
       "  </thead>\n",
       "  <tbody>\n",
       "    <tr>\n",
       "      <th>0</th>\n",
       "      <td>00eed32682bb</td>\n",
       "      <td>0.848632</td>\n",
       "      <td>0.151368</td>\n",
       "    </tr>\n",
       "    <tr>\n",
       "      <th>1</th>\n",
       "      <td>010ebe33f668</td>\n",
       "      <td>0.848632</td>\n",
       "      <td>0.151368</td>\n",
       "    </tr>\n",
       "    <tr>\n",
       "      <th>2</th>\n",
       "      <td>02fa521e1838</td>\n",
       "      <td>0.848632</td>\n",
       "      <td>0.151368</td>\n",
       "    </tr>\n",
       "    <tr>\n",
       "      <th>3</th>\n",
       "      <td>040e15f562a2</td>\n",
       "      <td>0.848632</td>\n",
       "      <td>0.151368</td>\n",
       "    </tr>\n",
       "    <tr>\n",
       "      <th>4</th>\n",
       "      <td>046e85c7cc7f</td>\n",
       "      <td>0.848632</td>\n",
       "      <td>0.151368</td>\n",
       "    </tr>\n",
       "  </tbody>\n",
       "</table>\n",
       "</div>"
      ],
      "text/plain": [
       "             Id   class_0   class_1\n",
       "0  00eed32682bb  0.848632  0.151368\n",
       "1  010ebe33f668  0.848632  0.151368\n",
       "2  02fa521e1838  0.848632  0.151368\n",
       "3  040e15f562a2  0.848632  0.151368\n",
       "4  046e85c7cc7f  0.848632  0.151368"
      ]
     },
     "execution_count": 21,
     "metadata": {},
     "output_type": "execute_result"
    }
   ],
   "source": [
    "submission_df"
   ]
  },
  {
   "cell_type": "code",
   "execution_count": null,
   "id": "3e256a89",
   "metadata": {
    "papermill": {
     "duration": 0.013321,
     "end_time": "2023-05-19T04:42:22.842976",
     "exception": false,
     "start_time": "2023-05-19T04:42:22.829655",
     "status": "completed"
    },
    "tags": []
   },
   "outputs": [],
   "source": []
  }
 ],
 "metadata": {
  "kernelspec": {
   "display_name": "Python 3",
   "language": "python",
   "name": "python3"
  },
  "language_info": {
   "codemirror_mode": {
    "name": "ipython",
    "version": 3
   },
   "file_extension": ".py",
   "mimetype": "text/x-python",
   "name": "python",
   "nbconvert_exporter": "python",
   "pygments_lexer": "ipython3",
   "version": "3.10.10"
  },
  "papermill": {
   "default_parameters": {},
   "duration": 26.59892,
   "end_time": "2023-05-19T04:42:23.982901",
   "environment_variables": {},
   "exception": null,
   "input_path": "__notebook__.ipynb",
   "output_path": "__notebook__.ipynb",
   "parameters": {},
   "start_time": "2023-05-19T04:41:57.383981",
   "version": "2.4.0"
  }
 },
 "nbformat": 4,
 "nbformat_minor": 5
}
